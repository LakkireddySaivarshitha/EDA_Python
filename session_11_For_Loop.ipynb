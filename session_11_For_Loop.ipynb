{
 "cells": [
  {
   "cell_type": "code",
   "execution_count": null,
   "id": "aa3a2c70",
   "metadata": {},
   "outputs": [],
   "source": []
  },
  {
   "cell_type": "markdown",
   "id": "1041374c",
   "metadata": {},
   "source": [
    "**Loops**\n",
    "\n",
    "- function- reuse of the code\n",
    "\n",
    "\n",
    "-  loop : reuse the codes for multipul times anless the given candition satisfy\n",
    "    \n",
    "   - for \n",
    "\n",
    "   - while\n",
    "    \n",
    "- any loop require 3 things\n",
    "\n",
    "    - start point\n",
    "     \n",
    "    - what is the condition to stop\n",
    "     \n",
    "    - increment  or dicrement\n",
    "    \n",
    "\n",
    "- what is the condition to the stop in for loop we will apply all above 3 in a single line\n",
    "\n",
    "\n",
    "- in while loop we will aply all above 3 in 3 different lines"
   ]
  },
  {
   "cell_type": "markdown",
   "id": "4efe7d5f",
   "metadata": {},
   "source": [
    "## For loop\n",
    "\n",
    "**method -1**"
   ]
  },
  {
   "cell_type": "code",
   "execution_count": null,
   "id": "35ca0d1b",
   "metadata": {},
   "outputs": [],
   "source": [
    "# syntax\n",
    "for i in range(<stop>):\n",
    "    print(i)"
   ]
  },
  {
   "cell_type": "code",
   "execution_count": 1,
   "id": "3a629d03",
   "metadata": {},
   "outputs": [
    {
     "name": "stdout",
     "output_type": "stream",
     "text": [
      "0\n",
      "1\n",
      "2\n"
     ]
    }
   ],
   "source": [
    "print(0)\n",
    "print(1)\n",
    "print(2)\n"
   ]
  },
  {
   "cell_type": "code",
   "execution_count": 2,
   "id": "0cebabe8",
   "metadata": {},
   "outputs": [
    {
     "name": "stdout",
     "output_type": "stream",
     "text": [
      "0\n",
      "1\n",
      "2\n"
     ]
    }
   ],
   "source": [
    "for i in range(3):\n",
    "    print(i)"
   ]
  },
  {
   "cell_type": "markdown",
   "id": "41d7618f",
   "metadata": {},
   "source": [
    "**Note**\n",
    "\n",
    "-  the difult start point is zero\n",
    "\n",
    "\n",
    "   **python index start with zero**\n",
    "   \n",
    "   \n",
    "   \n",
    "   \n",
    "   \n",
    "   \n",
    "\n",
    "    - default increment is 1\n",
    "\n",
    "\n",
    "    - last value=stop-1"
   ]
  },
  {
   "cell_type": "markdown",
   "id": "6d74ba58",
   "metadata": {},
   "source": [
    "**range(5)**\n",
    "\n",
    "- start value=0\n",
    "\n",
    "- increment=1\n",
    "\n",
    "- last value=5-1=4"
   ]
  },
  {
   "cell_type": "code",
   "execution_count": 4,
   "id": "a4bce0a8",
   "metadata": {},
   "outputs": [
    {
     "name": "stdout",
     "output_type": "stream",
     "text": [
      "0\n",
      "1\n",
      "2\n",
      "3\n",
      "4\n"
     ]
    }
   ],
   "source": [
    "for i in range(5):\n",
    "    print(i)"
   ]
  },
  {
   "cell_type": "code",
   "execution_count": 5,
   "id": "c13a7550",
   "metadata": {},
   "outputs": [
    {
     "name": "stdout",
     "output_type": "stream",
     "text": [
      "0 1 2\n"
     ]
    }
   ],
   "source": [
    "print(0,end=' ')\n",
    "print(1,end=' ')\n",
    "print(2)\n"
   ]
  },
  {
   "cell_type": "code",
   "execution_count": 6,
   "id": "72029f08",
   "metadata": {},
   "outputs": [
    {
     "name": "stdout",
     "output_type": "stream",
     "text": [
      "0 1 2 3 4 "
     ]
    }
   ],
   "source": [
    "for i in range(5):\n",
    "    print(i,end=' ')"
   ]
  },
  {
   "cell_type": "code",
   "execution_count": null,
   "id": "8eef5ec6",
   "metadata": {},
   "outputs": [],
   "source": [
    "# i want to print 3 times hello"
   ]
  },
  {
   "cell_type": "code",
   "execution_count": 2,
   "id": "47add604",
   "metadata": {},
   "outputs": [
    {
     "name": "stdout",
     "output_type": "stream",
     "text": [
      "hello\n",
      "hello\n",
      "hello\n"
     ]
    }
   ],
   "source": [
    "for i in range(3):\n",
    "    print('hello')"
   ]
  },
  {
   "cell_type": "markdown",
   "id": "bc59be19",
   "metadata": {},
   "source": [
    "# method-2"
   ]
  },
  {
   "cell_type": "markdown",
   "id": "608e63ad",
   "metadata": {},
   "source": [
    "**range(start,stop)**\n",
    "\n",
    "- start value = start\n",
    "\n",
    "- difult increment by 1\n",
    "\n",
    "- last value=stop-1"
   ]
  },
  {
   "cell_type": "code",
   "execution_count": null,
   "id": "d0a0db41",
   "metadata": {},
   "outputs": [],
   "source": [
    "# syntax\n",
    "\n",
    "for i in range(<start,stop>):\n",
    "    print(i)"
   ]
  },
  {
   "cell_type": "code",
   "execution_count": 10,
   "id": "c7104043",
   "metadata": {},
   "outputs": [
    {
     "name": "stdout",
     "output_type": "stream",
     "text": [
      "2 3 4 5 6 7 8 9 "
     ]
    }
   ],
   "source": [
    "for i in range (2,10):\n",
    "    print(i,end=' ')"
   ]
  },
  {
   "cell_type": "code",
   "execution_count": null,
   "id": "da53a515",
   "metadata": {},
   "outputs": [],
   "source": [
    "# wap ask the user print the squer of the numbers from 1 to 5"
   ]
  },
  {
   "cell_type": "code",
   "execution_count": 12,
   "id": "be8cdfdd",
   "metadata": {},
   "outputs": [
    {
     "name": "stdout",
     "output_type": "stream",
     "text": [
      "the squer of 1 is 1\n",
      "the squer of 2 is 4\n",
      "the squer of 3 is 9\n",
      "the squer of 4 is 16\n",
      "the squer of 5 is 25\n"
     ]
    }
   ],
   "source": [
    "for i in range(1,6):\n",
    "    print(f\"the squer of {i} is {i*i}\")"
   ]
  },
  {
   "cell_type": "code",
   "execution_count": 6,
   "id": "c3dee8cc",
   "metadata": {},
   "outputs": [
    {
     "name": "stdout",
     "output_type": "stream",
     "text": [
      "the squer of 91 is 8281\n"
     ]
    }
   ],
   "source": [
    "# wap ask th user take 5 random numbers and print the squer of the random numbers\n",
    "\n",
    "import random\n",
    "num=random.randint(1,100)\n",
    "print(f\"the squer of {num} is {num*num}\")"
   ]
  },
  {
   "cell_type": "code",
   "execution_count": 4,
   "id": "d653085f",
   "metadata": {},
   "outputs": [
    {
     "name": "stdout",
     "output_type": "stream",
     "text": [
      "the squer of 68 is 4624\n",
      "the squer of 80 is 6400\n",
      "the squer of 59 is 3481\n",
      "the squer of 81 is 6561\n",
      "the squer of 88 is 7744\n"
     ]
    }
   ],
   "source": [
    "import random\n",
    "for i in range(5):\n",
    "    num=random.randint(1,100)\n",
    "    print(f\"the squer of {num} is {num*num}\")"
   ]
  },
  {
   "cell_type": "code",
   "execution_count": null,
   "id": "fb76fb21",
   "metadata": {},
   "outputs": [],
   "source": [
    "# creat a function on reuse the code line\n",
    "# call the function inside the function"
   ]
  },
  {
   "cell_type": "code",
   "execution_count": 19,
   "id": "512cb7de",
   "metadata": {
    "scrolled": true
   },
   "outputs": [
    {
     "name": "stdout",
     "output_type": "stream",
     "text": [
      "the squer of 48 is 2304\n",
      "the squer of 69 is 4761\n",
      "the squer of 7 is 49\n",
      "the squer of 100 is 10000\n",
      "the squer of 88 is 7744\n"
     ]
    }
   ],
   "source": [
    "def squer():\n",
    "    num=random.randint(1,100)\n",
    "    print(f\"the squer of {num} is {num*num}\")\n",
    "    \n",
    "for i in range(5):\n",
    "    squer()"
   ]
  },
  {
   "cell_type": "code",
   "execution_count": 36,
   "id": "2e5d824e",
   "metadata": {},
   "outputs": [
    {
     "name": "stdout",
     "output_type": "stream",
     "text": [
      "the squer of 79 is 6241\n",
      "the squer of 3 is 9\n",
      "the squer of 98 is 9604\n",
      "the squer of 25 is 625\n",
      "the squer of 79 is 6241\n"
     ]
    }
   ],
   "source": [
    "import random\n",
    "def squer():\n",
    "    num=random.randint(1,100)\n",
    "    return(f\"the squer of {num} is {num*num}\")\n",
    "for i in range(5):\n",
    "    ans=squer()\n",
    "    print(ans)"
   ]
  },
  {
   "cell_type": "code",
   "execution_count": 3,
   "id": "2d8e4673",
   "metadata": {},
   "outputs": [
    {
     "name": "stdout",
     "output_type": "stream",
     "text": [
      "the squer of 9 is 81\n",
      "the squer of 52 is 2704\n",
      "the squer of 7 is 49\n",
      "the squer of 66 is 4356\n",
      "the squer of 84 is 7056\n"
     ]
    }
   ],
   "source": [
    "import random\n",
    "def squer1():\n",
    "    for i in range(5):\n",
    "        num=random.randint(1,100)\n",
    "        print(f\"the squer of {num} is {num*num}\")\n",
    "\n",
    "squer1()    "
   ]
  },
  {
   "cell_type": "code",
   "execution_count": null,
   "id": "7508e1c5",
   "metadata": {},
   "outputs": [],
   "source": [
    "# wap ask the iser print the even or add values between 11 to 21"
   ]
  },
  {
   "cell_type": "code",
   "execution_count": 29,
   "id": "98a30eb3",
   "metadata": {},
   "outputs": [
    {
     "name": "stdout",
     "output_type": "stream",
     "text": [
      "11 is odd number\n",
      "12 is even number\n",
      "13 is odd number\n",
      "14 is even number\n",
      "15 is odd number\n",
      "16 is even number\n",
      "17 is odd number\n",
      "18 is even number\n",
      "19 is odd number\n",
      "20 is even number\n"
     ]
    }
   ],
   "source": [
    "for i in range(11,21):\n",
    "    if i%2==0:\n",
    "        print(f\"{i} is even number\")\n",
    "    else:\n",
    "        print(f\"{i} is odd number\")\n",
    "        "
   ]
  },
  {
   "cell_type": "code",
   "execution_count": null,
   "id": "dc27a41e",
   "metadata": {},
   "outputs": [],
   "source": [
    "# wap ask the user enter a value  keyboard 5 times \n",
    "# print that value is even or odd"
   ]
  },
  {
   "cell_type": "code",
   "execution_count": 4,
   "id": "83336960",
   "metadata": {},
   "outputs": [
    {
     "name": "stdout",
     "output_type": "stream",
     "text": [
      "enter the number:2\n",
      "2 is an even number:\n",
      "enter the number:12\n",
      "12 is an even number:\n",
      "enter the number:3\n",
      "3 is an odd number:\n",
      "enter the number:4\n",
      "4 is an even number:\n",
      "enter the number:8\n",
      "8 is an even number:\n"
     ]
    }
   ],
   "source": [
    "for i in range(5):\n",
    "    num=eval(input(\"enter the number:\"))\n",
    "    if num%2==0:\n",
    "        print(f\"{num} is an even number:\")\n",
    "    else:\n",
    "        print(f\"{num} is an odd number:\")      "
   ]
  },
  {
   "cell_type": "markdown",
   "id": "723bcbae",
   "metadata": {},
   "source": [
    "# method-3\n",
    "\n",
    "**range(start,stop,step)**\n",
    "\n",
    "- star= always a start value\n",
    "\n",
    "- step: increment value\n",
    "    \n",
    "  - if increment  value is postive\n",
    "    \n",
    "  - postive valu means postive direction (Forwerd)\n",
    "    \n",
    "    - last=stop-1\n",
    "        \n",
    "    - if increment value is nagitive\n",
    "    \n",
    "     - nagative value means nagative direction(backward)\n",
    "        \n",
    "     - last=stop+1\n",
    "    \n",
    "        \n",
    "    "
   ]
  },
  {
   "cell_type": "code",
   "execution_count": 32,
   "id": "a72d97fd",
   "metadata": {},
   "outputs": [
    {
     "name": "stdout",
     "output_type": "stream",
     "text": [
      "2 4 6 8 10 12 14 16 18 "
     ]
    }
   ],
   "source": [
    "# case-1\n",
    "\n",
    "for i in range(2,20,2):\n",
    "        print(i,end=' ')\n",
    "        \n",
    "# start=2\n",
    "# step=  =ve direction\n",
    "# last stop -1=20=1=10\n",
    "# first write "
   ]
  },
  {
   "cell_type": "code",
   "execution_count": 34,
   "id": "4a164492",
   "metadata": {},
   "outputs": [],
   "source": [
    "# case-2\n",
    "\n",
    "for i in range(2,20,-2):\n",
    "        print(i,end=' ')\n",
    " # no error no ans\n",
    "\n",
    "# start=2\n",
    "# step=2  nagative direction\n",
    "# last= stap+1:20+1=21"
   ]
  },
  {
   "cell_type": "code",
   "execution_count": 35,
   "id": "15253221",
   "metadata": {},
   "outputs": [
    {
     "name": "stdout",
     "output_type": "stream",
     "text": [
      "2 0 -2 -4 -6 -8 -10 -12 -14 -16 -18 "
     ]
    }
   ],
   "source": [
    "# case-3\n",
    "\n",
    "for i in range(2,-20,-2):\n",
    "        print(i,end=' ')\n",
    "        \n",
    "# start=2\n",
    "# step=2  nagative direction\n",
    "# last= stap+1: -20+1=-19        "
   ]
  },
  {
   "cell_type": "code",
   "execution_count": 36,
   "id": "4dfdd9af",
   "metadata": {},
   "outputs": [
    {
     "name": "stdout",
     "output_type": "stream",
     "text": [
      "-2 -4 -6 -8 -10 -12 -14 -16 -18 "
     ]
    }
   ],
   "source": [
    "# case-4\n",
    "\n",
    "for i in range(-2,-20,-2):\n",
    "        print(i,end=' ')\n",
    "        \n",
    "# start=2\n",
    "# step=2  nagative direction\n",
    "# last= stap+1: -20+1=-19                "
   ]
  },
  {
   "cell_type": "code",
   "execution_count": 37,
   "id": "b65bff99",
   "metadata": {},
   "outputs": [],
   "source": [
    "# case-4\n",
    "\n",
    "for i in range(-2,20,-2):\n",
    "        print(i,end=' ')\n",
    "        \n",
    "# star= -2\n",
    "# step2= nagative\n",
    "# last= 20+1=21\n",
    "        "
   ]
  },
  {
   "cell_type": "code",
   "execution_count": 2,
   "id": "0f4d607a",
   "metadata": {},
   "outputs": [
    {
     "name": "stdout",
     "output_type": "stream",
     "text": [
      "3 6 9 12 15 18 "
     ]
    }
   ],
   "source": [
    "for i in range(3,19,3):\n",
    "    print(i,end=' ')\n",
    "    \n",
    "# star= 3 \n",
    "# step=: +ve \n",
    "# last=19-1=18"
   ]
  },
  {
   "cell_type": "code",
   "execution_count": 7,
   "id": "e559710a",
   "metadata": {},
   "outputs": [],
   "source": [
    "for i in range(3,19,-3):\n",
    "        print(i,end=' ')\n",
    "        \n",
    "# start = 3\n",
    "# step 2 = -ve \n",
    "#last = 19+1=20"
   ]
  },
  {
   "cell_type": "code",
   "execution_count": 6,
   "id": "d0d7e426",
   "metadata": {},
   "outputs": [],
   "source": [
    "for i in range (3,-19,3):\n",
    "    print(i,end=' ')\n",
    "# start=3\n",
    "# step2=-ve\n",
    "# last = 19+1=20"
   ]
  },
  {
   "cell_type": "code",
   "execution_count": 8,
   "id": "5ad1547d",
   "metadata": {},
   "outputs": [
    {
     "name": "stdout",
     "output_type": "stream",
     "text": [
      "3 0 -3 -6 -9 -12 -15 -18 "
     ]
    }
   ],
   "source": [
    "for i in range (3,-19,-3):\n",
    "    print(i,end=' ')\n",
    "    \n",
    "# start = 3\n",
    "# step = +ve direction\n",
    "#last = -19-1=-18"
   ]
  },
  {
   "cell_type": "code",
   "execution_count": 9,
   "id": "e6e8b582",
   "metadata": {},
   "outputs": [
    {
     "name": "stdout",
     "output_type": "stream",
     "text": [
      "-3 0 3 6 9 12 15 18 "
     ]
    }
   ],
   "source": [
    "for i in range (-3,19,3):\n",
    "    print(i,end=' ')\n",
    "    \n",
    "# start = 3\n",
    "# step = +ve direction\n",
    "#last = 19-1=18"
   ]
  },
  {
   "cell_type": "code",
   "execution_count": 10,
   "id": "8df7885d",
   "metadata": {},
   "outputs": [],
   "source": [
    "for i in range (-3,-19,3):\n",
    "    print(i,end=' ')\n",
    "    \n",
    "# start = 3\n",
    "# step = -ve direction\n",
    "#last = -19+1=-18"
   ]
  },
  {
   "cell_type": "code",
   "execution_count": 11,
   "id": "9a2162c7",
   "metadata": {},
   "outputs": [
    {
     "name": "stdout",
     "output_type": "stream",
     "text": [
      "-3 -6 -9 -12 -15 -18 "
     ]
    }
   ],
   "source": [
    "for i in range (-3,-19,-3):\n",
    "    print(i,end=' ')\n",
    "    \n",
    "# start = 3\n",
    "# step = -ve direction\n",
    "#last = -19+1=-18"
   ]
  },
  {
   "cell_type": "code",
   "execution_count": 13,
   "id": "047576f1",
   "metadata": {},
   "outputs": [],
   "source": [
    "for i in range (-3,19,-3):\n",
    "    print(i,end=' ')\n",
    "    \n",
    "# start = 3\n",
    "# step = -ve direction\n",
    "#last = 19+1=18"
   ]
  },
  {
   "cell_type": "code",
   "execution_count": 14,
   "id": "b8ee8876",
   "metadata": {},
   "outputs": [
    {
     "name": "stdout",
     "output_type": "stream",
     "text": [
      "19 16 13 10 7 4 "
     ]
    }
   ],
   "source": [
    "for i in range (19,3,-3):\n",
    "    print(i,end=' ')\n",
    "    \n",
    "# start = 3\n",
    "# step = +ve direction\n",
    "#last = -3-1=4"
   ]
  },
  {
   "cell_type": "code",
   "execution_count": 21,
   "id": "1dd2baf3",
   "metadata": {},
   "outputs": [],
   "source": [
    "for i in range (-19,3,-3):\n",
    "    print(i,end=' ')\n",
    "    \n",
    "# start = 3\n",
    "# step = -ve direction\n",
    "#last = 3+1=4"
   ]
  },
  {
   "cell_type": "code",
   "execution_count": 18,
   "id": "32eb8d3d",
   "metadata": {},
   "outputs": [],
   "source": [
    "for i in range (-19,-3,-3):\n",
    "    print(i,end=' ')\n",
    "    \n",
    "# start = 3\n",
    "# step = -ve direction\n",
    "#last = -3+1=-4"
   ]
  },
  {
   "cell_type": "code",
   "execution_count": 19,
   "id": "6cf16f0a",
   "metadata": {},
   "outputs": [
    {
     "name": "stdout",
     "output_type": "stream",
     "text": [
      "-19 -16 -13 -10 -7 -4 -1 2 "
     ]
    }
   ],
   "source": [
    "for i in range (-19,3,3):\n",
    "    print(i,end=' ')\n",
    "    \n",
    "# start = 3\n",
    "# step = +ve direction\n",
    "#last = 3-1=2"
   ]
  },
  {
   "cell_type": "code",
   "execution_count": 20,
   "id": "e104ba62",
   "metadata": {},
   "outputs": [],
   "source": [
    "for i in range (19,3,3):\n",
    "    print(i,end=' ')\n",
    "    \n",
    "# start = 3\n",
    "# step = -ve direction\n",
    "#last = 3+1=4"
   ]
  },
  {
   "cell_type": "code",
   "execution_count": null,
   "id": "4c8a0f5c",
   "metadata": {},
   "outputs": [],
   "source": [
    "#Q1) wap to creat 9th table\n",
    "#9*1=9\n",
    "\n",
    "#9*10=90"
   ]
  },
  {
   "cell_type": "code",
   "execution_count": 1,
   "id": "6a993f27",
   "metadata": {},
   "outputs": [
    {
     "name": "stdout",
     "output_type": "stream",
     "text": [
      "9x{i}=9x{i}\n",
      "9x{i}=9x{i}\n",
      "9x{i}=9x{i}\n",
      "9x{i}=9x{i}\n",
      "9x{i}=9x{i}\n",
      "9x{i}=9x{i}\n",
      "9x{i}=9x{i}\n",
      "9x{i}=9x{i}\n",
      "9x{i}=9x{i}\n",
      "9x{i}=9x{i}\n"
     ]
    }
   ],
   "source": [
    "for i in range(1,11):\n",
    "    print(\"9x{i}=9x{i}\")"
   ]
  },
  {
   "cell_type": "code",
   "execution_count": 4,
   "id": "24d5fe11",
   "metadata": {},
   "outputs": [
    {
     "name": "stdout",
     "output_type": "stream",
     "text": [
      "9x1=9\n",
      "9x2=18\n",
      "9x3=27\n",
      "9x4=36\n",
      "9x5=45\n",
      "9x6=54\n",
      "9x7=63\n",
      "9x8=72\n",
      "9x9=81\n",
      "9x10=90\n"
     ]
    }
   ],
   "source": [
    "for i in range(1,11):\n",
    "    print(f\"9x{i}={9*i}\")"
   ]
  },
  {
   "cell_type": "code",
   "execution_count": 5,
   "id": "29940b4a",
   "metadata": {},
   "outputs": [],
   "source": [
    "# Q7) wap to print the diviser of number 50\n",
    "#  what is the meaning of diviser\n",
    "# if 50 divided by 2 then the reminder is zero\n",
    "# 2 is diviser of 50\n",
    "\n",
    "\n",
    "# 50%1=0\n",
    "#50%2=0\n",
    "#50%3=0\n",
    "#50%4=0\n",
    "#50%5=0\n",
    "\n",
    "\n",
    "#50%50=0"
   ]
  },
  {
   "cell_type": "code",
   "execution_count": 8,
   "id": "4ada7b1e",
   "metadata": {},
   "outputs": [
    {
     "name": "stdout",
     "output_type": "stream",
     "text": [
      "1\n",
      "2\n",
      "5\n",
      "10\n",
      "25\n",
      "50\n"
     ]
    }
   ],
   "source": [
    "for i in range(1,51):\n",
    "    if 50%i==0:\n",
    "        print(i)  \n",
    "        \n",
    "        \n",
    "# step=1: i=1 if 50%1==0 true print(1) : 1        \n",
    "# step=2: i=2 if 50%2==0 trye print(2):2\n",
    "# step=3: i=3 if 50%2==01 true print(3): 3"
   ]
  },
  {
   "cell_type": "code",
   "execution_count": 9,
   "id": "56d5d9a5",
   "metadata": {},
   "outputs": [
    {
     "name": "stdout",
     "output_type": "stream",
     "text": [
      "enter the number which you want diviser:6\n",
      "1\n",
      "2\n",
      "3\n",
      "6\n"
     ]
    }
   ],
   "source": [
    "num=eval(input(\"enter the number which you want diviser:\"))\n",
    "for i in range(1,num+1):\n",
    "    if num%i==0:\n",
    "        print(i)  \n",
    "        \n"
   ]
  },
  {
   "cell_type": "code",
   "execution_count": 13,
   "id": "a17a29f8",
   "metadata": {},
   "outputs": [
    {
     "name": "stdout",
     "output_type": "stream",
     "text": [
      "enter the number which you want diviser:9\n",
      "1\n",
      "3\n",
      "9\n"
     ]
    }
   ],
   "source": [
    "def diviser():\n",
    "    num=eval(input(\"enter the number which you want diviser:\"))\n",
    "    for i in range(1,num+1):\n",
    "        if num%i==0:\n",
    "             print(i)  \n",
    "        \n",
    "\n",
    "diviser()   "
   ]
  },
  {
   "cell_type": "code",
   "execution_count": 14,
   "id": "a63f695c",
   "metadata": {},
   "outputs": [
    {
     "name": "stdout",
     "output_type": "stream",
     "text": [
      "1\n",
      "2\n",
      "3\n",
      "4\n",
      "6\n",
      "8\n",
      "9\n",
      "12\n",
      "18\n",
      "24\n",
      "36\n",
      "72\n"
     ]
    }
   ],
   "source": [
    "def diviser(num):\n",
    "    for i in range(1,num+1):\n",
    "        if num%i==0:\n",
    "             print(i)  \n",
    "        \n",
    "\n",
    "diviser(72)   "
   ]
  },
  {
   "cell_type": "code",
   "execution_count": null,
   "id": "46508e3d",
   "metadata": {},
   "outputs": [],
   "source": [
    "#Q6) wap print he sum of first 10 naturel  numbers"
   ]
  },
  {
   "cell_type": "code",
   "execution_count": 37,
   "id": "eebdae19",
   "metadata": {},
   "outputs": [
    {
     "name": "stdout",
     "output_type": "stream",
     "text": [
      "the sum of first 10 naturel numbers are: 55\n"
     ]
    }
   ],
   "source": [
    "summ=0\n",
    "for i in range(1,11):\n",
    "    summ=summ+i\n",
    "    \n",
    "print(f\"the sum of first 10 naturel numbers are:\",summ)"
   ]
  },
  {
   "cell_type": "markdown",
   "id": "fab70cba",
   "metadata": {},
   "source": [
    "- do not give variable name as sum\n",
    "\n",
    "- if you do pirnt inside it will print every answer\n",
    "\n",
    "- if print out side the last value will print \n"
   ]
  },
  {
   "cell_type": "code",
   "execution_count": 2,
   "id": "a6d71c81",
   "metadata": {},
   "outputs": [
    {
     "data": {
      "text/plain": [
       "6"
      ]
     },
     "execution_count": 2,
     "metadata": {},
     "output_type": "execute_result"
    }
   ],
   "source": [
    "l=[1,2,3]\n",
    "sum(l)"
   ]
  },
  {
   "cell_type": "code",
   "execution_count": 42,
   "id": "3206723a",
   "metadata": {},
   "outputs": [
    {
     "data": {
      "text/plain": [
       "['False',\n",
       " 'None',\n",
       " 'True',\n",
       " 'and',\n",
       " 'as',\n",
       " 'assert',\n",
       " 'async',\n",
       " 'await',\n",
       " 'break',\n",
       " 'class',\n",
       " 'continue',\n",
       " 'def',\n",
       " 'del',\n",
       " 'elif',\n",
       " 'else',\n",
       " 'except',\n",
       " 'finally',\n",
       " 'for',\n",
       " 'from',\n",
       " 'global',\n",
       " 'if',\n",
       " 'import',\n",
       " 'in',\n",
       " 'is',\n",
       " 'lambda',\n",
       " 'nonlocal',\n",
       " 'not',\n",
       " 'or',\n",
       " 'pass',\n",
       " 'raise',\n",
       " 'return',\n",
       " 'try',\n",
       " 'while',\n",
       " 'with',\n",
       " 'yield']"
      ]
     },
     "execution_count": 42,
     "metadata": {},
     "output_type": "execute_result"
    }
   ],
   "source": [
    "import keyword\n",
    "keyword.kwlist"
   ]
  },
  {
   "cell_type": "markdown",
   "id": "ca27859d",
   "metadata": {},
   "source": [
    "- not callabel, means remov the brackets\n",
    "\n",
    "- bound method means add the brackets\n",
    "\n",
    "- function means also add the brackets"
   ]
  },
  {
   "cell_type": "markdown",
   "id": "0a3bfb87",
   "metadata": {},
   "source": [
    "**counter wrapper**"
   ]
  },
  {
   "cell_type": "code",
   "execution_count": null,
   "id": "5b0c2dab",
   "metadata": {},
   "outputs": [],
   "source": [
    "# Q9) how many divisier are avalible for 50\n",
    "# tell  the divisier : 1,2,5,10,25,50\n",
    "# nom i want to print : the number of divisors are 6"
   ]
  },
  {
   "cell_type": "code",
   "execution_count": 51,
   "id": "ad2220df",
   "metadata": {},
   "outputs": [
    {
     "name": "stdout",
     "output_type": "stream",
     "text": [
      "enter the number witch want divisor:9\n",
      "3\n"
     ]
    }
   ],
   "source": [
    "count=0\n",
    "num=eval(input(\"enter the number witch want divisor:\"))\n",
    "for i in range(1,11):\n",
    "    if num%i==0:\n",
    "        count=count+1\n",
    "    \n",
    "print(count)"
   ]
  },
  {
   "cell_type": "code",
   "execution_count": null,
   "id": "f02f7af7",
   "metadata": {},
   "outputs": [],
   "source": [
    "summ=0\n",
    "summ=summ+i\n",
    "\n",
    "\n",
    "count=0\n",
    "count=count+1"
   ]
  },
  {
   "cell_type": "code",
   "execution_count": null,
   "id": "813fcce6",
   "metadata": {},
   "outputs": [],
   "source": [
    "#Q10) \n",
    "#  wap ask the user enter one number from keyboard\n",
    "#   ask the user get the second number randamly from 1 to 20\n",
    "#  if num1 == num2 then print you mon\n",
    "#  otherwise print you lost\n",
    "#  iterate these lines 3 times"
   ]
  },
  {
   "cell_type": "code",
   "execution_count": 5,
   "id": "87683d52",
   "metadata": {},
   "outputs": [
    {
     "name": "stdout",
     "output_type": "stream",
     "text": [
      "enter the number:9\n",
      "enter the numbers :4\n",
      "enter the number:5\n",
      "you lost\n",
      "you lost\n",
      "you lost\n"
     ]
    }
   ],
   "source": [
    "num1=eval(input(\"enter the number:\"))\n",
    "num2=eval(input(\"enter the numbers :\"))\n",
    "num3=eval(input(\"enter the number:\"))\n",
    "for i in range(3):\n",
    "    if num1==num2:\n",
    "        print(\"you won:\")\n",
    "    else:\n",
    "        print(\"you lost\")"
   ]
  },
  {
   "cell_type": "code",
   "execution_count": 58,
   "id": "fdebf470",
   "metadata": {},
   "outputs": [
    {
     "name": "stdout",
     "output_type": "stream",
     "text": [
      "9\n",
      "enter the number:9\n",
      "you mon\n"
     ]
    }
   ],
   "source": [
    "# case-1\n",
    "import random\n",
    "for i in range(3):\n",
    "    num1=random.randint(1,10)\n",
    "    print(num1)\n",
    "    num2=eval(input(\"enter the number:\"))\n",
    "    if num1==num2:\n",
    "        print(\"you mon\")\n",
    "        break\n",
    "else:\n",
    "    print(\"you lost\")"
   ]
  },
  {
   "cell_type": "code",
   "execution_count": null,
   "id": "66b04cef",
   "metadata": {},
   "outputs": [],
   "source": [
    "# today assignment \n",
    "\n",
    "# case-2 : give 5 chances\n",
    "# whenver fail print the number of chances left\n",
    "\n",
    "total_chance = 5\n",
    "start = 1\n",
    "for i in range(total_chance):\n",
    "    if start <=  total_chance:\n",
    "        print(\"the chance left {}\".format(total_chance-i))\n",
    "        start += 1\n",
    "    else:\n",
    "        print(\"no chances left\")\n",
    "\n",
    "\n",
    "\n",
    "# case -3 supose you all chances fail\n",
    "# print your account locked try after 24 hours\n",
    "\n",
    "\n",
    "start=0\n",
    "for i in range(5):\n",
    "    if start>=5:\n",
    "        start=5-i\n",
    "else:\n",
    "     print(f\"all chance over\")\n",
    "print(f\"your account locked try  after 24 hours\")   \n"
   ]
  },
  {
   "cell_type": "code",
   "execution_count": null,
   "id": "e0a46446",
   "metadata": {},
   "outputs": [],
   "source": [
    "# case-2 : give 5 chances\n",
    "# whenver fail print the number of chances left"
   ]
  },
  {
   "cell_type": "code",
   "execution_count": 51,
   "id": "24335e36",
   "metadata": {},
   "outputs": [
    {
     "name": "stdout",
     "output_type": "stream",
     "text": [
      "the chance left 5\n",
      "the chance left 4\n",
      "the chance left 3\n",
      "the chance left 2\n",
      "the chance left 1\n",
      "no chances left\n"
     ]
    }
   ],
   "source": [
    "chance=5\n",
    "start=1\n",
    "for i in range(5):\n",
    "    if start<=5:\n",
    "        print(f\"the chance left {5-i}\")\n",
    "else:\n",
    "        print(f\"no chances left\")"
   ]
  },
  {
   "cell_type": "code",
   "execution_count": 12,
   "id": "302cd971",
   "metadata": {},
   "outputs": [
    {
     "name": "stdout",
     "output_type": "stream",
     "text": [
      "the chance left 5\n",
      "the chance left 4\n",
      "the chance left 3\n",
      "the chance left 2\n",
      "the chance left 1\n",
      "no chances left\n"
     ]
    }
   ],
   "source": [
    "# case-2 : give 5 chances\n",
    "# whenver fail print the number of chances left\n",
    "\n",
    "total_chance = 5\n",
    "start = 1\n",
    "for i in range(total_chance):\n",
    "    if start <=  total_chance:\n",
    "        print(\"the chance left {}\".format(total_chance-i))\n",
    "        start += 1\n",
    "else:\n",
    "    print(\"no chances left\")"
   ]
  },
  {
   "cell_type": "code",
   "execution_count": null,
   "id": "de0c4e62",
   "metadata": {},
   "outputs": [],
   "source": [
    "# case -3 supose you all chances over\n",
    "# print your account locked try after 24 hours"
   ]
  },
  {
   "cell_type": "code",
   "execution_count": 40,
   "id": "ecc806b8",
   "metadata": {},
   "outputs": [
    {
     "name": "stdout",
     "output_type": "stream",
     "text": [
      "all chance over\n",
      "your account locked try  after 24 hours\n"
     ]
    }
   ],
   "source": [
    "start=0\n",
    "for i in range(5):\n",
    "    if start>=5:\n",
    "        start=5-i\n",
    "else:\n",
    "     print(f\"all chance over\")\n",
    "print(f\"your account locked try  after 24 hours\")   "
   ]
  },
  {
   "cell_type": "code",
   "execution_count": 7,
   "id": "19af6e74",
   "metadata": {},
   "outputs": [
    {
     "name": "stdout",
     "output_type": "stream",
     "text": [
      "enter the number:1452\n",
      "enter the number:3563\n",
      "enter the number:4785\n",
      "enter the number:5896\n",
      "enter the number:4586\n",
      "your account is blocked:\n",
      "your account locked try  after 24 hours:\n"
     ]
    }
   ],
   "source": [
    "import random\n",
    "count=5\n",
    "for i in range (5):\n",
    "    n1=eval(input(\"enter the number:\"))\n",
    "    n2=1410\n",
    "    if n1==n2:\n",
    "        print(\"roght password:\")\n",
    "        \n",
    "else:\n",
    "    print(f\"your account is blocked:\")\n",
    "    print(f\"your account locked try  after 24 hours:\")\n",
    "   "
   ]
  },
  {
   "cell_type": "code",
   "execution_count": 20,
   "id": "884897b4",
   "metadata": {},
   "outputs": [
    {
     "name": "stdout",
     "output_type": "stream",
     "text": [
      "enter the number:1256\n",
      "incorrect password,please try again\n",
      "enter the number:1236\n",
      "incorrect password,please try again\n",
      "enter the number:1258\n",
      "incorrect password,please try again\n",
      "enter the number:6987\n",
      "incorrect password,please try again\n",
      "enter the number:1410\n",
      "roght password:\n"
     ]
    }
   ],
   "source": [
    "import random\n",
    "count=5\n",
    "for i in range (5):\n",
    "    n1=eval(input(\"enter the number:\"))\n",
    "    n2=1410\n",
    "    if n1==n2:\n",
    "        print(\"roght password:\")\n",
    "        break\n",
    "        \n",
    "    else:\n",
    "        count=count-1\n",
    "        print(f\"incorrect password,please try again\")\n",
    "        if count ==0:\n",
    "            print(f\"your account locked try  after 24 hours:\")\n"
   ]
  },
  {
   "cell_type": "code",
   "execution_count": 12,
   "id": "8b51b638",
   "metadata": {},
   "outputs": [
    {
     "name": "stdout",
     "output_type": "stream",
     "text": [
      "enter the number:1254\n",
      "incorrect password please try again\n",
      "enter the number:2365\n",
      "incorrect password please try again\n",
      "enter the number:4587\n",
      "incorrect password please try again\n",
      "enter the number:5698\n",
      "incorrect password please try again\n",
      "enter the number:1263\n",
      "incorrect password please try again\n",
      "please check the password and try again:\n",
      "you you have been blocked try again later:\n",
      "your account is locked try after 24 hours\n"
     ]
    }
   ],
   "source": [
    "import random \n",
    "count=5\n",
    "for i in range(5):\n",
    "    n1=eval(input(\"enter the number:\"))\n",
    "    n2=1410\n",
    "    if n1==n2:\n",
    "            print(f\"password is right you logged in\")\n",
    "    \n",
    "    \n",
    "    else:\n",
    "        count=count-1\n",
    "        print(f\"incorrect password please try again\")\n",
    "    if count==0:\n",
    "        print(f\"please check the password and try again:\")\n",
    "        print(f\"you you have been blocked try again later:\")\n",
    "        print(f\"your account is locked try after 24 hours\")\n",
    "            "
   ]
  },
  {
   "cell_type": "code",
   "execution_count": 1,
   "id": "d6f2f5a3",
   "metadata": {},
   "outputs": [
    {
     "data": {
      "text/plain": [
       "True"
      ]
     },
     "execution_count": 1,
     "metadata": {},
     "output_type": "execute_result"
    }
   ],
   "source": [
    "name=\"python\"\n",
    "\"p\" in name"
   ]
  },
  {
   "cell_type": "code",
   "execution_count": 3,
   "id": "57182f94",
   "metadata": {},
   "outputs": [
    {
     "data": {
      "text/plain": [
       "False"
      ]
     },
     "execution_count": 3,
     "metadata": {},
     "output_type": "execute_result"
    }
   ],
   "source": [
    "name=\"python\"\n",
    "\"p\" in name\n",
    "\"y\" in name\n",
    "\"t\" in name\n",
    "\"H\" in name"
   ]
  },
  {
   "cell_type": "code",
   "execution_count": 10,
   "id": "9d4c7aed",
   "metadata": {},
   "outputs": [
    {
     "name": "stdout",
     "output_type": "stream",
     "text": [
      "p\n",
      "y\n",
      "t\n",
      "h\n",
      "o\n",
      "n\n"
     ]
    }
   ],
   "source": [
    "name='python'\n",
    "'p' in name\n",
    "'y' in name\n",
    "'t' in name\n",
    "'h' in name\n",
    "'o' in name\n",
    "'n' in name\n",
    "for i in name:\n",
    "    print(i)"
   ]
  },
  {
   "cell_type": "code",
   "execution_count": 9,
   "id": "f6a13182",
   "metadata": {},
   "outputs": [
    {
     "name": "stdout",
     "output_type": "stream",
     "text": [
      "p\n",
      "y\n",
      "t\n",
      "h\n",
      "o\n",
      "n\n"
     ]
    }
   ],
   "source": [
    "for i in name :\n",
    "    print(i)"
   ]
  },
  {
   "cell_type": "code",
   "execution_count": 8,
   "id": "08c5b466",
   "metadata": {},
   "outputs": [
    {
     "name": "stdout",
     "output_type": "stream",
     "text": [
      "n a m e "
     ]
    }
   ],
   "source": [
    "for i in 'name':\n",
    "    print(i,end=' ')"
   ]
  },
  {
   "cell_type": "code",
   "execution_count": 2,
   "id": "b95bfd77",
   "metadata": {},
   "outputs": [
    {
     "data": {
      "text/plain": [
       "False"
      ]
     },
     "execution_count": 2,
     "metadata": {},
     "output_type": "execute_result"
    }
   ],
   "source": [
    "'A'=='a'"
   ]
  },
  {
   "cell_type": "code",
   "execution_count": 3,
   "id": "162a5e01",
   "metadata": {},
   "outputs": [
    {
     "data": {
      "text/plain": [
       "False"
      ]
     },
     "execution_count": 3,
     "metadata": {},
     "output_type": "execute_result"
    }
   ],
   "source": [
    "'A'>'a'"
   ]
  },
  {
   "cell_type": "code",
   "execution_count": 4,
   "id": "9364916f",
   "metadata": {},
   "outputs": [
    {
     "data": {
      "text/plain": [
       "False"
      ]
     },
     "execution_count": 4,
     "metadata": {},
     "output_type": "execute_result"
    }
   ],
   "source": [
    "'a'<'A'"
   ]
  },
  {
   "cell_type": "code",
   "execution_count": 5,
   "id": "6772172d",
   "metadata": {},
   "outputs": [
    {
     "data": {
      "text/plain": [
       "True"
      ]
     },
     "execution_count": 5,
     "metadata": {},
     "output_type": "execute_result"
    }
   ],
   "source": [
    "'a'>'A'"
   ]
  },
  {
   "cell_type": "markdown",
   "id": "3fc896b9",
   "metadata": {},
   "source": [
    "**ASCII**\n",
    "\n",
    "- American standard code for information interchange"
   ]
  },
  {
   "cell_type": "code",
   "execution_count": null,
   "id": "5dd42037",
   "metadata": {},
   "outputs": [],
   "source": [
    "'A':65  'B:66'\n",
    "'a':97   "
   ]
  },
  {
   "cell_type": "markdown",
   "id": "43c7567c",
   "metadata": {},
   "source": [
    "**ord-chr**\n",
    "\n",
    "- ord is the keyword witch provide ASCII number or characters\n",
    "\n",
    "- char is the keyword  which provides charecters for given ASCII number"
   ]
  },
  {
   "cell_type": "code",
   "execution_count": 14,
   "id": "c5327847",
   "metadata": {},
   "outputs": [
    {
     "data": {
      "text/plain": [
       "(65, 97)"
      ]
     },
     "execution_count": 14,
     "metadata": {},
     "output_type": "execute_result"
    }
   ],
   "source": [
    "ord(\"A\"),ord(\"a\")"
   ]
  },
  {
   "cell_type": "code",
   "execution_count": 17,
   "id": "6bbc9f41",
   "metadata": {},
   "outputs": [
    {
     "data": {
      "text/plain": [
       "('A', 'a')"
      ]
     },
     "execution_count": 17,
     "metadata": {},
     "output_type": "execute_result"
    }
   ],
   "source": [
    "chr(65),chr(97)"
   ]
  },
  {
   "cell_type": "code",
   "execution_count": null,
   "id": "50593dab",
   "metadata": {},
   "outputs": [],
   "source": [
    "# i want to get ascii number of A TO Z\n",
    "# using for loop\n",
    "  ord('A')\n",
    "    ord ('B')\n",
    "    ord('C')\n",
    "    ord('D')\n",
    "    \n",
    "\n",
    "    ord(i)"
   ]
  },
  {
   "cell_type": "markdown",
   "id": "57b14c34",
   "metadata": {},
   "source": [
    "**PACKAGE NAME String**"
   ]
  },
  {
   "cell_type": "code",
   "execution_count": null,
   "id": "5064f1aa",
   "metadata": {},
   "outputs": [],
   "source": [
    "for i in\"abcdefghijklmnopqrstuvwxyz\":\n",
    "    "
   ]
  },
  {
   "cell_type": "code",
   "execution_count": 27,
   "id": "f489212e",
   "metadata": {},
   "outputs": [
    {
     "ename": "NameError",
     "evalue": "name 'string' is not defined",
     "output_type": "error",
     "traceback": [
      "\u001b[1;31m---------------------------------------------------------------------------\u001b[0m",
      "\u001b[1;31mNameError\u001b[0m                                 Traceback (most recent call last)",
      "Cell \u001b[1;32mIn[27], line 1\u001b[0m\n\u001b[1;32m----> 1\u001b[0m string\u001b[38;5;241m.\u001b[39mascii_uppercase\n",
      "\u001b[1;31mNameError\u001b[0m: name 'string' is not defined"
     ]
    }
   ],
   "source": [
    "string.ascii_uppercase"
   ]
  },
  {
   "cell_type": "code",
   "execution_count": 26,
   "id": "428ff538",
   "metadata": {},
   "outputs": [
    {
     "ename": "NameError",
     "evalue": "name 'string' is not defined",
     "output_type": "error",
     "traceback": [
      "\u001b[1;31m---------------------------------------------------------------------------\u001b[0m",
      "\u001b[1;31mNameError\u001b[0m                                 Traceback (most recent call last)",
      "Cell \u001b[1;32mIn[26], line 1\u001b[0m\n\u001b[1;32m----> 1\u001b[0m \u001b[38;5;28;01mfor\u001b[39;00m i \u001b[38;5;129;01min\u001b[39;00m string\u001b[38;5;241m.\u001b[39mascii_uppercase:\n\u001b[0;32m      2\u001b[0m     \u001b[38;5;28mprint\u001b[39m(\u001b[38;5;124mf\u001b[39m\u001b[38;5;124m\"\u001b[39m\u001b[38;5;124mthe ASCII value of \u001b[39m\u001b[38;5;132;01m{\u001b[39;00mi\u001b[38;5;132;01m}\u001b[39;00m\u001b[38;5;124m is \u001b[39m\u001b[38;5;132;01m{\u001b[39;00m\u001b[38;5;28mord\u001b[39m(i)\u001b[38;5;132;01m}\u001b[39;00m\u001b[38;5;124m:\u001b[39m\u001b[38;5;124m\"\u001b[39m)\n",
      "\u001b[1;31mNameError\u001b[0m: name 'string' is not defined"
     ]
    }
   ],
   "source": [
    "for i in string.ascii_uppercase:\n",
    "    print(f\"the ASCII value of {i} is {ord(i)}:\")"
   ]
  },
  {
   "cell_type": "code",
   "execution_count": 24,
   "id": "6422b31e",
   "metadata": {},
   "outputs": [
    {
     "name": "stdout",
     "output_type": "stream",
     "text": [
      "65 A\n",
      "66 B\n",
      "67 C\n",
      "68 D\n",
      "69 E\n",
      "70 F\n",
      "71 G\n",
      "72 H\n",
      "73 I\n",
      "74 J\n",
      "75 K\n",
      "76 L\n",
      "77 M\n",
      "78 N\n",
      "79 O\n",
      "80 P\n",
      "81 Q\n",
      "82 R\n",
      "83 S\n",
      "84 T\n",
      "85 U\n",
      "86 V\n",
      "87 W\n",
      "88 X\n",
      "89 Y\n"
     ]
    }
   ],
   "source": [
    "# i want to know how many ascii avalible\n",
    "# 65 to 90  A-Z\n",
    "# 97 -122    a-z\n",
    "\n",
    "\n",
    "for i in range(65,90):\n",
    "    print(i,chr(i))"
   ]
  },
  {
   "cell_type": "code",
   "execution_count": 31,
   "id": "22516d4e",
   "metadata": {},
   "outputs": [
    {
     "name": "stdout",
     "output_type": "stream",
     "text": [
      "33:! 34:\" 35:# 36:$ 37:% 38:& 39:' 40:( 41:) 42:* 43:+ 44:, 45:- 46:. 47:/ 48:0 49:1 50:2 51:3 52:4 53:5 54:6 55:7 56:8 57:9 58:: 59:; 60:< 61:= 62:> 63:? 64:@ 65:A 66:B 67:C 68:D 69:E 70:F 71:G 72:H 73:I 74:J 75:K 76:L 77:M 78:N 79:O 80:P 81:Q 82:R 83:S 84:T 85:U 86:V 87:W 88:X 89:Y 90:Z 91:[ 92:\\ 93:] 94:^ 95:_ 96:` 97:a 98:b 99:c 100:d 101:e 102:f 103:g 104:h 105:i 106:j 107:k 108:l 109:m 110:n 111:o 112:p 113:q 114:r 115:s 116:t 117:u 118:v 119:w 120:x 121:y 122:z 123:{ 124:| 125:} 126:~ "
     ]
    }
   ],
   "source": [
    "for i in range(33,127):\n",
    "    print(f\"{i}:{chr(i)}\",end=' ')"
   ]
  },
  {
   "cell_type": "code",
   "execution_count": 33,
   "id": "f754d299",
   "metadata": {},
   "outputs": [
    {
     "name": "stdout",
     "output_type": "stream",
     "text": [
      "500:Ǵ 501:ǵ 502:Ƕ 503:Ƿ 504:Ǹ 505:ǹ 506:Ǻ 507:ǻ 508:Ǽ 509:ǽ 510:Ǿ 511:ǿ 512:Ȁ 513:ȁ 514:Ȃ 515:ȃ 516:Ȅ 517:ȅ 518:Ȇ 519:ȇ 520:Ȉ 521:ȉ 522:Ȋ 523:ȋ 524:Ȍ 525:ȍ 526:Ȏ 527:ȏ 528:Ȑ 529:ȑ 530:Ȓ 531:ȓ 532:Ȕ 533:ȕ 534:Ȗ 535:ȗ 536:Ș 537:ș 538:Ț 539:ț 540:Ȝ 541:ȝ 542:Ȟ 543:ȟ 544:Ƞ 545:ȡ 546:Ȣ 547:ȣ 548:Ȥ 549:ȥ 550:Ȧ 551:ȧ 552:Ȩ 553:ȩ 554:Ȫ 555:ȫ 556:Ȭ 557:ȭ 558:Ȯ 559:ȯ 560:Ȱ 561:ȱ 562:Ȳ 563:ȳ 564:ȴ 565:ȵ 566:ȶ 567:ȷ 568:ȸ 569:ȹ 570:Ⱥ 571:Ȼ 572:ȼ 573:Ƚ 574:Ⱦ 575:ȿ 576:ɀ 577:Ɂ 578:ɂ 579:Ƀ 580:Ʉ 581:Ʌ 582:Ɇ 583:ɇ 584:Ɉ 585:ɉ 586:Ɋ 587:ɋ 588:Ɍ 589:ɍ 590:Ɏ 591:ɏ 592:ɐ 593:ɑ 594:ɒ 595:ɓ 596:ɔ 597:ɕ 598:ɖ 599:ɗ 600:ɘ 601:ə 602:ɚ 603:ɛ 604:ɜ 605:ɝ 606:ɞ 607:ɟ 608:ɠ 609:ɡ 610:ɢ 611:ɣ 612:ɤ 613:ɥ 614:ɦ 615:ɧ 616:ɨ 617:ɩ 618:ɪ 619:ɫ 620:ɬ 621:ɭ 622:ɮ 623:ɯ 624:ɰ 625:ɱ 626:ɲ 627:ɳ 628:ɴ 629:ɵ 630:ɶ 631:ɷ 632:ɸ 633:ɹ 634:ɺ 635:ɻ 636:ɼ 637:ɽ 638:ɾ 639:ɿ 640:ʀ 641:ʁ 642:ʂ 643:ʃ 644:ʄ 645:ʅ 646:ʆ 647:ʇ 648:ʈ 649:ʉ 650:ʊ 651:ʋ 652:ʌ 653:ʍ 654:ʎ 655:ʏ 656:ʐ 657:ʑ 658:ʒ 659:ʓ 660:ʔ 661:ʕ 662:ʖ 663:ʗ 664:ʘ 665:ʙ 666:ʚ 667:ʛ 668:ʜ 669:ʝ 670:ʞ 671:ʟ 672:ʠ 673:ʡ 674:ʢ 675:ʣ 676:ʤ 677:ʥ 678:ʦ 679:ʧ 680:ʨ 681:ʩ 682:ʪ 683:ʫ 684:ʬ 685:ʭ 686:ʮ 687:ʯ 688:ʰ 689:ʱ 690:ʲ 691:ʳ 692:ʴ 693:ʵ 694:ʶ 695:ʷ 696:ʸ 697:ʹ 698:ʺ 699:ʻ 700:ʼ 701:ʽ 702:ʾ 703:ʿ 704:ˀ 705:ˁ 706:˂ 707:˃ 708:˄ 709:˅ 710:ˆ 711:ˇ 712:ˈ 713:ˉ 714:ˊ 715:ˋ 716:ˌ 717:ˍ 718:ˎ 719:ˏ 720:ː 721:ˑ 722:˒ 723:˓ 724:˔ 725:˕ 726:˖ 727:˗ 728:˘ 729:˙ 730:˚ 731:˛ 732:˜ 733:˝ 734:˞ 735:˟ 736:ˠ 737:ˡ 738:ˢ 739:ˣ 740:ˤ 741:˥ 742:˦ 743:˧ 744:˨ 745:˩ 746:˪ 747:˫ 748:ˬ 749:˭ 750:ˮ 751:˯ 752:˰ 753:˱ 754:˲ 755:˳ 756:˴ 757:˵ 758:˶ 759:˷ 760:˸ 761:˹ 762:˺ 763:˻ 764:˼ 765:˽ 766:˾ 767:˿ 768:̀ 769:́ 770:̂ 771:̃ 772:̄ 773:̅ 774:̆ 775:̇ 776:̈ 777:̉ 778:̊ 779:̋ 780:̌ 781:̍ 782:̎ 783:̏ 784:̐ 785:̑ 786:̒ 787:̓ 788:̔ 789:̕ 790:̖ 791:̗ 792:̘ 793:̙ 794:̚ 795:̛ 796:̜ 797:̝ 798:̞ 799:̟ 800:̠ 801:̡ 802:̢ 803:̣ 804:̤ 805:̥ 806:̦ 807:̧ 808:̨ 809:̩ 810:̪ 811:̫ 812:̬ 813:̭ 814:̮ 815:̯ 816:̰ 817:̱ 818:̲ 819:̳ 820:̴ 821:̵ 822:̶ 823:̷ 824:̸ 825:̹ 826:̺ 827:̻ 828:̼ 829:̽ 830:̾ 831:̿ 832:̀ 833:́ 834:͂ 835:̓ 836:̈́ 837:ͅ 838:͆ 839:͇ 840:͈ 841:͉ 842:͊ 843:͋ 844:͌ 845:͍ 846:͎ 847:͏ 848:͐ 849:͑ 850:͒ 851:͓ 852:͔ 853:͕ 854:͖ 855:͗ 856:͘ 857:͙ 858:͚ 859:͛ 860:͜ 861:͝ 862:͞ 863:͟ 864:͠ 865:͡ 866:͢ 867:ͣ 868:ͤ 869:ͥ 870:ͦ 871:ͧ 872:ͨ 873:ͩ 874:ͪ 875:ͫ 876:ͬ 877:ͭ 878:ͮ 879:ͯ 880:Ͱ 881:ͱ 882:Ͳ 883:ͳ 884:ʹ 885:͵ 886:Ͷ 887:ͷ 888:͸ 889:͹ 890:ͺ 891:ͻ 892:ͼ 893:ͽ 894:; 895:Ϳ 896:΀ 897:΁ 898:΂ 899:΃ 900:΄ 901:΅ 902:Ά 903:· 904:Έ 905:Ή 906:Ί 907:΋ 908:Ό 909:΍ 910:Ύ 911:Ώ 912:ΐ 913:Α 914:Β 915:Γ 916:Δ 917:Ε 918:Ζ 919:Η 920:Θ 921:Ι 922:Κ 923:Λ 924:Μ 925:Ν 926:Ξ 927:Ο 928:Π 929:Ρ 930:΢ 931:Σ 932:Τ 933:Υ 934:Φ 935:Χ 936:Ψ 937:Ω 938:Ϊ 939:Ϋ 940:ά 941:έ 942:ή 943:ί 944:ΰ 945:α 946:β 947:γ 948:δ 949:ε 950:ζ 951:η 952:θ 953:ι 954:κ 955:λ 956:μ 957:ν 958:ξ 959:ο 960:π 961:ρ 962:ς 963:σ 964:τ 965:υ 966:φ 967:χ 968:ψ 969:ω 970:ϊ 971:ϋ 972:ό 973:ύ 974:ώ 975:Ϗ 976:ϐ 977:ϑ 978:ϒ 979:ϓ 980:ϔ 981:ϕ 982:ϖ 983:ϗ 984:Ϙ 985:ϙ 986:Ϛ 987:ϛ 988:Ϝ 989:ϝ 990:Ϟ 991:ϟ 992:Ϡ 993:ϡ 994:Ϣ 995:ϣ 996:Ϥ 997:ϥ 998:Ϧ 999:ϧ "
     ]
    }
   ],
   "source": [
    "for i in range(500,1000):\n",
    "    print(f\"{i}:{chr(i)}\",end=' ')"
   ]
  },
  {
   "cell_type": "code",
   "execution_count": 7,
   "id": "519bb60b",
   "metadata": {},
   "outputs": [
    {
     "ename": "SyntaxError",
     "evalue": "invalid syntax (194094405.py, line 1)",
     "output_type": "error",
     "traceback": [
      "\u001b[1;36m  Cell \u001b[1;32mIn[7], line 1\u001b[1;36m\u001b[0m\n\u001b[1;33m    import string.\u001b[0m\n\u001b[1;37m                  ^\u001b[0m\n\u001b[1;31mSyntaxError\u001b[0m\u001b[1;31m:\u001b[0m invalid syntax\n"
     ]
    }
   ],
   "source": [
    "import string.\n",
    "string.ascii_uppercase()"
   ]
  },
  {
   "cell_type": "code",
   "execution_count": 36,
   "id": "c276557f",
   "metadata": {},
   "outputs": [
    {
     "name": "stdout",
     "output_type": "stream",
     "text": [
      "3077:అ 3078:ఆ 3079:ఇ 3080:ఈ 3081:ఉ 3082:ఊ 3083:ఋ 3084:ఌ 3085:఍ 3086:ఎ 3087:ఏ 3088:ఐ 3089:఑ 3090:ఒ 3091:ఓ 3092:ఔ 3093:క 3094:ఖ 3095:గ 3096:ఘ 3097:ఙ 3098:చ 3099:ఛ 3100:జ 3101:ఝ 3102:ఞ 3103:ట 3104:ఠ 3105:డ 3106:ఢ 3107:ణ 3108:త 3109:థ 3110:ద 3111:ధ 3112:న 3113:఩ 3114:ప 3115:ఫ 3116:బ 3117:భ 3118:మ 3119:య 3120:ర 3121:ఱ 3122:ల 3123:ళ 3124:ఴ 3125:వ 3126:శ 3127:ష 3128:స 3129:హ 3130:఺ 3131:఻ 3132:఼ 3133:ఽ 3134:ా 3135:ి 3136:ీ 3137:ు 3138:ూ 3139:ృ 3140:ౄ 3141:౅ 3142:ె 3143:ే 3144:ై 3145:౉ 3146:ొ 3147:ో 3148:ౌ 3149:్ 3150:౎ 3151:౏ 3152:౐ 3153:౑ 3154:౒ 3155:౓ 3156:౔ 3157:ౕ 3158:ౖ 3159:౗ 3160:ౘ 3161:ౙ 3162:ౚ 3163:౛ 3164:౜ 3165:ౝ 3166:౞ 3167:౟ 3168:ౠ 3169:ౡ 3170:ౢ 3171:ౣ 3172:౤ 3173:౥ 3174:౦ 3175:౧ 3176:౨ 3177:౩ 3178:౪ 3179:౫ 3180:౬ 3181:౭ 3182:౮ 3183:౯ 3184:౰ 3185:౱ 3186:౲ 3187:౳ 3188:౴ 3189:౵ 3190:౶ 3191:౷ 3192:౸ 3193:౹ 3194:౺ 3195:౻ 3196:౼ 3197:౽ 3198:౾ 3199:౿ 3200:ಀ 3201:ಁ 3202:ಂ 3203:ಃ 3204:಄ 3205:ಅ 3206:ಆ 3207:ಇ 3208:ಈ 3209:ಉ 3210:ಊ 3211:ಋ 3212:ಌ 3213:಍ 3214:ಎ 3215:ಏ 3216:ಐ 3217:಑ 3218:ಒ 3219:ಓ 3220:ಔ 3221:ಕ 3222:ಖ 3223:ಗ 3224:ಘ 3225:ಙ 3226:ಚ 3227:ಛ 3228:ಜ 3229:ಝ 3230:ಞ 3231:ಟ 3232:ಠ 3233:ಡ 3234:ಢ 3235:ಣ 3236:ತ 3237:ಥ 3238:ದ 3239:ಧ 3240:ನ 3241:಩ 3242:ಪ 3243:ಫ 3244:ಬ 3245:ಭ 3246:ಮ 3247:ಯ 3248:ರ 3249:ಱ 3250:ಲ 3251:ಳ 3252:಴ 3253:ವ 3254:ಶ 3255:ಷ 3256:ಸ 3257:ಹ 3258:಺ 3259:಻ 3260:಼ 3261:ಽ 3262:ಾ 3263:ಿ 3264:ೀ 3265:ು 3266:ೂ 3267:ೃ 3268:ೄ 3269:೅ 3270:ೆ 3271:ೇ 3272:ೈ 3273:೉ 3274:ೊ 3275:ೋ 3276:ೌ 3277:್ 3278:೎ 3279:೏ 3280:೐ 3281:೑ 3282:೒ 3283:೓ 3284:೔ 3285:ೕ 3286:ೖ 3287:೗ 3288:೘ 3289:೙ 3290:೚ 3291:೛ 3292:೜ 3293:ೝ 3294:ೞ 3295:೟ 3296:ೠ 3297:ೡ 3298:ೢ 3299:ೣ 3300:೤ 3301:೥ 3302:೦ 3303:೧ 3304:೨ 3305:೩ 3306:೪ 3307:೫ 3308:೬ 3309:೭ 3310:೮ 3311:೯ 3312:೰ 3313:ೱ 3314:ೲ 3315:ೳ 3316:೴ 3317:೵ 3318:೶ 3319:೷ 3320:೸ 3321:೹ 3322:೺ 3323:೻ 3324:೼ 3325:೽ 3326:೾ 3327:೿ 3328:ഀ 3329:ഁ 3330:ം 3331:ഃ 3332:ഄ 3333:അ 3334:ആ 3335:ഇ 3336:ഈ 3337:ഉ 3338:ഊ 3339:ഋ 3340:ഌ 3341:഍ 3342:എ 3343:ഏ 3344:ഐ 3345:഑ 3346:ഒ 3347:ഓ 3348:ഔ 3349:ക 3350:ഖ 3351:ഗ 3352:ഘ 3353:ങ 3354:ച 3355:ഛ 3356:ജ 3357:ഝ 3358:ഞ 3359:ട 3360:ഠ 3361:ഡ 3362:ഢ 3363:ണ 3364:ത 3365:ഥ 3366:ദ 3367:ധ 3368:ന 3369:ഩ 3370:പ 3371:ഫ 3372:ബ 3373:ഭ 3374:മ 3375:യ 3376:ര 3377:റ 3378:ല 3379:ള 3380:ഴ 3381:വ 3382:ശ 3383:ഷ 3384:സ 3385:ഹ 3386:ഺ 3387:഻ 3388:഼ 3389:ഽ 3390:ാ 3391:ി 3392:ീ 3393:ു 3394:ൂ 3395:ൃ 3396:ൄ 3397:൅ 3398:െ 3399:േ 3400:ൈ 3401:൉ 3402:ൊ 3403:ോ 3404:ൌ 3405:് 3406:ൎ 3407:൏ 3408:൐ 3409:൑ 3410:൒ 3411:൓ 3412:ൔ 3413:ൕ 3414:ൖ 3415:ൗ 3416:൘ 3417:൙ 3418:൚ "
     ]
    }
   ],
   "source": [
    "for i in range(3077,3419):\n",
    "    print(f\"{i}:{chr(i)}\",end=' ')"
   ]
  },
  {
   "cell_type": "code",
   "execution_count": null,
   "id": "a04c7968",
   "metadata": {},
   "outputs": [],
   "source": [
    "string='mohith'\n",
    "string=asc"
   ]
  }
 ],
 "metadata": {
  "kernelspec": {
   "display_name": "Python 3 (ipykernel)",
   "language": "python",
   "name": "python3"
  },
  "language_info": {
   "codemirror_mode": {
    "name": "ipython",
    "version": 3
   },
   "file_extension": ".py",
   "mimetype": "text/x-python",
   "name": "python",
   "nbconvert_exporter": "python",
   "pygments_lexer": "ipython3",
   "version": "3.11.7"
  }
 },
 "nbformat": 4,
 "nbformat_minor": 5
}
