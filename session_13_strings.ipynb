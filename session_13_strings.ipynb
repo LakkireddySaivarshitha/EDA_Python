{
 "cells": [
  {
   "cell_type": "markdown",
   "id": "ea7cafb7",
   "metadata": {},
   "source": [
    "- strings\n",
    "\n",
    "- lists\n",
    "\n",
    "- dictionry\n",
    "\n",
    "- tuples\n",
    "\n",
    "- sets\n",
    "\n",
    "- lambda function\n",
    "\n",
    "- file handling"
   ]
  },
  {
   "cell_type": "markdown",
   "id": "c8edb790",
   "metadata": {},
   "source": [
    "## string \n",
    "\n",
    "- string can intilazition in three ways\n",
    "\n",
    "- single quotes\n",
    "\n",
    "   - very comen way to present\n",
    "\n",
    "- double quotes\n",
    "\n",
    "   - double quotes also very common way to present\n",
    "   \n",
    "- triple quoties\n",
    "\n",
    "   - triple quotes means **doc string**\n",
    "\n"
   ]
  },
  {
   "cell_type": "code",
   "execution_count": 3,
   "id": "5af8149c",
   "metadata": {},
   "outputs": [
    {
     "data": {
      "text/plain": [
       "'python'"
      ]
     },
     "execution_count": 3,
     "metadata": {},
     "output_type": "execute_result"
    }
   ],
   "source": [
    "str1='python'\n",
    "str1"
   ]
  },
  {
   "cell_type": "code",
   "execution_count": 4,
   "id": "97dab0f6",
   "metadata": {},
   "outputs": [
    {
     "data": {
      "text/plain": [
       "str"
      ]
     },
     "execution_count": 4,
     "metadata": {},
     "output_type": "execute_result"
    }
   ],
   "source": [
    "type(str1)"
   ]
  },
  {
   "cell_type": "code",
   "execution_count": null,
   "id": "e60da52d",
   "metadata": {},
   "outputs": [],
   "source": [
    "str2='python'\n",
    "str3='10.5'\n",
    "str4='10'\n",
    "str5='true'\n",
    "str6=\"&$\""
   ]
  },
  {
   "cell_type": "markdown",
   "id": "61ca444b",
   "metadata": {},
   "source": [
    "**triple quotes**\n",
    "\n",
    "- triple quotes is used to convey the information\n",
    "\n",
    "- it is called as **Doc string**\n",
    "\n",
    "- it is also calleds  as **multiline**"
   ]
  },
  {
   "cell_type": "code",
   "execution_count": 7,
   "id": "92910873",
   "metadata": {},
   "outputs": [
    {
     "name": "stdout",
     "output_type": "stream",
     "text": [
      "Hello how are you\n",
      "      im good\n"
     ]
    }
   ],
   "source": [
    "str7=\"\"\"Hello how are you\n",
    "      im good\"\"\"\n",
    "print(str7)"
   ]
  },
  {
   "cell_type": "code",
   "execution_count": 8,
   "id": "057e8dcc",
   "metadata": {},
   "outputs": [
    {
     "data": {
      "text/plain": [
       "\"i like 'python'\""
      ]
     },
     "execution_count": 8,
     "metadata": {},
     "output_type": "execute_result"
    }
   ],
   "source": [
    "str8= \"i like 'python'\"\n",
    "str8"
   ]
  },
  {
   "cell_type": "code",
   "execution_count": 3,
   "id": "1bda5a1f",
   "metadata": {},
   "outputs": [
    {
     "data": {
      "text/plain": [
       "'i like python'"
      ]
     },
     "execution_count": 3,
     "metadata": {},
     "output_type": "execute_result"
    }
   ],
   "source": [
    "str8='i like python'\n",
    "str8"
   ]
  },
  {
   "cell_type": "markdown",
   "id": "622c5b99",
   "metadata": {},
   "source": [
    "- type\n",
    "\n",
    "- print\n",
    "\n",
    "- len\n",
    "\n",
    "- mex\n",
    "\n",
    "- min\n",
    "\n",
    "- reversed\n",
    "\n",
    "- sorted\n",
    "\n",
    "- in \n",
    "\n",
    "- index\n",
    "\n",
    "- slice"
   ]
  },
  {
   "cell_type": "markdown",
   "id": "49b92694",
   "metadata": {},
   "source": [
    "**type**\n",
    "\n",
    "- type is a keyword, it will give the type of value"
   ]
  },
  {
   "cell_type": "code",
   "execution_count": 9,
   "id": "8485e6f9",
   "metadata": {},
   "outputs": [
    {
     "data": {
      "text/plain": [
       "str"
      ]
     },
     "execution_count": 9,
     "metadata": {},
     "output_type": "execute_result"
    }
   ],
   "source": [
    "str1=\"python\"\n",
    "type(str1)"
   ]
  },
  {
   "cell_type": "markdown",
   "id": "c691a7e6",
   "metadata": {},
   "source": [
    "***what is the difference between keywords and package methods***\n",
    " \n",
    "- keyword is reserved word\n",
    "\n",
    "-  differnt methods are availble on different package\n",
    "\n",
    "- we have limited keywords are there : 35 keyword are there\n",
    "    these fixed\n",
    "    \n",
    "   - whenver any  keyword : keyword(value)\n",
    "        \n",
    "- before  keyword there is another statement\n",
    "\n",
    "- there is  no dot before keyboard\n",
    "        eval()\n",
    "    \n",
    "        input()\n",
    "        \n",
    "        type\n",
    "        \n",
    "        range\n",
    "        \n",
    "        print\n",
    "        \n",
    "- if you want to use method from package\n",
    "\n",
    "     - you need to import the package\n",
    "\n",
    "     - or packageme methodname\n",
    "\n",
    "\n",
    "\n",
    "\n",
    "import random\n",
    "random.randint"
   ]
  },
  {
   "cell_type": "code",
   "execution_count": null,
   "id": "14cae76f",
   "metadata": {},
   "outputs": [],
   "source": [
    "eval()\n",
    "input()\n",
    "type()\n",
    "print()\n",
    "\n",
    "random.randint\n",
    "time.sleep"
   ]
  },
  {
   "cell_type": "markdown",
   "id": "f4217173",
   "metadata": {},
   "source": [
    "**len**"
   ]
  },
  {
   "cell_type": "code",
   "execution_count": 5,
   "id": "c622b2d2",
   "metadata": {},
   "outputs": [
    {
     "data": {
      "text/plain": [
       "(6, 9)"
      ]
     },
     "execution_count": 5,
     "metadata": {},
     "output_type": "execute_result"
    }
   ],
   "source": [
    "str1='python'\n",
    "len(str1), len('neresh it')"
   ]
  },
  {
   "cell_type": "code",
   "execution_count": 6,
   "id": "0798b8b7",
   "metadata": {},
   "outputs": [
    {
     "data": {
      "text/plain": [
       "1"
      ]
     },
     "execution_count": 6,
     "metadata": {},
     "output_type": "execute_result"
    }
   ],
   "source": [
    "len(' ')"
   ]
  },
  {
   "cell_type": "markdown",
   "id": "3404784f",
   "metadata": {},
   "source": [
    "**max**\n",
    "\n",
    "- it will  retrive the meximu charcter based on ascii value"
   ]
  },
  {
   "cell_type": "code",
   "execution_count": 7,
   "id": "410e9454",
   "metadata": {},
   "outputs": [
    {
     "data": {
      "text/plain": [
       "'y'"
      ]
     },
     "execution_count": 7,
     "metadata": {},
     "output_type": "execute_result"
    }
   ],
   "source": [
    "s1='python'\n",
    "max(s1)"
   ]
  },
  {
   "cell_type": "code",
   "execution_count": 14,
   "id": "a7edcf9c",
   "metadata": {},
   "outputs": [
    {
     "data": {
      "text/plain": [
       "(112, 121, 116, 104, 111, 110)"
      ]
     },
     "execution_count": 14,
     "metadata": {},
     "output_type": "execute_result"
    }
   ],
   "source": [
    "ord('p'),ord('y'),ord('t'),ord('h'),ord('o'),ord('n')"
   ]
  },
  {
   "cell_type": "markdown",
   "id": "89a853bf",
   "metadata": {},
   "source": [
    "**min**\n",
    "\n",
    "- it will  retrive the miximum charcter based on ascii value"
   ]
  },
  {
   "cell_type": "code",
   "execution_count": 15,
   "id": "5ded53b2",
   "metadata": {},
   "outputs": [
    {
     "data": {
      "text/plain": [
       "'h'"
      ]
     },
     "execution_count": 15,
     "metadata": {},
     "output_type": "execute_result"
    }
   ],
   "source": [
    "s1='python'\n",
    "min(s1)"
   ]
  },
  {
   "cell_type": "markdown",
   "id": "a6d73311",
   "metadata": {},
   "source": [
    "**sum**\n",
    "\n",
    "- it will return the sum of the value\n",
    "\n",
    "- it will not works for string\n"
   ]
  },
  {
   "cell_type": "code",
   "execution_count": null,
   "id": "d79a4bff",
   "metadata": {},
   "outputs": [],
   "source": [
    "sum(\"123\")"
   ]
  },
  {
   "cell_type": "markdown",
   "id": "d71d9869",
   "metadata": {},
   "source": [
    "**reversed**\n"
   ]
  },
  {
   "cell_type": "code",
   "execution_count": 16,
   "id": "530d9282",
   "metadata": {},
   "outputs": [
    {
     "data": {
      "text/plain": [
       "<reversed at 0x23b9203cc40>"
      ]
     },
     "execution_count": 16,
     "metadata": {},
     "output_type": "execute_result"
    }
   ],
   "source": [
    "reversed('python')"
   ]
  },
  {
   "cell_type": "code",
   "execution_count": 17,
   "id": "082489dd",
   "metadata": {},
   "outputs": [
    {
     "name": "stdout",
     "output_type": "stream",
     "text": [
      "n\n",
      "o\n",
      "h\n",
      "t\n",
      "y\n",
      "p\n"
     ]
    }
   ],
   "source": [
    "str1=reversed('python')\n",
    "for i in str1:\n",
    "    print(i)"
   ]
  },
  {
   "cell_type": "markdown",
   "id": "01378a3c",
   "metadata": {},
   "source": [
    "**note**\n",
    "\n",
    "- whwnver you see the output  between inside greter then  less then symbol\n",
    "\n",
    "- mens the output is stored inside that\n",
    "\n",
    "- it is nothing bet a **iterater**\n",
    "\n",
    "- iterete mens the output we can see using loop only"
   ]
  },
  {
   "cell_type": "markdown",
   "id": "3f85ff06",
   "metadata": {},
   "source": [
    "**sorted**\n",
    "\n",
    "- will give the output ascending order or desending order based on ascii values\n",
    "\n",
    "- sorted has onr argument called reverse\n",
    "\n",
    "- reverse is a default argument with value false\n",
    "\n",
    "- false means it return in ascending order\n",
    "\n",
    "- ascending mens small to big\n",
    "\n",
    "- now give reverse =True and check the order\n",
    "\n",
    "- it should be desendeing order\n",
    "\n",
    "- descending meang bigs to small"
   ]
  },
  {
   "cell_type": "code",
   "execution_count": 21,
   "id": "f8335f44",
   "metadata": {},
   "outputs": [
    {
     "data": {
      "text/plain": [
       "(112, 121, 116, 104, 111, 110)"
      ]
     },
     "execution_count": 21,
     "metadata": {},
     "output_type": "execute_result"
    }
   ],
   "source": [
    "ord('p'),ord('y'),ord('t'),ord('h'),ord('o'),ord('n')"
   ]
  },
  {
   "cell_type": "code",
   "execution_count": 19,
   "id": "b54d841f",
   "metadata": {},
   "outputs": [
    {
     "data": {
      "text/plain": [
       "['h', 'n', 'o', 'p', 't', 'y']"
      ]
     },
     "execution_count": 19,
     "metadata": {},
     "output_type": "execute_result"
    }
   ],
   "source": [
    "sorted('python')\n",
    "\n",
    "# [104,110,111,112,116,121]"
   ]
  },
  {
   "cell_type": "code",
   "execution_count": 22,
   "id": "6d388c97",
   "metadata": {},
   "outputs": [
    {
     "data": {
      "text/plain": [
       "['y', 't', 'p', 'o', 'n', 'h']"
      ]
     },
     "execution_count": 22,
     "metadata": {},
     "output_type": "execute_result"
    }
   ],
   "source": [
    "sorted('python',reverse=True)"
   ]
  },
  {
   "cell_type": "code",
   "execution_count": 24,
   "id": "ba6a04a8",
   "metadata": {},
   "outputs": [
    {
     "ename": "TypeError",
     "evalue": "sorted expected 1 argument, got 0",
     "output_type": "error",
     "traceback": [
      "\u001b[1;31m---------------------------------------------------------------------------\u001b[0m",
      "\u001b[1;31mTypeError\u001b[0m                                 Traceback (most recent call last)",
      "Cell \u001b[1;32mIn[24], line 1\u001b[0m\n\u001b[1;32m----> 1\u001b[0m \u001b[38;5;28msorted\u001b[39m(iterable\u001b[38;5;241m=\u001b[39m\u001b[38;5;124m'\u001b[39m\u001b[38;5;124mpython\u001b[39m\u001b[38;5;124m'\u001b[39m,reverse\u001b[38;5;241m=\u001b[39m\u001b[38;5;28;01mTrue\u001b[39;00m)\n",
      "\u001b[1;31mTypeError\u001b[0m: sorted expected 1 argument, got 0"
     ]
    }
   ],
   "source": [
    "sorted(iterable='python',reverse=True)\n",
    "\n",
    "# if you see any /\n",
    "# do not assign any argument before the slash"
   ]
  },
  {
   "cell_type": "code",
   "execution_count": 33,
   "id": "9dd60fe3",
   "metadata": {},
   "outputs": [
    {
     "ename": "TypeError",
     "evalue": "'image' is an invalid keyword argument for complex()",
     "output_type": "error",
     "traceback": [
      "\u001b[1;31m---------------------------------------------------------------------------\u001b[0m",
      "\u001b[1;31mTypeError\u001b[0m                                 Traceback (most recent call last)",
      "Cell \u001b[1;32mIn[33], line 1\u001b[0m\n\u001b[1;32m----> 1\u001b[0m \u001b[38;5;28mcomplex\u001b[39m(real\u001b[38;5;241m=\u001b[39m\u001b[38;5;241m2\u001b[39m,image\u001b[38;5;241m=\u001b[39m\u001b[38;5;241m3\u001b[39m)\n",
      "\u001b[1;31mTypeError\u001b[0m: 'image' is an invalid keyword argument for complex()"
     ]
    }
   ],
   "source": [
    "complex()# it is written\n",
    "complex(2,3) # w\n",
    "complex(real=2,image=3)# w\n",
    "complex(real=2,3)    # f\n",
    "complex(2,image=3)  # w"
   ]
  },
  {
   "cell_type": "code",
   "execution_count": 35,
   "id": "d1060256",
   "metadata": {},
   "outputs": [
    {
     "data": {
      "text/plain": [
       "(2+3j)"
      ]
     },
     "execution_count": 35,
     "metadata": {},
     "output_type": "execute_result"
    }
   ],
   "source": [
    "complex(2,3)"
   ]
  },
  {
   "cell_type": "code",
   "execution_count": null,
   "id": "1ca2e84c",
   "metadata": {},
   "outputs": [],
   "source": [
    "import random\n",
    "random.randint() # w\n",
    "random,randint(10,20) # w\n",
    "random.randint(a=10,b=20) #w\n",
    "random.randint(c=20,d=50)# f\n",
    "random,randint(a=10,20)\n",
    "random,randint(10,b=20)"
   ]
  },
  {
   "cell_type": "markdown",
   "id": "75979cf2",
   "metadata": {},
   "source": [
    "# in"
   ]
  },
  {
   "cell_type": "code",
   "execution_count": 2,
   "id": "1ed5114b",
   "metadata": {},
   "outputs": [
    {
     "name": "stdout",
     "output_type": "stream",
     "text": [
      "a\n",
      "a\n",
      "a\n",
      "3\n"
     ]
    }
   ],
   "source": [
    "#q1)  wap ask the user get the number of 'a' in a given string\n",
    "str1='hello how are you,im anand'\n",
    "# count=0\n",
    "# iterate through each letter\n",
    "# if then letter equal to 'a'\n",
    "# then count =count+1\n",
    "\n",
    "count=3\n",
    "for i in str1:\n",
    "    if i=='a':\n",
    "        print(i)\n",
    "print(count)        \n",
    "# step=1: i='e' if 'e'=='a' True"
   ]
  },
  {
   "cell_type": "markdown",
   "id": "373da4b0",
   "metadata": {},
   "source": [
    "- intilisation of string\n",
    "\n",
    "- type\n",
    "\n",
    "- print\n",
    "\n",
    "- len\n",
    "\n",
    "- min\n",
    "\n",
    "- max\n",
    "\n",
    "- sorted\n",
    "\n",
    "- reversed\n",
    "\n",
    "- in"
   ]
  },
  {
   "cell_type": "markdown",
   "id": "b44bd5f8",
   "metadata": {},
   "source": [
    "**index**"
   ]
  },
  {
   "cell_type": "code",
   "execution_count": 3,
   "id": "77905ca3",
   "metadata": {},
   "outputs": [
    {
     "data": {
      "text/plain": [
       "'h'"
      ]
     },
     "execution_count": 3,
     "metadata": {},
     "output_type": "execute_result"
    }
   ],
   "source": [
    "str1='hello python'\n",
    "\n",
    "# in python index start with zero\n",
    "\n",
    "str1[0]\n",
    "str1[1]\n",
    "str1[2]\n",
    "str1[3]\n",
    "\n",
    "\n",
    "str1[i]"
   ]
  },
  {
   "cell_type": "code",
   "execution_count": null,
   "id": "5bc209f5",
   "metadata": {},
   "outputs": [],
   "source": [
    "h  e  l  l  o     p  y  t  h   o  n\n",
    "0  1  2  3  4  5  6  7  8  9  10  11"
   ]
  },
  {
   "cell_type": "code",
   "execution_count": 5,
   "id": "4e3adee3",
   "metadata": {},
   "outputs": [
    {
     "data": {
      "text/plain": [
       "12"
      ]
     },
     "execution_count": 5,
     "metadata": {},
     "output_type": "execute_result"
    }
   ],
   "source": [
    "len(str1)"
   ]
  },
  {
   "cell_type": "code",
   "execution_count": 4,
   "id": "e54c5020",
   "metadata": {},
   "outputs": [
    {
     "name": "stdout",
     "output_type": "stream",
     "text": [
      "0 h\n",
      "1 e\n",
      "2 l\n",
      "3 l\n",
      "4 o\n",
      "5  \n",
      "6 p\n",
      "7 y\n",
      "8 t\n",
      "9 h\n",
      "10 o\n",
      "11 n\n"
     ]
    }
   ],
   "source": [
    "for i in range(12):\n",
    "    print(i,str1[i])"
   ]
  },
  {
   "cell_type": "code",
   "execution_count": 6,
   "id": "99653b09",
   "metadata": {},
   "outputs": [
    {
     "name": "stdout",
     "output_type": "stream",
     "text": [
      "0 n\n",
      "1 a\n",
      "2 r\n",
      "3 e\n",
      "4 s\n",
      "5 h\n",
      "6  \n",
      "7 i\n",
      "8 t\n"
     ]
    }
   ],
   "source": [
    "str1='naresh it'\n",
    "n=len(str1)\n",
    "for i in range(n):\n",
    "    print(i,str1[i])"
   ]
  },
  {
   "cell_type": "code",
   "execution_count": null,
   "id": "536c8b46",
   "metadata": {},
   "outputs": [],
   "source": [
    " # -12 -11 -10 -9  -8 -7 -6 -5 -4 -3 -2 -1\n",
    " #   h   e   l   l   o     p  y  t  h   o  n\n",
    " #   0    1   2   3  4  5  6  7  8  9  10  11"
   ]
  },
  {
   "cell_type": "code",
   "execution_count": 8,
   "id": "d3808830",
   "metadata": {},
   "outputs": [
    {
     "data": {
      "text/plain": [
       "('h', 'h')"
      ]
     },
     "execution_count": 8,
     "metadata": {},
     "output_type": "execute_result"
    }
   ],
   "source": [
    "str1='hello python'\n",
    "str1[-12],str1[0]"
   ]
  },
  {
   "cell_type": "code",
   "execution_count": 9,
   "id": "9ae6b073",
   "metadata": {},
   "outputs": [
    {
     "data": {
      "text/plain": [
       "'l'"
      ]
     },
     "execution_count": 9,
     "metadata": {},
     "output_type": "execute_result"
    }
   ],
   "source": [
    "str1[-12]\n",
    "str1[-11]\n",
    "str1[-10]\n",
    "\n",
    "# hello python\n",
    "# -12  -1"
   ]
  },
  {
   "cell_type": "code",
   "execution_count": 10,
   "id": "b1ec5351",
   "metadata": {},
   "outputs": [
    {
     "name": "stdout",
     "output_type": "stream",
     "text": [
      "-12 h -11 e -10 l -9 l -8 o -7   -6 p -5 y -4 t -3 h -2 o -1 n "
     ]
    }
   ],
   "source": [
    "for i in range(-12,0):\n",
    "    print(i,str1[i],end=' ')"
   ]
  },
  {
   "cell_type": "code",
   "execution_count": 11,
   "id": "0870acf2",
   "metadata": {},
   "outputs": [
    {
     "name": "stdout",
     "output_type": "stream",
     "text": [
      "-12 h\n",
      "-11 e\n",
      "-10 l\n",
      "-9 l\n",
      "-8 o\n",
      "-7  \n",
      "-6 p\n",
      "-5 y\n",
      "-4 t\n",
      "-3 h\n",
      "-2 o\n",
      "-1 n\n"
     ]
    }
   ],
   "source": [
    "str1='hello python'\n",
    "n=len(str1)\n",
    "for i in range(-n,0):\n",
    "    print(i,str1[i])"
   ]
  },
  {
   "cell_type": "markdown",
   "id": "49534d25",
   "metadata": {},
   "source": [
    "**postive index**"
   ]
  },
  {
   "cell_type": "code",
   "execution_count": null,
   "id": "f65dd7a8",
   "metadata": {},
   "outputs": [],
   "source": [
    "str1='hello python'\n",
    "n=len(str1)\n",
    "for i in range(n):\n",
    "    print(i,str1[i])"
   ]
  },
  {
   "cell_type": "markdown",
   "id": "82901636",
   "metadata": {},
   "source": [
    "**negative index**"
   ]
  },
  {
   "cell_type": "code",
   "execution_count": null,
   "id": "3ed00831",
   "metadata": {},
   "outputs": [],
   "source": [
    "str1='hello python'\n",
    "n=len(str1)\n",
    "for i in range(-n,0):\n",
    "    print(i,str1[i])"
   ]
  },
  {
   "cell_type": "code",
   "execution_count": null,
   "id": "a812e1f1",
   "metadata": {},
   "outputs": [],
   "source": [
    "#Q2 wap to print the each lettr index postive way\n",
    "      # the postive index of h is 0\n",
    "      # the postive index of e is 1\n",
    "        \n",
    "#Q3 wap to print the index letter each letter index negative way\n",
    "    # the negative index of h is -12\n",
    "    # the negative index of e is -11\n",
    "    \n",
    "#Q4 wap to print the each letter index postive and negative way(single for loop\n",
    "   # the postive index of h is 0 and negative index of h is -12\n",
    "   # the postive index of e is 1 and nagtive index of e is -11"
   ]
  },
  {
   "cell_type": "code",
   "execution_count": 15,
   "id": "5f6c2af1",
   "metadata": {},
   "outputs": [
    {
     "name": "stdout",
     "output_type": "stream",
     "text": [
      "0 h\n",
      "1 e\n",
      "2 l\n",
      "3 l\n",
      "4 o\n",
      "5  \n",
      "6 p\n",
      "7 y\n",
      "8 t\n",
      "9 h\n",
      "10 o\n",
      "11 n\n"
     ]
    }
   ],
   "source": [
    "str1='hello python'\n",
    "n=len(str1)\n",
    "for i in range(n):\n",
    "    print(i,str1[i])"
   ]
  },
  {
   "cell_type": "code",
   "execution_count": 19,
   "id": "0a5e7398",
   "metadata": {},
   "outputs": [
    {
     "name": "stdout",
     "output_type": "stream",
     "text": [
      "0 1 2 3 4 5 6 7 8 9 10 11 -12\n",
      "-11\n",
      "-10\n",
      "-9\n",
      "-8\n",
      "-7\n",
      "-6\n",
      "-5\n",
      "-4\n",
      "-3\n",
      "-2\n",
      "-1\n",
      "0 -12\n",
      "1 -11\n",
      "2 -10\n",
      "3 -9\n",
      "4 -8\n",
      "5 -7\n",
      "6 -6\n",
      "7 -5\n",
      "8 -4\n",
      "9 -3\n",
      "10 -2\n",
      "11 -1\n"
     ]
    }
   ],
   "source": [
    "for i in range (len(str1)):\n",
    "    print(i,end=' ')\n",
    "    \n",
    "    \n",
    "for i in range (-len(str1),0):\n",
    "    print(i)\n",
    "        \n",
    "        \n",
    "for i in range (len(str1)):\n",
    "    print(i,i-len(str1))    \n",
    "    \n",
    "# h=0  -12    "
   ]
  },
  {
   "cell_type": "code",
   "execution_count": 6,
   "id": "d95e3ada",
   "metadata": {},
   "outputs": [
    {
     "name": "stdout",
     "output_type": "stream",
     "text": [
      "the positive index of   h  is 0\n",
      "the positive index of   e  is 1\n",
      "the positive index of   l  is 2\n",
      "the positive index of   l  is 3\n",
      "the positive index of   o  is 4\n",
      "the positive index of      is 5\n",
      "the positive index of   p  is 6\n",
      "the positive index of   y  is 7\n",
      "the positive index of   t  is 8\n",
      "the positive index of   h  is 9\n",
      "the positive index of   o  is 10\n",
      "the positive index of   n  is 11\n"
     ]
    }
   ],
   "source": [
    "str1='hello python'\n",
    "n=len(str1)\n",
    "for i in range (len(str1)):\n",
    "    print(f\"the positive index of   {str1[i]}  is {i}\")\n",
    "    "
   ]
  },
  {
   "cell_type": "code",
   "execution_count": 7,
   "id": "d5ce3c7e",
   "metadata": {},
   "outputs": [
    {
     "name": "stdout",
     "output_type": "stream",
     "text": [
      "the negative index of h  is -12\n",
      "the negative index of e  is -11\n",
      "the negative index of l  is -10\n",
      "the negative index of l  is -9\n",
      "the negative index of o  is -8\n",
      "the negative index of    is -7\n",
      "the negative index of p  is -6\n",
      "the negative index of y  is -5\n",
      "the negative index of t  is -4\n",
      "the negative index of h  is -3\n",
      "the negative index of o  is -2\n",
      "the negative index of n  is -1\n"
     ]
    }
   ],
   "source": [
    "for i in range (len(str1)):\n",
    "    print(f\"the negative index of {str1[i]}  is {i-len(str1)}\")\n",
    "    "
   ]
  },
  {
   "cell_type": "code",
   "execution_count": 8,
   "id": "a0b6204f",
   "metadata": {},
   "outputs": [
    {
     "name": "stdout",
     "output_type": "stream",
     "text": [
      "the positive index of h  is 0   and the nagitive index of  h  is -12\n",
      "the positive index of e  is 1   and the nagitive index of  e  is -11\n",
      "the positive index of l  is 2   and the nagitive index of  l  is -10\n",
      "the positive index of l  is 3   and the nagitive index of  l  is -9\n",
      "the positive index of o  is 4   and the nagitive index of  o  is -8\n",
      "the positive index of    is 5   and the nagitive index of     is -7\n",
      "the positive index of p  is 6   and the nagitive index of  p  is -6\n",
      "the positive index of y  is 7   and the nagitive index of  y  is -5\n",
      "the positive index of t  is 8   and the nagitive index of  t  is -4\n",
      "the positive index of h  is 9   and the nagitive index of  h  is -3\n",
      "the positive index of o  is 10   and the nagitive index of  o  is -2\n",
      "the positive index of n  is 11   and the nagitive index of  n  is -1\n"
     ]
    }
   ],
   "source": [
    "for i in range (len(str1)):\n",
    "    print(f\"the positive index of {str1[i]}  is {i}   and the nagitive index of  {str1[i]}  is {i-len(str1)}\")\n",
    "    "
   ]
  },
  {
   "cell_type": "code",
   "execution_count": null,
   "id": "4dd8dd24",
   "metadata": {},
   "outputs": [],
   "source": [
    "#Q5)wap ask the users get the indexes of  occurences of 'a' in a given string\n",
    "\n",
    "# str1='available'\n",
    "# iterative through str1\n",
    "#apply the if condition if chatracter == a\n",
    "# then print that i"
   ]
  },
  {
   "cell_type": "code",
   "execution_count": null,
   "id": "020efd30",
   "metadata": {},
   "outputs": [],
   "source": [
    "***when"
   ]
  },
  {
   "cell_type": "code",
   "execution_count": 26,
   "id": "5d7d2e7e",
   "metadata": {},
   "outputs": [
    {
     "name": "stdout",
     "output_type": "stream",
     "text": [
      "a\n",
      "v\n",
      "a\n",
      "i\n",
      "b\n",
      "l\n",
      "e\n"
     ]
    }
   ],
   "source": [
    "# in case i ===> represents a number\n",
    "str1='avaible'\n",
    "for i in str1:\n",
    "    print(i)"
   ]
  },
  {
   "cell_type": "code",
   "execution_count": 35,
   "id": "0a1f0271",
   "metadata": {},
   "outputs": [
    {
     "name": "stdout",
     "output_type": "stream",
     "text": [
      "0\n",
      "2\n",
      "5\n"
     ]
    }
   ],
   "source": [
    "str1='available'\n",
    "for i in range(len(str1)):\n",
    "    if str1[i]=='a':\n",
    "        print(i)\n",
    "        \n",
    "# i=0 str[0]='a' a=='a' true print(0)\n",
    "#i=1 str[1] ='a' 'v'=='a' flase\n",
    "# i=2 str[2] ='a' 'a'=='a' true print(2)"
   ]
  },
  {
   "cell_type": "code",
   "execution_count": null,
   "id": "8015b502",
   "metadata": {},
   "outputs": [],
   "source": [
    "#Q6)  print the 1 occurance of ' a' index is 0\n",
    "#       the 2 occurance of 'a' index is 2\n",
    "#       the 3 occurance of 'a' index is 5"
   ]
  },
  {
   "cell_type": "code",
   "execution_count": 37,
   "id": "8c5b4cdb",
   "metadata": {},
   "outputs": [
    {
     "name": "stdout",
     "output_type": "stream",
     "text": [
      "the 1 occurence of 'a' is 0\n",
      "the 2 occurence of 'a' is 2\n",
      "the 3 occurence of 'a' is 5\n"
     ]
    }
   ],
   "source": [
    "count=0\n",
    "str1='available'\n",
    "for i in range(len(str1)):\n",
    "    if str1[i]=='a':\n",
    "        count=count+1\n",
    "        print(f\"the {count} occurence of 'a' is {i}\")\n",
    "        "
   ]
  },
  {
   "cell_type": "code",
   "execution_count": null,
   "id": "12d49c5f",
   "metadata": {},
   "outputs": [],
   "source": [
    "# Q7) get the sum of all the indexes\n",
    "#    get the count of all occurences :3"
   ]
  },
  {
   "cell_type": "code",
   "execution_count": 49,
   "id": "a7ef9fc3",
   "metadata": {},
   "outputs": [
    {
     "name": "stdout",
     "output_type": "stream",
     "text": [
      "the count of index of all occurence of 'a' is 1\n",
      "the sum of index of all occurence of   'a'  is  1\n",
      "the count of index of all occurence of 'a' is 1\n",
      "the sum of index of all occurence of   'a'  is  2\n",
      "the count of index of all occurence of 'a' is 2\n",
      "the sum of index of all occurence of   'a'  is  3\n",
      "the count of index of all occurence of 'a' is 2\n",
      "the sum of index of all occurence of   'a'  is  4\n",
      "the count of index of all occurence of 'a' is 2\n",
      "the sum of index of all occurence of   'a'  is  5\n",
      "the count of index of all occurence of 'a' is 3\n",
      "the sum of index of all occurence of   'a'  is  6\n",
      "the count of index of all occurence of 'a' is 3\n",
      "the sum of index of all occurence of   'a'  is  7\n",
      "the count of index of all occurence of 'a' is 3\n",
      "the sum of index of all occurence of   'a'  is  8\n",
      "the count of index of all occurence of 'a' is 3\n",
      "the sum of index of all occurence of   'a'  is  9\n"
     ]
    }
   ],
   "source": [
    "sum=0\n",
    "count=0\n",
    "str='available'\n",
    "for i in range(len(str1)):\n",
    "    if str1[i]=='a':\n",
    "        count=count+1 \n",
    "    sum=sum+1\n",
    "    print(f\"the count of index of all occurence of 'a' is {count}\")\n",
    "    \n",
    "    print(f\"the sum of index of all occurence of   'a'  is  {sum}\")"
   ]
  },
  {
   "cell_type": "code",
   "execution_count": null,
   "id": "3455a827",
   "metadata": {},
   "outputs": [],
   "source": [
    "#Q8) \n",
    "\n",
    "# A) find the vowela in the given string\n",
    "\n",
    "# str1: hai how are you\n",
    "\n",
    "# B) find the index of vowels\n",
    "\n",
    "# C) find the count of the vowels\n",
    "\n",
    "# D)  find the sum of befor indexof vowels"
   ]
  },
  {
   "cell_type": "code",
   "execution_count": 55,
   "id": "b30120a9",
   "metadata": {},
   "outputs": [
    {
     "name": "stdout",
     "output_type": "stream",
     "text": [
      "a i o a e o u "
     ]
    }
   ],
   "source": [
    "str='hai how are you'\n",
    "for i in range(len(str)):\n",
    "    if str[i] in 'aeiou':\n",
    "        print(str[i],end=' ')\n",
    "        \n",
    "# 'h' in 'aeiou' False\n",
    "# 'i' in 'aeiou' True"
   ]
  },
  {
   "cell_type": "markdown",
   "id": "87826f26",
   "metadata": {},
   "source": [
    "***mutable-immutable***\n",
    "\n",
    "- values can not change using index operation called as **immutable**\n",
    "\n",
    "- **STRINGS ARE IMMUTABLE**"
   ]
  },
  {
   "cell_type": "code",
   "execution_count": 24,
   "id": "e32de644",
   "metadata": {},
   "outputs": [
    {
     "data": {
      "text/plain": [
       "'Python'"
      ]
     },
     "execution_count": 24,
     "metadata": {},
     "output_type": "execute_result"
    }
   ],
   "source": [
    "# i want replace 'p' with 'P'\n",
    "str1='python'\n",
    "str1.replace('p','P')"
   ]
  },
  {
   "cell_type": "code",
   "execution_count": 5,
   "id": "31edb84f",
   "metadata": {},
   "outputs": [
    {
     "data": {
      "text/plain": [
       "[100, 20, 30]"
      ]
     },
     "execution_count": 5,
     "metadata": {},
     "output_type": "execute_result"
    }
   ],
   "source": [
    "l=[10,20,30]\n",
    "l[0]=100\n",
    "l"
   ]
  },
  {
   "cell_type": "markdown",
   "id": "e38e48fb",
   "metadata": {},
   "source": [
    "***slice***\n",
    "\n",
    "- cut into pieces\n",
    "\n",
    "- which means we can extracy some part of string\n",
    "\n",
    "- for that we need to understand the  stop, start, step\n",
    "\n",
    "- s[start:stop:step]\n"
   ]
  },
  {
   "cell_type": "code",
   "execution_count": 7,
   "id": "134605c2",
   "metadata": {},
   "outputs": [
    {
     "data": {
      "text/plain": [
       "'llo pyth'"
      ]
     },
     "execution_count": 7,
     "metadata": {},
     "output_type": "execute_result"
    }
   ],
   "source": [
    " # -12 -11 -10 -9  -8 -7 -6 -5 -4 -3 -2 -1\n",
    " #   h   e   l   l   o     p  y  t  h   o  n\n",
    " #   0    1   2   3  4  5  6  7  8  9  10  11\n",
    "    \n",
    "str='hello python'\n",
    "str[2:10]\n",
    "    # start=2\n",
    "    # direct=postive\n",
    "    # last=stop-1=10-1=9"
   ]
  },
  {
   "cell_type": "code",
   "execution_count": 10,
   "id": "bdeff161",
   "metadata": {},
   "outputs": [
    {
     "data": {
      "text/plain": [
       "'lopt'"
      ]
     },
     "execution_count": 10,
     "metadata": {},
     "output_type": "execute_result"
    }
   ],
   "source": [
    "str='hello python'\n",
    "str[2:10:2]"
   ]
  },
  {
   "cell_type": "code",
   "execution_count": 11,
   "id": "82f6985d",
   "metadata": {},
   "outputs": [
    {
     "data": {
      "text/plain": [
       "''"
      ]
     },
     "execution_count": 11,
     "metadata": {},
     "output_type": "execute_result"
    }
   ],
   "source": [
    "str='hello python'\n",
    "str[2:10:-2]\n",
    "\n",
    "# strt value=2\n",
    "# direction =-ve\n",
    "# last= stop+1= 10+1=11\n",
    "# 2=======11 (actual postive)\n",
    "# code says negative it is not possible"
   ]
  },
  {
   "cell_type": "code",
   "execution_count": 15,
   "id": "42f23107",
   "metadata": {},
   "outputs": [
    {
     "data": {
      "text/plain": [
       "'y le'"
      ]
     },
     "execution_count": 15,
     "metadata": {},
     "output_type": "execute_result"
    }
   ],
   "source": [
    " # -12 -11 -10 -9  -8 -7 -6 -5 -4 -3 -2 -1\n",
    " #   h   e   l   l   o     p  y  t  h   o  n\n",
    " #   0    1   2   3  4  5  6  7  8  9  10  11\n",
    "  \n",
    " str='hello python'\n",
    "str[7:-12:-2]"
   ]
  },
  {
   "cell_type": "code",
   "execution_count": 16,
   "id": "113b600b",
   "metadata": {},
   "outputs": [
    {
     "data": {
      "text/plain": [
       "'lopto'"
      ]
     },
     "execution_count": 16,
     "metadata": {},
     "output_type": "execute_result"
    }
   ],
   "source": [
    " str='hello python'\n",
    "str[2:-1:2]\n",
    "\n",
    "\n",
    "# start=2\n",
    "# dir=post\n",
    "# last=stop-1=-4-1=-5"
   ]
  },
  {
   "cell_type": "code",
   "execution_count": null,
   "id": "e8567751",
   "metadata": {},
   "outputs": [],
   "source": [
    "  # -12 -11 -10 -9  -8 -7 -6 -5 -4 -3 -2 -1\n",
    " #   h   e   l   l   o     p  y  t  h   o  n\n",
    " #   0    1   2   3  4  5  6  7  8  9  10  11\n",
    "\n",
    "str1[2:12:2]\n",
    "str1[2:12:-2]\n",
    "str1[2:-12:2]\n",
    "str1[2:-12:-2]\n",
    "str1[-2:-12:-2]\n",
    "str1[-2:12:2]\n",
    "str1[-2:-12:2]\n",
    "str1[:]\n",
    "str1[2:]\n",
    "str1[:12]\n",
    "str1[::]\n",
    "str1[::-1]"
   ]
  },
  {
   "cell_type": "code",
   "execution_count": 21,
   "id": "0cca15f9",
   "metadata": {},
   "outputs": [
    {
     "data": {
      "text/plain": [
       "'lopto'"
      ]
     },
     "execution_count": 21,
     "metadata": {},
     "output_type": "execute_result"
    }
   ],
   "source": [
    "str1='hello python'\n",
    "str1[2:12:2]"
   ]
  },
  {
   "cell_type": "code",
   "execution_count": 22,
   "id": "f1ee82ef",
   "metadata": {},
   "outputs": [
    {
     "data": {
      "text/plain": [
       "''"
      ]
     },
     "execution_count": 22,
     "metadata": {},
     "output_type": "execute_result"
    }
   ],
   "source": [
    "str1='hello python'\n",
    "str1[2:12:-2]"
   ]
  },
  {
   "cell_type": "code",
   "execution_count": 23,
   "id": "59b72113",
   "metadata": {},
   "outputs": [
    {
     "data": {
      "text/plain": [
       "''"
      ]
     },
     "execution_count": 23,
     "metadata": {},
     "output_type": "execute_result"
    }
   ],
   "source": [
    "str1='hello python'\n",
    "str1[2:-12:2]"
   ]
  },
  {
   "cell_type": "code",
   "execution_count": 24,
   "id": "812e488b",
   "metadata": {},
   "outputs": [
    {
     "data": {
      "text/plain": [
       "'l'"
      ]
     },
     "execution_count": 24,
     "metadata": {},
     "output_type": "execute_result"
    }
   ],
   "source": [
    "str1='hello python'\n",
    "str1[2:-12:-2]"
   ]
  },
  {
   "cell_type": "code",
   "execution_count": 25,
   "id": "fe515e29",
   "metadata": {},
   "outputs": [
    {
     "data": {
      "text/plain": [
       "'otpol'"
      ]
     },
     "execution_count": 25,
     "metadata": {},
     "output_type": "execute_result"
    }
   ],
   "source": [
    "str1='hello python'\n",
    "str1[-2:-12:-2]"
   ]
  },
  {
   "cell_type": "code",
   "execution_count": 26,
   "id": "aa214033",
   "metadata": {},
   "outputs": [
    {
     "data": {
      "text/plain": [
       "'o'"
      ]
     },
     "execution_count": 26,
     "metadata": {},
     "output_type": "execute_result"
    }
   ],
   "source": [
    "str1='hello python'\n",
    "str1[-2:12:2]"
   ]
  },
  {
   "cell_type": "code",
   "execution_count": 27,
   "id": "316cd580",
   "metadata": {},
   "outputs": [
    {
     "data": {
      "text/plain": [
       "''"
      ]
     },
     "execution_count": 27,
     "metadata": {},
     "output_type": "execute_result"
    }
   ],
   "source": [
    "str1='hello python'\n",
    "str1[-2:-12:2]"
   ]
  },
  {
   "cell_type": "code",
   "execution_count": 28,
   "id": "7ea607f1",
   "metadata": {},
   "outputs": [
    {
     "data": {
      "text/plain": [
       "'hello python'"
      ]
     },
     "execution_count": 28,
     "metadata": {},
     "output_type": "execute_result"
    }
   ],
   "source": [
    "str1='hello python'\n",
    "str1[:]"
   ]
  },
  {
   "cell_type": "code",
   "execution_count": 29,
   "id": "1b0991e8",
   "metadata": {},
   "outputs": [
    {
     "data": {
      "text/plain": [
       "'llo python'"
      ]
     },
     "execution_count": 29,
     "metadata": {},
     "output_type": "execute_result"
    }
   ],
   "source": [
    "str1='hello python'\n",
    "str1[2:]"
   ]
  },
  {
   "cell_type": "code",
   "execution_count": 30,
   "id": "3702d782",
   "metadata": {},
   "outputs": [
    {
     "data": {
      "text/plain": [
       "'hello python'"
      ]
     },
     "execution_count": 30,
     "metadata": {},
     "output_type": "execute_result"
    }
   ],
   "source": [
    "str1='hello python'\n",
    "str1[:12]"
   ]
  },
  {
   "cell_type": "code",
   "execution_count": 31,
   "id": "faaa38c6",
   "metadata": {},
   "outputs": [
    {
     "data": {
      "text/plain": [
       "'hello python'"
      ]
     },
     "execution_count": 31,
     "metadata": {},
     "output_type": "execute_result"
    }
   ],
   "source": [
    "str1='hello python'\n",
    "str1[::]"
   ]
  },
  {
   "cell_type": "code",
   "execution_count": 32,
   "id": "36352d90",
   "metadata": {},
   "outputs": [
    {
     "data": {
      "text/plain": [
       "'nohtyp olleh'"
      ]
     },
     "execution_count": 32,
     "metadata": {},
     "output_type": "execute_result"
    }
   ],
   "source": [
    "str1='hello python'\n",
    "str1[::-1]"
   ]
  },
  {
   "cell_type": "markdown",
   "id": "a1564a94",
   "metadata": {},
   "source": [
    "***concatination***"
   ]
  },
  {
   "cell_type": "code",
   "execution_count": 35,
   "id": "981f56a5",
   "metadata": {},
   "outputs": [
    {
     "data": {
      "text/plain": [
       "'hello python'"
      ]
     },
     "execution_count": 35,
     "metadata": {},
     "output_type": "execute_result"
    }
   ],
   "source": [
    "str1='hello'\n",
    "str2='python'\n",
    "str1+str2\n",
    "str1+' '+str2"
   ]
  },
  {
   "cell_type": "code",
   "execution_count": null,
   "id": "07cae6e4",
   "metadata": {},
   "outputs": [],
   "source": [
    "str1*str2  # error\n",
    "str1-str2   #error\n",
    "str/str2    #error\n",
    "\n",
    "# its not works because strings is not a numbers"
   ]
  },
  {
   "cell_type": "code",
   "execution_count": 20,
   "id": "33d04a8b",
   "metadata": {},
   "outputs": [
    {
     "ename": "TypeError",
     "evalue": "can't multiply sequence by non-int of type 'str'",
     "output_type": "error",
     "traceback": [
      "\u001b[1;31m---------------------------------------------------------------------------\u001b[0m",
      "\u001b[1;31mTypeError\u001b[0m                                 Traceback (most recent call last)",
      "Cell \u001b[1;32mIn[20], line 1\u001b[0m\n\u001b[1;32m----> 1\u001b[0m str1\u001b[38;5;241m*\u001b[39mstr2\n",
      "\u001b[1;31mTypeError\u001b[0m: can't multiply sequence by non-int of type 'str'"
     ]
    }
   ],
   "source": [
    "str1*str2"
   ]
  },
  {
   "cell_type": "code",
   "execution_count": 41,
   "id": "82eefa37",
   "metadata": {},
   "outputs": [
    {
     "data": {
      "text/plain": [
       "'hellohellohello'"
      ]
     },
     "execution_count": 41,
     "metadata": {},
     "output_type": "execute_result"
    }
   ],
   "source": [
    "str1*3   \n"
   ]
  },
  {
   "cell_type": "code",
   "execution_count": 42,
   "id": "9963ad16",
   "metadata": {},
   "outputs": [
    {
     "data": {
      "text/plain": [
       "'hellohellohello'"
      ]
     },
     "execution_count": 42,
     "metadata": {},
     "output_type": "execute_result"
    }
   ],
   "source": [
    "str1+str1+str1"
   ]
  },
  {
   "cell_type": "code",
   "execution_count": 43,
   "id": "740c6104",
   "metadata": {},
   "outputs": [
    {
     "ename": "TypeError",
     "evalue": "unsupported operand type(s) for -: 'str' and 'str'",
     "output_type": "error",
     "traceback": [
      "\u001b[1;31m---------------------------------------------------------------------------\u001b[0m",
      "\u001b[1;31mTypeError\u001b[0m                                 Traceback (most recent call last)",
      "Cell \u001b[1;32mIn[43], line 1\u001b[0m\n\u001b[1;32m----> 1\u001b[0m str1\u001b[38;5;241m-\u001b[39mstr2\n",
      "\u001b[1;31mTypeError\u001b[0m: unsupported operand type(s) for -: 'str' and 'str'"
     ]
    }
   ],
   "source": [
    "str1-str2"
   ]
  },
  {
   "cell_type": "code",
   "execution_count": 44,
   "id": "9510eb05",
   "metadata": {},
   "outputs": [
    {
     "ename": "TypeError",
     "evalue": "unsupported operand type(s) for /: 'str' and 'str'",
     "output_type": "error",
     "traceback": [
      "\u001b[1;31m---------------------------------------------------------------------------\u001b[0m",
      "\u001b[1;31mTypeError\u001b[0m                                 Traceback (most recent call last)",
      "Cell \u001b[1;32mIn[44], line 1\u001b[0m\n\u001b[1;32m----> 1\u001b[0m str1\u001b[38;5;241m/\u001b[39mstr2\n",
      "\u001b[1;31mTypeError\u001b[0m: unsupported operand type(s) for /: 'str' and 'str'"
     ]
    }
   ],
   "source": [
    "str1/str2"
   ]
  },
  {
   "cell_type": "markdown",
   "id": "1b97b810",
   "metadata": {},
   "source": [
    "## string part - 2\n",
    "\n",
    "***string method***"
   ]
  },
  {
   "cell_type": "markdown",
   "id": "798e5aa9",
   "metadata": {},
   "source": [
    "- we need to treat string is a package\n",
    "\n",
    "-  so apply dir on any string we will get thr method"
   ]
  },
  {
   "cell_type": "code",
   "execution_count": 45,
   "id": "57f5b390",
   "metadata": {
    "scrolled": true
   },
   "outputs": [
    {
     "data": {
      "text/plain": [
       "['__add__',\n",
       " '__class__',\n",
       " '__contains__',\n",
       " '__delattr__',\n",
       " '__dir__',\n",
       " '__doc__',\n",
       " '__eq__',\n",
       " '__format__',\n",
       " '__ge__',\n",
       " '__getattribute__',\n",
       " '__getitem__',\n",
       " '__getnewargs__',\n",
       " '__getstate__',\n",
       " '__gt__',\n",
       " '__hash__',\n",
       " '__init__',\n",
       " '__init_subclass__',\n",
       " '__iter__',\n",
       " '__le__',\n",
       " '__len__',\n",
       " '__lt__',\n",
       " '__mod__',\n",
       " '__mul__',\n",
       " '__ne__',\n",
       " '__new__',\n",
       " '__reduce__',\n",
       " '__reduce_ex__',\n",
       " '__repr__',\n",
       " '__rmod__',\n",
       " '__rmul__',\n",
       " '__setattr__',\n",
       " '__sizeof__',\n",
       " '__str__',\n",
       " '__subclasshook__',\n",
       " 'capitalize',\n",
       " 'casefold',\n",
       " 'center',\n",
       " 'count',\n",
       " 'encode',\n",
       " 'endswith',\n",
       " 'expandtabs',\n",
       " 'find',\n",
       " 'format',\n",
       " 'format_map',\n",
       " 'index',\n",
       " 'isalnum',\n",
       " 'isalpha',\n",
       " 'isascii',\n",
       " 'isdecimal',\n",
       " 'isdigit',\n",
       " 'isidentifier',\n",
       " 'islower',\n",
       " 'isnumeric',\n",
       " 'isprintable',\n",
       " 'isspace',\n",
       " 'istitle',\n",
       " 'isupper',\n",
       " 'join',\n",
       " 'ljust',\n",
       " 'lower',\n",
       " 'lstrip',\n",
       " 'maketrans',\n",
       " 'partition',\n",
       " 'removeprefix',\n",
       " 'removesuffix',\n",
       " 'replace',\n",
       " 'rfind',\n",
       " 'rindex',\n",
       " 'rjust',\n",
       " 'rpartition',\n",
       " 'rsplit',\n",
       " 'rstrip',\n",
       " 'split',\n",
       " 'splitlines',\n",
       " 'startswith',\n",
       " 'strip',\n",
       " 'swapcase',\n",
       " 'title',\n",
       " 'translate',\n",
       " 'upper',\n",
       " 'zfill']"
      ]
     },
     "execution_count": 45,
     "metadata": {},
     "output_type": "execute_result"
    }
   ],
   "source": [
    "s='python'\n",
    "dir(s)"
   ]
  },
  {
   "cell_type": "code",
   "execution_count": 47,
   "id": "5d88baaa",
   "metadata": {},
   "outputs": [
    {
     "data": {
      "text/plain": [
       "['__add__',\n",
       " '__class__',\n",
       " '__contains__',\n",
       " '__delattr__',\n",
       " '__dir__',\n",
       " '__doc__',\n",
       " '__eq__',\n",
       " '__format__',\n",
       " '__ge__',\n",
       " '__getattribute__',\n",
       " '__getitem__',\n",
       " '__getnewargs__',\n",
       " '__getstate__',\n",
       " '__gt__',\n",
       " '__hash__',\n",
       " '__init__',\n",
       " '__init_subclass__',\n",
       " '__iter__',\n",
       " '__le__',\n",
       " '__len__',\n",
       " '__lt__',\n",
       " '__mod__',\n",
       " '__mul__',\n",
       " '__ne__',\n",
       " '__new__',\n",
       " '__reduce__',\n",
       " '__reduce_ex__',\n",
       " '__repr__',\n",
       " '__rmod__',\n",
       " '__rmul__',\n",
       " '__setattr__',\n",
       " '__sizeof__',\n",
       " '__str__',\n",
       " '__subclasshook__',\n",
       " 'capitalize',\n",
       " 'casefold',\n",
       " 'center',\n",
       " 'count',\n",
       " 'encode',\n",
       " 'endswith',\n",
       " 'expandtabs',\n",
       " 'find',\n",
       " 'format',\n",
       " 'format_map',\n",
       " 'index',\n",
       " 'isalnum',\n",
       " 'isalpha',\n",
       " 'isascii',\n",
       " 'isdecimal',\n",
       " 'isdigit',\n",
       " 'isidentifier',\n",
       " 'islower',\n",
       " 'isnumeric',\n",
       " 'isprintable',\n",
       " 'isspace',\n",
       " 'istitle',\n",
       " 'isupper',\n",
       " 'join',\n",
       " 'ljust',\n",
       " 'lower',\n",
       " 'lstrip',\n",
       " 'maketrans',\n",
       " 'partition',\n",
       " 'removeprefix',\n",
       " 'removesuffix',\n",
       " 'replace',\n",
       " 'rfind',\n",
       " 'rindex',\n",
       " 'rjust',\n",
       " 'rpartition',\n",
       " 'rsplit',\n",
       " 'rstrip',\n",
       " 'split',\n",
       " 'splitlines',\n",
       " 'startswith',\n",
       " 'strip',\n",
       " 'swapcase',\n",
       " 'title',\n",
       " 'translate',\n",
       " 'upper',\n",
       " 'zfill']"
      ]
     },
     "execution_count": 47,
     "metadata": {},
     "output_type": "execute_result"
    }
   ],
   "source": [
    "dir('')"
   ]
  },
  {
   "cell_type": "code",
   "execution_count": null,
   "id": "b7e8892c",
   "metadata": {},
   "outputs": [],
   "source": [
    "# how to call the keyword\n",
    " keyword()\n",
    "# methods\n",
    "# package.method\n"
   ]
  },
  {
   "cell_type": "markdown",
   "id": "326ca960",
   "metadata": {},
   "source": [
    "# capitalize\n",
    "\n",
    "- return a capital\n"
   ]
  },
  {
   "cell_type": "code",
   "execution_count": 51,
   "id": "946f2a1f",
   "metadata": {},
   "outputs": [
    {
     "data": {
      "text/plain": [
       "'Python'"
      ]
     },
     "execution_count": 51,
     "metadata": {},
     "output_type": "execute_result"
    }
   ],
   "source": [
    "str='python'\n",
    "str.capitalize()"
   ]
  },
  {
   "cell_type": "code",
   "execution_count": 27,
   "id": "ac362250",
   "metadata": {},
   "outputs": [
    {
     "data": {
      "text/plain": [
       "15"
      ]
     },
     "execution_count": 27,
     "metadata": {},
     "output_type": "execute_result"
    }
   ],
   "source": [
    "import random\n",
    "random.randint(10,20)"
   ]
  },
  {
   "cell_type": "code",
   "execution_count": 52,
   "id": "7fc2cb5e",
   "metadata": {},
   "outputs": [
    {
     "data": {
      "text/plain": [
       "0j"
      ]
     },
     "execution_count": 52,
     "metadata": {},
     "output_type": "execute_result"
    }
   ],
   "source": [
    "complex()"
   ]
  },
  {
   "cell_type": "markdown",
   "id": "8eeb08dd",
   "metadata": {},
   "source": [
    "- upper\n",
    "\n",
    "- lower\n",
    "\n",
    "- casefold\n",
    "\n",
    "- center"
   ]
  },
  {
   "cell_type": "code",
   "execution_count": 53,
   "id": "4bb09891",
   "metadata": {},
   "outputs": [
    {
     "data": {
      "text/plain": [
       "'PYTHON'"
      ]
     },
     "execution_count": 53,
     "metadata": {},
     "output_type": "execute_result"
    }
   ],
   "source": [
    "str.upper()"
   ]
  },
  {
   "cell_type": "code",
   "execution_count": 54,
   "id": "2f185902",
   "metadata": {},
   "outputs": [
    {
     "data": {
      "text/plain": [
       "'python'"
      ]
     },
     "execution_count": 54,
     "metadata": {},
     "output_type": "execute_result"
    }
   ],
   "source": [
    "str.lower()"
   ]
  },
  {
   "cell_type": "markdown",
   "id": "0c506ff2",
   "metadata": {},
   "source": [
    "$center$"
   ]
  },
  {
   "cell_type": "code",
   "execution_count": 60,
   "id": "406aa34e",
   "metadata": {},
   "outputs": [
    {
     "data": {
      "text/plain": [
       "'$$python$$'"
      ]
     },
     "execution_count": 60,
     "metadata": {},
     "output_type": "execute_result"
    }
   ],
   "source": [
    "str.center(10,'$')\n",
    "\n",
    "# total new string width =10\n",
    "# already given string len=6\n",
    "# so extra 4 $ will add\n",
    "# string should be in center\n",
    "# 2$ are 2$ left side "
   ]
  },
  {
   "cell_type": "markdown",
   "id": "fe079acb",
   "metadata": {},
   "source": [
    "$casefold$\n"
   ]
  },
  {
   "cell_type": "markdown",
   "id": "f17b7441",
   "metadata": {},
   "source": [
    "**Return a version of the string suitable for caseless comparisons**."
   ]
  },
  {
   "cell_type": "code",
   "execution_count": 58,
   "id": "20868d72",
   "metadata": {},
   "outputs": [
    {
     "data": {
      "text/plain": [
       "'python'"
      ]
     },
     "execution_count": 58,
     "metadata": {},
     "output_type": "execute_result"
    }
   ],
   "source": [
    "str.casefold()"
   ]
  },
  {
   "cell_type": "code",
   "execution_count": 64,
   "id": "589fe89e",
   "metadata": {},
   "outputs": [
    {
     "data": {
      "text/plain": [
       "'$$$$$ $$$$$'"
      ]
     },
     "execution_count": 64,
     "metadata": {},
     "output_type": "execute_result"
    }
   ],
   "source": [
    "' '.center(11,'$')"
   ]
  },
  {
   "cell_type": "code",
   "execution_count": 68,
   "id": "f04accff",
   "metadata": {},
   "outputs": [
    {
     "data": {
      "text/plain": [
       "'python'"
      ]
     },
     "execution_count": 68,
     "metadata": {},
     "output_type": "execute_result"
    }
   ],
   "source": [
    "'python'.center(2,'$')"
   ]
  },
  {
   "cell_type": "markdown",
   "id": "44f29c3f",
   "metadata": {},
   "source": [
    " **unique vowels  (use in set)**"
   ]
  },
  {
   "cell_type": "code",
   "execution_count": null,
   "id": "79626624",
   "metadata": {},
   "outputs": [],
   "source": [
    "str1='hai how are you'\n",
    "vowel='aeiou'\n",
    "unique=set()\n",
    "for i in str1:\n",
    "    for j in vowel:\n",
    "        if j == i:\n",
    "            unique.add(j)\n",
    "print(unique)"
   ]
  },
  {
   "cell_type": "markdown",
   "id": "5c849c64",
   "metadata": {},
   "source": [
    "**unique vowels or items**\n",
    "\n",
    "- always make an empty string\n",
    "\n",
    "- itere the letters are original string through for loop\n",
    "\n",
    "- whenever vowels condition match keep that letter in empty string\n",
    "\n",
    "- now on words do the two check\n",
    "\n",
    "   - is that vowel\n",
    "    \n",
    "    - is that present in that new string"
   ]
  },
  {
   "cell_type": "code",
   "execution_count": 21,
   "id": "8c30243e",
   "metadata": {},
   "outputs": [
    {
     "data": {
      "text/plain": [
       "9"
      ]
     },
     "execution_count": 21,
     "metadata": {},
     "output_type": "execute_result"
    }
   ],
   "source": [
    "str1='hello python'\n",
    "str2=''\n",
    "for i in str1:\n",
    "    if i not in str2:\n",
    "        str2=str2+i\n",
    "len(str2)        "
   ]
  },
  {
   "cell_type": "code",
   "execution_count": 3,
   "id": "f8c5a48b",
   "metadata": {},
   "outputs": [
    {
     "data": {
      "text/plain": [
       "2"
      ]
     },
     "execution_count": 3,
     "metadata": {},
     "output_type": "execute_result"
    }
   ],
   "source": [
    "str1='hello python'\n",
    "str2=''\n",
    "for i in str1:\n",
    "    if i in 'aeiou' and i not in str2:\n",
    "        str2=str2+i\n",
    "len(str2)        \n",
    "\n",
    "# i='a' if 'a' in 'aeiou' and 'a' not in  ''  true str2=''+'a'='a'\n",
    "# i='a' if 'a' in 'aeiou' and 'a' not in 'a' <>"
   ]
  },
  {
   "cell_type": "code",
   "execution_count": 7,
   "id": "3eb35d87",
   "metadata": {},
   "outputs": [
    {
     "data": {
      "text/plain": [
       "False"
      ]
     },
     "execution_count": 7,
     "metadata": {},
     "output_type": "execute_result"
    }
   ],
   "source": [
    "'a'not in 'a'"
   ]
  },
  {
   "cell_type": "code",
   "execution_count": 8,
   "id": "ae00f38d",
   "metadata": {},
   "outputs": [
    {
     "data": {
      "text/plain": [
       "'Python'"
      ]
     },
     "execution_count": 8,
     "metadata": {},
     "output_type": "execute_result"
    }
   ],
   "source": [
    "str='python'\n",
    "str.title()"
   ]
  },
  {
   "cell_type": "code",
   "execution_count": null,
   "id": "ec8bcd31",
   "metadata": {},
   "outputs": [],
   "source": [
    "#Q 12) str='hello how are you'\n",
    "# op:'hello how are you'"
   ]
  },
  {
   "cell_type": "code",
   "execution_count": 15,
   "id": "325402a7",
   "metadata": {},
   "outputs": [
    {
     "data": {
      "text/plain": [
       "'Hello How Are You'"
      ]
     },
     "execution_count": 15,
     "metadata": {},
     "output_type": "execute_result"
    }
   ],
   "source": [
    "str='hello how are you'\n",
    "str.title()"
   ]
  },
  {
   "cell_type": "code",
   "execution_count": 16,
   "id": "2236dd00",
   "metadata": {},
   "outputs": [
    {
     "data": {
      "text/plain": [
       "'Hello how are you'"
      ]
     },
     "execution_count": 16,
     "metadata": {},
     "output_type": "execute_result"
    }
   ],
   "source": [
    "str='hello how are you'\n",
    "str.capitalize()"
   ]
  },
  {
   "cell_type": "markdown",
   "id": "ecae68ff",
   "metadata": {},
   "source": [
    "# count"
   ]
  },
  {
   "cell_type": "code",
   "execution_count": 17,
   "id": "36c97fd5",
   "metadata": {},
   "outputs": [
    {
     "data": {
      "text/plain": [
       "2"
      ]
     },
     "execution_count": 17,
     "metadata": {},
     "output_type": "execute_result"
    }
   ],
   "source": [
    "str1='hai how are you'\n",
    "str1.count('a')"
   ]
  },
  {
   "cell_type": "code",
   "execution_count": 18,
   "id": "704f25b8",
   "metadata": {},
   "outputs": [
    {
     "data": {
      "text/plain": [
       "2"
      ]
     },
     "execution_count": 18,
     "metadata": {},
     "output_type": "execute_result"
    }
   ],
   "source": [
    "count=0\n",
    "for i in str1:\n",
    "    if i=='a':\n",
    "        count=count+1\n",
    "count        "
   ]
  },
  {
   "cell_type": "code",
   "execution_count": 20,
   "id": "35d4870d",
   "metadata": {},
   "outputs": [
    {
     "data": {
      "text/plain": [
       "0"
      ]
     },
     "execution_count": 20,
     "metadata": {},
     "output_type": "execute_result"
    }
   ],
   "source": [
    "str1='ola ola ola'\n",
    "str1.count('z')"
   ]
  },
  {
   "cell_type": "markdown",
   "id": "9567d6bd",
   "metadata": {},
   "source": [
    "- NOTE: there is no error in count"
   ]
  },
  {
   "cell_type": "code",
   "execution_count": 33,
   "id": "b4bb4b6c",
   "metadata": {},
   "outputs": [
    {
     "data": {
      "text/plain": [
       "1"
      ]
     },
     "execution_count": 33,
     "metadata": {},
     "output_type": "execute_result"
    }
   ],
   "source": [
    "# you want count the number of 'a' after 5th index\n",
    "# you want count the number of 'a' between 5th index\n",
    "str1='ola ola ola'\n",
    "str1.count('a',7)"
   ]
  },
  {
   "cell_type": "code",
   "execution_count": 38,
   "id": "71735193",
   "metadata": {},
   "outputs": [
    {
     "data": {
      "text/plain": [
       "'ola ol'"
      ]
     },
     "execution_count": 38,
     "metadata": {},
     "output_type": "execute_result"
    }
   ],
   "source": [
    "str1='ola ola ola'\n",
    "str1.count('a',4,10)\n",
    "\n",
    "# 10-1=9\n",
    "str1[4:10]"
   ]
  },
  {
   "cell_type": "code",
   "execution_count": 39,
   "id": "b3c79d0a",
   "metadata": {},
   "outputs": [
    {
     "data": {
      "text/plain": [
       "1"
      ]
     },
     "execution_count": 39,
     "metadata": {},
     "output_type": "execute_result"
    }
   ],
   "source": [
    "str1='ola ola ola'\n",
    "str1.count('a',4,10)\n"
   ]
  },
  {
   "cell_type": "code",
   "execution_count": null,
   "id": "5c149431",
   "metadata": {},
   "outputs": [],
   "source": [
    "#Q13)  withougt using count find the number of 'ola'\n",
    "       str1='ola ola ola'\n",
    "# ans=3"
   ]
  },
  {
   "cell_type": "code",
   "execution_count": 23,
   "id": "95a3dffa",
   "metadata": {},
   "outputs": [
    {
     "data": {
      "text/plain": [
       "4"
      ]
     },
     "execution_count": 23,
     "metadata": {},
     "output_type": "execute_result"
    }
   ],
   "source": [
    "summ=0\n",
    "str1='ola ola ola ola'\n",
    "for i in str1:\n",
    "    if i=='a':\n",
    "        summ=summ+1\n",
    "summ        \n",
    "    "
   ]
  },
  {
   "cell_type": "markdown",
   "id": "779e0b83",
   "metadata": {},
   "source": [
    "***replace***"
   ]
  },
  {
   "cell_type": "code",
   "execution_count": null,
   "id": "53ad0bc8",
   "metadata": {},
   "outputs": [],
   "source": [
    "str1='hello'\n",
    "# i want to replace 'l' with 'L' \n",
    "\n",
    "# this we are not abele to do with index operetion\n",
    "# thats why we are calling strings are immutable\n",
    "# but this is possible using replace"
   ]
  },
  {
   "cell_type": "code",
   "execution_count": 46,
   "id": "2d2c5bba",
   "metadata": {},
   "outputs": [
    {
     "data": {
      "text/plain": [
       "'heLLo'"
      ]
     },
     "execution_count": 46,
     "metadata": {},
     "output_type": "execute_result"
    }
   ],
   "source": [
    "str1='hello'\n",
    "str1.replace('l','L')"
   ]
  },
  {
   "cell_type": "markdown",
   "id": "54bb19b0",
   "metadata": {},
   "source": [
    "- in replace we have count =-1 as default value\n",
    "\n",
    "- which means it will replace all the letter\n",
    "\n",
    "- so if want replace only one later one later can i give the count\n",
    "\n",
    "- / means do not goive the argument do not the provid the value"
   ]
  },
  {
   "cell_type": "code",
   "execution_count": 49,
   "id": "2159b27b",
   "metadata": {},
   "outputs": [
    {
     "data": {
      "text/plain": [
       "'heLlllo'"
      ]
     },
     "execution_count": 49,
     "metadata": {},
     "output_type": "execute_result"
    }
   ],
   "source": [
    "str1='hellllo'\n",
    "str1.replace('l','L',1)"
   ]
  },
  {
   "cell_type": "code",
   "execution_count": 50,
   "id": "fea2912f",
   "metadata": {},
   "outputs": [
    {
     "data": {
      "text/plain": [
       "'heLLllo'"
      ]
     },
     "execution_count": 50,
     "metadata": {},
     "output_type": "execute_result"
    }
   ],
   "source": [
    "str1='hellllo'\n",
    "str1.replace('l','L',2)"
   ]
  },
  {
   "cell_type": "code",
   "execution_count": 55,
   "id": "49f8a3c6",
   "metadata": {},
   "outputs": [
    {
     "data": {
      "text/plain": [
       "'hellllo'"
      ]
     },
     "execution_count": 55,
     "metadata": {},
     "output_type": "execute_result"
    }
   ],
   "source": [
    "str1='hellllo'\n",
    "str1.replace('z','L',)"
   ]
  },
  {
   "cell_type": "markdown",
   "id": "7f41ee72",
   "metadata": {},
   "source": [
    "- read the doc string carefully\n",
    "\n",
    "- in that it will mention we will get error at particular incident\n",
    "\n",
    "- for count method web will not get any error\n",
    "\n",
    "- ther is no sudstring found ans will be zero\n",
    "\n",
    "- for replace also we will not get any error\n",
    "\n",
    "- if ther is no substring found, the the ans will be original strin"
   ]
  },
  {
   "cell_type": "code",
   "execution_count": null,
   "id": "4ba44723",
   "metadata": {},
   "outputs": [],
   "source": [
    "#Q14) wap ask the user replace the string\n",
    "# input str: 'restart'\n",
    "# op: 'resta$t'"
   ]
  },
  {
   "cell_type": "code",
   "execution_count": 59,
   "id": "30d54814",
   "metadata": {},
   "outputs": [
    {
     "data": {
      "text/plain": [
       "'$esta$t'"
      ]
     },
     "execution_count": 59,
     "metadata": {},
     "output_type": "execute_result"
    }
   ],
   "source": [
    "str1='restart'\n",
    "str1.replace('r','$')"
   ]
  },
  {
   "cell_type": "code",
   "execution_count": 111,
   "id": "a07a25f3",
   "metadata": {},
   "outputs": [
    {
     "data": {
      "text/plain": [
       "'$estart'"
      ]
     },
     "execution_count": 111,
     "metadata": {},
     "output_type": "execute_result"
    }
   ],
   "source": [
    "str1='restart'\n",
    "str1.replace('r','$',1)"
   ]
  },
  {
   "cell_type": "code",
   "execution_count": 112,
   "id": "86e78bd5",
   "metadata": {},
   "outputs": [
    {
     "data": {
      "text/plain": [
       "'resta$t'"
      ]
     },
     "execution_count": 112,
     "metadata": {},
     "output_type": "execute_result"
    }
   ],
   "source": [
    "str1[::-1].replace('r','$',1)[::-1]"
   ]
  },
  {
   "cell_type": "code",
   "execution_count": 117,
   "id": "b9a133ca",
   "metadata": {},
   "outputs": [
    {
     "data": {
      "text/plain": [
       "'resta$t'"
      ]
     },
     "execution_count": 117,
     "metadata": {},
     "output_type": "execute_result"
    }
   ],
   "source": [
    "str1[::-1].replace('r','$',1)[::-1]"
   ]
  },
  {
   "cell_type": "code",
   "execution_count": 66,
   "id": "db784f39",
   "metadata": {},
   "outputs": [
    {
     "data": {
      "text/plain": [
       "'resta$t'"
      ]
     },
     "execution_count": 66,
     "metadata": {},
     "output_type": "execute_result"
    }
   ],
   "source": [
    "str2=str1[::-1]\n",
    "str3=str2.replace('r','$',1) # replace 1st occurenace\n",
    "str4=str3[::-1]\n",
    "str4"
   ]
  },
  {
   "cell_type": "code",
   "execution_count": 70,
   "id": "9216e2c0",
   "metadata": {},
   "outputs": [
    {
     "data": {
      "text/plain": [
       "'resta$t'"
      ]
     },
     "execution_count": 70,
     "metadata": {},
     "output_type": "execute_result"
    }
   ],
   "source": [
    "s1=str1[0]\n",
    "s2=str1[1:]\n",
    "s3=s2.replace('r','$')\n",
    "s1+s3"
   ]
  },
  {
   "cell_type": "markdown",
   "id": "c3355022",
   "metadata": {},
   "source": [
    "***index***\n",
    "\n",
    "- index will give the index of lettert in a given string\n",
    "\n",
    "- by difault it will provide the first occurence of letter only\n",
    "\n",
    "- if you want next occurence index of same letter you need to give star,stop\n",
    "\n",
    "- like we given in count method "
   ]
  },
  {
   "cell_type": "code",
   "execution_count": 78,
   "id": "093387b9",
   "metadata": {},
   "outputs": [
    {
     "data": {
      "text/plain": [
       "0"
      ]
     },
     "execution_count": 78,
     "metadata": {},
     "output_type": "execute_result"
    }
   ],
   "source": [
    "str1='restart'\n",
    "str1.index('r')"
   ]
  },
  {
   "cell_type": "code",
   "execution_count": 84,
   "id": "6009cbcf",
   "metadata": {},
   "outputs": [
    {
     "data": {
      "text/plain": [
       "5"
      ]
     },
     "execution_count": 84,
     "metadata": {},
     "output_type": "execute_result"
    }
   ],
   "source": [
    "#  i want second r\n",
    "str1.index('r',1)"
   ]
  },
  {
   "cell_type": "code",
   "execution_count": 35,
   "id": "cd6f2ca9",
   "metadata": {},
   "outputs": [
    {
     "data": {
      "text/plain": [
       "13"
      ]
     },
     "execution_count": 35,
     "metadata": {},
     "output_type": "execute_result"
    }
   ],
   "source": [
    "str1='hai hai hai hai'\n",
    "str1.index('a')  # 1\n",
    "str1.index('a',2)  # 5\n",
    "str1.index('a',6)  # 9\n",
    "str1.index('a',10) "
   ]
  },
  {
   "cell_type": "code",
   "execution_count": 39,
   "id": "953d859f",
   "metadata": {},
   "outputs": [
    {
     "ename": "ValueError",
     "evalue": "substring not found",
     "output_type": "error",
     "traceback": [
      "\u001b[1;31m---------------------------------------------------------------------------\u001b[0m",
      "\u001b[1;31mValueError\u001b[0m                                Traceback (most recent call last)",
      "Cell \u001b[1;32mIn[39], line 6\u001b[0m\n\u001b[0;32m      4\u001b[0m i3\u001b[38;5;241m=\u001b[39mstr1\u001b[38;5;241m.\u001b[39mindex(\u001b[38;5;124m'\u001b[39m\u001b[38;5;124ma\u001b[39m\u001b[38;5;124m'\u001b[39m,i2\u001b[38;5;241m+\u001b[39m\u001b[38;5;241m1\u001b[39m) \n\u001b[0;32m      5\u001b[0m i4\u001b[38;5;241m=\u001b[39mstr1\u001b[38;5;241m.\u001b[39mindex(\u001b[38;5;124m'\u001b[39m\u001b[38;5;124ma\u001b[39m\u001b[38;5;124m'\u001b[39m,i3\u001b[38;5;241m+\u001b[39m\u001b[38;5;241m1\u001b[39m) \n\u001b[1;32m----> 6\u001b[0m i5\u001b[38;5;241m=\u001b[39mstr1\u001b[38;5;241m.\u001b[39mindex(\u001b[38;5;124m'\u001b[39m\u001b[38;5;124ma\u001b[39m\u001b[38;5;124m'\u001b[39m,i4\u001b[38;5;241m+\u001b[39m\u001b[38;5;241m1\u001b[39m)\n\u001b[0;32m      8\u001b[0m i1,i2,i3,i4,i5\n",
      "\u001b[1;31mValueError\u001b[0m: substring not found"
     ]
    }
   ],
   "source": [
    "str1='hai hai hai hai'\n",
    "i1=str1.index('a') \n",
    "i2=str1.index('a',i1+1) \n",
    "i3=str1.index('a',i2+1) \n",
    "i4=str1.index('a',i3+1) \n",
    "i5=str1.index('a',i4+1)\n",
    "\n",
    "i1,i2,i3,i4,i5"
   ]
  },
  {
   "cell_type": "code",
   "execution_count": 46,
   "id": "6b0b0ec4",
   "metadata": {},
   "outputs": [
    {
     "data": {
      "text/plain": [
       "1"
      ]
     },
     "execution_count": 46,
     "metadata": {},
     "output_type": "execute_result"
    }
   ],
   "source": [
    "str1='hai hai hai hai'\n",
    "str1.find('a')"
   ]
  },
  {
   "cell_type": "code",
   "execution_count": 47,
   "id": "a118b2cd",
   "metadata": {},
   "outputs": [
    {
     "ename": "ValueError",
     "evalue": "substring not found",
     "output_type": "error",
     "traceback": [
      "\u001b[1;31m---------------------------------------------------------------------------\u001b[0m",
      "\u001b[1;31mValueError\u001b[0m                                Traceback (most recent call last)",
      "Cell \u001b[1;32mIn[47], line 7\u001b[0m\n\u001b[0;32m      5\u001b[0m i3\u001b[38;5;241m=\u001b[39mstr1\u001b[38;5;241m.\u001b[39mindex(\u001b[38;5;124m'\u001b[39m\u001b[38;5;124ma\u001b[39m\u001b[38;5;124m'\u001b[39m,i2\u001b[38;5;241m+\u001b[39m\u001b[38;5;241m1\u001b[39m)\n\u001b[0;32m      6\u001b[0m i4\u001b[38;5;241m=\u001b[39mstr1\u001b[38;5;241m.\u001b[39mindex(\u001b[38;5;124m'\u001b[39m\u001b[38;5;124ma\u001b[39m\u001b[38;5;124m'\u001b[39m,i3\u001b[38;5;241m+\u001b[39m\u001b[38;5;241m1\u001b[39m)\n\u001b[1;32m----> 7\u001b[0m i5\u001b[38;5;241m=\u001b[39mstr1\u001b[38;5;241m.\u001b[39mindex(\u001b[38;5;124m'\u001b[39m\u001b[38;5;124ma\u001b[39m\u001b[38;5;124m'\u001b[39m,i4\u001b[38;5;241m+\u001b[39m\u001b[38;5;241m1\u001b[39m)\n\u001b[0;32m      9\u001b[0m i1,i2,i3,i4,i5\n",
      "\u001b[1;31mValueError\u001b[0m: substring not found"
     ]
    }
   ],
   "source": [
    "str1='hai hai hai hai'\n",
    "str1.find('a')\n",
    "i1=str1.index('a')\n",
    "i2=str1.index('a',i1+1)\n",
    "i3=str1.index('a',i2+1)\n",
    "i4=str1.index('a',i3+1)\n",
    "i5=str1.index('a',i4+1)\n",
    "\n",
    "i1,i2,i3,i4,i5"
   ]
  },
  {
   "cell_type": "markdown",
   "id": "6259f4fa",
   "metadata": {},
   "source": [
    "$count$-$replace$-$index$"
   ]
  },
  {
   "cell_type": "code",
   "execution_count": 30,
   "id": "ecde5fc6",
   "metadata": {},
   "outputs": [
    {
     "data": {
      "text/plain": [
       "0"
      ]
     },
     "execution_count": 30,
     "metadata": {},
     "output_type": "execute_result"
    }
   ],
   "source": [
    "str1='python'\n",
    "str1.count('z')"
   ]
  },
  {
   "cell_type": "code",
   "execution_count": 31,
   "id": "728f643f",
   "metadata": {},
   "outputs": [
    {
     "data": {
      "text/plain": [
       "'python'"
      ]
     },
     "execution_count": 31,
     "metadata": {},
     "output_type": "execute_result"
    }
   ],
   "source": [
    "str1='python'\n",
    "str1.replace('z','Z')"
   ]
  },
  {
   "cell_type": "code",
   "execution_count": 32,
   "id": "bf5a9f3f",
   "metadata": {},
   "outputs": [
    {
     "ename": "ValueError",
     "evalue": "substring not found",
     "output_type": "error",
     "traceback": [
      "\u001b[1;31m---------------------------------------------------------------------------\u001b[0m",
      "\u001b[1;31mValueError\u001b[0m                                Traceback (most recent call last)",
      "Cell \u001b[1;32mIn[32], line 2\u001b[0m\n\u001b[0;32m      1\u001b[0m str1\u001b[38;5;241m=\u001b[39m\u001b[38;5;124m'\u001b[39m\u001b[38;5;124mpython\u001b[39m\u001b[38;5;124m'\u001b[39m\n\u001b[1;32m----> 2\u001b[0m str1\u001b[38;5;241m.\u001b[39mindex(\u001b[38;5;124m'\u001b[39m\u001b[38;5;124mz\u001b[39m\u001b[38;5;124m'\u001b[39m)\n",
      "\u001b[1;31mValueError\u001b[0m: substring not found"
     ]
    }
   ],
   "source": [
    "str1='python'\n",
    "str1.index('z')\n",
    "\n",
    "# z = substring\n",
    "# z is not present in python"
   ]
  },
  {
   "cell_type": "code",
   "execution_count": 33,
   "id": "8e3e3472",
   "metadata": {},
   "outputs": [
    {
     "data": {
      "text/plain": [
       "1"
      ]
     },
     "execution_count": 33,
     "metadata": {},
     "output_type": "execute_result"
    }
   ],
   "source": [
    "str1='hai hai hai hai'\n",
    "str1.count('a')   # total 'a'\n",
    "str1.count('a',4) # we want to count 'a' from index\n",
    "str1.count('a',5,9) #start at 5 and end at 9-1=8"
   ]
  },
  {
   "cell_type": "code",
   "execution_count": 6,
   "id": "0ca49c12",
   "metadata": {},
   "outputs": [
    {
     "data": {
      "text/plain": [
       "1"
      ]
     },
     "execution_count": 6,
     "metadata": {},
     "output_type": "execute_result"
    }
   ],
   "source": [
    "str1='hai hai hai hai'\n",
    "str1.find('a')\n",
    "# index of 'a'\n",
    "# but so many 'a' are there\n",
    "# by default it will give first occurence          \n",
    "          "
   ]
  },
  {
   "cell_type": "code",
   "execution_count": 20,
   "id": "9b7a0b2b",
   "metadata": {},
   "outputs": [
    {
     "data": {
      "text/plain": [
       "(1, 5, 9, 13, -1)"
      ]
     },
     "execution_count": 20,
     "metadata": {},
     "output_type": "execute_result"
    }
   ],
   "source": [
    "str1='hai hai hai hai'\n",
    "i1=str1.index('a')\n",
    "i2=str1.index('a',i1+1)\n",
    "i3=str1.index('a',i2+1)\n",
    "i4=str1.index('a',i3+1)\n",
    "i5=str1.index('a',i4+1)\n",
    "\n",
    "i1,i2,i3,i4,i5"
   ]
  },
  {
   "cell_type": "code",
   "execution_count": 9,
   "id": "605b1c89",
   "metadata": {},
   "outputs": [
    {
     "data": {
      "text/plain": [
       "3"
      ]
     },
     "execution_count": 9,
     "metadata": {},
     "output_type": "execute_result"
    }
   ],
   "source": [
    "count=0\n",
    "str1='ola ola ola'\n",
    "for i in range(len(str1)):\n",
    "    if str1[i:i+3]=='ola':\n",
    "        count=count+1  \n",
    "count        "
   ]
  },
  {
   "cell_type": "markdown",
   "id": "1ec5322f",
   "metadata": {},
   "source": [
    "# find"
   ]
  },
  {
   "cell_type": "code",
   "execution_count": 17,
   "id": "d387632e",
   "metadata": {},
   "outputs": [
    {
     "data": {
      "text/plain": [
       "1"
      ]
     },
     "execution_count": 17,
     "metadata": {},
     "output_type": "execute_result"
    }
   ],
   "source": [
    "str1='hai hai hai hai'\n",
    "str1.find('a')"
   ]
  },
  {
   "cell_type": "code",
   "execution_count": 18,
   "id": "d4e2ae0a",
   "metadata": {},
   "outputs": [
    {
     "data": {
      "text/plain": [
       "-1"
      ]
     },
     "execution_count": 18,
     "metadata": {},
     "output_type": "execute_result"
    }
   ],
   "source": [
    "str1='hai hai hai hai'\n",
    "str1.find('z')"
   ]
  },
  {
   "cell_type": "markdown",
   "id": "18afe853",
   "metadata": {},
   "source": [
    "***if substring not found***\n",
    "\n",
    "- do the substring understand the docstring\n",
    "\n",
    "- if they mantined any error or not\n",
    "\n",
    "- for count and replace theey did not mantined any error\n",
    "\n",
    "- for find it \n",
    "\n",
    "- count will give zero\n",
    "\n",
    "- replace will give same string\n",
    "\n",
    "- index will give error\n",
    "\n",
    "- find will give -1"
   ]
  },
  {
   "cell_type": "code",
   "execution_count": 10,
   "id": "0a2d856b",
   "metadata": {},
   "outputs": [
    {
     "data": {
      "text/plain": [
       "'kl.rahul@lsg.com'"
      ]
     },
     "execution_count": 10,
     "metadata": {},
     "output_type": "execute_result"
    }
   ],
   "source": [
    "# Q15)\n",
    "\n",
    "name='omkar.nallagoni@conganizant.com'\n",
    "\n",
    "# first name='omkar'\n",
    "# s_name='nallagoni'\n",
    "# c_name='congnizant'\n",
    "\n",
    "'virat.kohli@rcb.com'\n",
    "'rohoth.sharma@mi'\n",
    "'kl.rahul@lsg.com'"
   ]
  },
  {
   "cell_type": "code",
   "execution_count": 28,
   "id": "2fa22dd9",
   "metadata": {},
   "outputs": [
    {
     "name": "stdout",
     "output_type": "stream",
     "text": [
      "omkar nallagoni conganizant\n",
      "omkar nallogoni conginizant co\n"
     ]
    }
   ],
   "source": [
    "name='omkar.nallagoni@conganizant.com'\n",
    "i1=name.find('.')\n",
    "i2=name.find('@')\n",
    "i3=name.find('.',i1+1)\n",
    "\n",
    "\n",
    "first_name=name[0:i1]\n",
    "second_name=name[i1+1:i2]\n",
    "company_name=name[i2+1:i3]\n",
    "print(first_name,second_name,company_name)\n",
    "name_extraction('omkar.nallogoni@conginizant.com')"
   ]
  },
  {
   "cell_type": "code",
   "execution_count": 8,
   "id": "9fc5f6d1",
   "metadata": {},
   "outputs": [
    {
     "name": "stdout",
     "output_type": "stream",
     "text": [
      "omkar nallogoni conginizant\n"
     ]
    }
   ],
   "source": [
    "def name_extraction(name):\n",
    "        i1=name.find('.')\n",
    "        i2=name.find('@')\n",
    "        i3=name.find('.',i1+1)\n",
    "\n",
    "        f_name=name[0:i1]\n",
    "        s_name=name[i1+1:i2]\n",
    "        c_name=name[i2+1:i3]\n",
    "        print(f_name,s_name,c_name)\n",
    "\n",
    "name_extraction('omkar.nallogoni@conginizant.com')\n",
    "first_name"
   ]
  },
  {
   "cell_type": "code",
   "execution_count": 22,
   "id": "5ac43e29",
   "metadata": {},
   "outputs": [
    {
     "name": "stdout",
     "output_type": "stream",
     "text": [
      "omkar nallogoni conginizant co\n"
     ]
    }
   ],
   "source": [
    "def name_extraction(name):\n",
    "        i1=name.find('.')\n",
    "        i2=name.find('@')\n",
    "        i3=name.find('.',i1+1)\n",
    "        i4=name.find('email_id',i2+2)\n",
    "\n",
    "        f_name=name[0:i1]\n",
    "        s_name=name[i1+1:i2]\n",
    "        c_name=name[i2+1:i3]\n",
    "        email_id=name[i3+1:i4]\n",
    "        print(f_name,s_name,c_name,email_id)\n",
    "\n",
    "name_extraction('omkar.nallogoni@conginizant.com')"
   ]
  },
  {
   "cell_type": "code",
   "execution_count": 38,
   "id": "49f40d7a",
   "metadata": {},
   "outputs": [
    {
     "data": {
      "text/plain": [
       "['__add__',\n",
       " '__class__',\n",
       " '__contains__',\n",
       " '__delattr__',\n",
       " '__dir__',\n",
       " '__doc__',\n",
       " '__eq__',\n",
       " '__format__',\n",
       " '__ge__',\n",
       " '__getattribute__',\n",
       " '__getitem__',\n",
       " '__getnewargs__',\n",
       " '__getstate__',\n",
       " '__gt__',\n",
       " '__hash__',\n",
       " '__init__',\n",
       " '__init_subclass__',\n",
       " '__iter__',\n",
       " '__le__',\n",
       " '__len__',\n",
       " '__lt__',\n",
       " '__mod__',\n",
       " '__mul__',\n",
       " '__ne__',\n",
       " '__new__',\n",
       " '__reduce__',\n",
       " '__reduce_ex__',\n",
       " '__repr__',\n",
       " '__rmod__',\n",
       " '__rmul__',\n",
       " '__setattr__',\n",
       " '__sizeof__',\n",
       " '__str__',\n",
       " '__subclasshook__',\n",
       " 'capitalize',\n",
       " 'casefold',\n",
       " 'center',\n",
       " 'count',\n",
       " 'encode',\n",
       " 'endswith',\n",
       " 'expandtabs',\n",
       " 'find',\n",
       " 'format',\n",
       " 'format_map',\n",
       " 'index',\n",
       " 'isalnum',\n",
       " 'isalpha',\n",
       " 'isascii',\n",
       " 'isdecimal',\n",
       " 'isdigit',\n",
       " 'isidentifier',\n",
       " 'islower',\n",
       " 'isnumeric',\n",
       " 'isprintable',\n",
       " 'isspace',\n",
       " 'istitle',\n",
       " 'isupper',\n",
       " 'join',\n",
       " 'ljust',\n",
       " 'lower',\n",
       " 'lstrip',\n",
       " 'maketrans',\n",
       " 'partition',\n",
       " 'removeprefix',\n",
       " 'removesuffix',\n",
       " 'replace',\n",
       " 'rfind',\n",
       " 'rindex',\n",
       " 'rjust',\n",
       " 'rpartition',\n",
       " 'rsplit',\n",
       " 'rstrip',\n",
       " 'split',\n",
       " 'splitlines',\n",
       " 'startswith',\n",
       " 'strip',\n",
       " 'swapcase',\n",
       " 'title',\n",
       " 'translate',\n",
       " 'upper',\n",
       " 'zfill']"
      ]
     },
     "execution_count": 38,
     "metadata": {},
     "output_type": "execute_result"
    }
   ],
   "source": [
    "dir('')"
   ]
  },
  {
   "cell_type": "code",
   "execution_count": null,
   "id": "32a46927",
   "metadata": {},
   "outputs": [],
   "source": [
    "'isalnum',\n",
    " 'isalpha',\n",
    " 'isascii',\n",
    " 'isdecimal',\n",
    " 'isdigit',\n",
    " 'isidentifier',\n",
    " 'islower',\n",
    " 'isnumeric',\n",
    " 'isprintable',\n",
    " 'isspace',\n",
    " 'istitle',\n",
    " 'isupper',"
   ]
  },
  {
   "cell_type": "code",
   "execution_count": 41,
   "id": "1196fb72",
   "metadata": {},
   "outputs": [
    {
     "data": {
      "text/plain": [
       "True"
      ]
     },
     "execution_count": 41,
     "metadata": {},
     "output_type": "execute_result"
    }
   ],
   "source": [
    "'abc123'.isalnum()"
   ]
  },
  {
   "cell_type": "code",
   "execution_count": 43,
   "id": "355d629d",
   "metadata": {},
   "outputs": [
    {
     "data": {
      "text/plain": [
       "True"
      ]
     },
     "execution_count": 43,
     "metadata": {},
     "output_type": "execute_result"
    }
   ],
   "source": [
    "'ABC'.isupper()"
   ]
  },
  {
   "cell_type": "markdown",
   "id": "14b49045",
   "metadata": {},
   "source": [
    "$strip- lstrip-rstrip$"
   ]
  },
  {
   "cell_type": "code",
   "execution_count": null,
   "id": "f874fc46",
   "metadata": {},
   "outputs": [],
   "source": [
    "name1=' python '\n",
    "name2='python '\n",
    "name3=' python'"
   ]
  },
  {
   "cell_type": "code",
   "execution_count": 45,
   "id": "e5f73afd",
   "metadata": {},
   "outputs": [
    {
     "data": {
      "text/plain": [
       "'python'"
      ]
     },
     "execution_count": 45,
     "metadata": {},
     "output_type": "execute_result"
    }
   ],
   "source": [
    "name1=' python'\n",
    "name1.strip()"
   ]
  },
  {
   "cell_type": "code",
   "execution_count": 47,
   "id": "8a3e06fc",
   "metadata": {},
   "outputs": [
    {
     "data": {
      "text/plain": [
       "'python'"
      ]
     },
     "execution_count": 47,
     "metadata": {},
     "output_type": "execute_result"
    }
   ],
   "source": [
    "name2='python '\n",
    "name2.rstrip()"
   ]
  },
  {
   "cell_type": "code",
   "execution_count": 48,
   "id": "789fae05",
   "metadata": {},
   "outputs": [
    {
     "data": {
      "text/plain": [
       "'python'"
      ]
     },
     "execution_count": 48,
     "metadata": {},
     "output_type": "execute_result"
    }
   ],
   "source": [
    "name3=' python'\n",
    "name3.lstrip()"
   ]
  },
  {
   "cell_type": "code",
   "execution_count": 54,
   "id": "533802d8",
   "metadata": {},
   "outputs": [
    {
     "data": {
      "text/plain": [
       "'python'"
      ]
     },
     "execution_count": 54,
     "metadata": {},
     "output_type": "execute_result"
    }
   ],
   "source": [
    "name4=' python$$$'\n",
    "name4.lstrip().rstrip('$')"
   ]
  },
  {
   "cell_type": "code",
   "execution_count": 56,
   "id": "2c1d37f3",
   "metadata": {},
   "outputs": [
    {
     "data": {
      "text/plain": [
       "'python'"
      ]
     },
     "execution_count": 56,
     "metadata": {},
     "output_type": "execute_result"
    }
   ],
   "source": [
    "name4.strip().strip('$')"
   ]
  },
  {
   "cell_type": "code",
   "execution_count": null,
   "id": "b25122cc",
   "metadata": {},
   "outputs": [],
   "source": [
    "name4=' python$$$'\n",
    "name4.lstrip().rstrip('$')\n",
    "name4.strip().strip('$')\n",
    "name4.strip('$').strip()\n",
    "name4.rstrip('$').lstrip()"
   ]
  },
  {
   "cell_type": "code",
   "execution_count": 58,
   "id": "b60d7dbc",
   "metadata": {},
   "outputs": [
    {
     "data": {
      "text/plain": [
       "'python'"
      ]
     },
     "execution_count": 58,
     "metadata": {},
     "output_type": "execute_result"
    }
   ],
   "source": [
    "name4=' python'\n",
    "n5=name4.lstrip()\n",
    "n5.rstrip('$')"
   ]
  },
  {
   "cell_type": "markdown",
   "id": "8f204842",
   "metadata": {},
   "source": [
    "**split**"
   ]
  },
  {
   "cell_type": "code",
   "execution_count": 65,
   "id": "c24595c1",
   "metadata": {},
   "outputs": [
    {
     "data": {
      "text/plain": [
       "['hello', 'how', 'are', 'you']"
      ]
     },
     "execution_count": 65,
     "metadata": {},
     "output_type": "execute_result"
    }
   ],
   "source": [
    "str1='hello how are you'\n",
    "str1.split()"
   ]
  },
  {
   "cell_type": "code",
   "execution_count": 64,
   "id": "6925bf7e",
   "metadata": {},
   "outputs": [
    {
     "data": {
      "text/plain": [
       "['hello how are', ' you']"
      ]
     },
     "execution_count": 64,
     "metadata": {},
     "output_type": "execute_result"
    }
   ],
   "source": [
    "str1='hello how are, you'\n",
    "str1.split(',')"
   ]
  },
  {
   "cell_type": "code",
   "execution_count": 63,
   "id": "b35860b7",
   "metadata": {},
   "outputs": [
    {
     "data": {
      "text/plain": [
       "['hell', ' h', 'w, are y', 'u']"
      ]
     },
     "execution_count": 63,
     "metadata": {},
     "output_type": "execute_result"
    }
   ],
   "source": [
    "str1='hello how, are you'\n",
    "str1.split('o')"
   ]
  },
  {
   "cell_type": "markdown",
   "id": "1eb56de1",
   "metadata": {},
   "source": [
    "$startswith-endswith$"
   ]
  },
  {
   "cell_type": "code",
   "execution_count": 75,
   "id": "e643d0fc",
   "metadata": {},
   "outputs": [
    {
     "data": {
      "text/plain": [
       "True"
      ]
     },
     "execution_count": 75,
     "metadata": {},
     "output_type": "execute_result"
    }
   ],
   "source": [
    "str1='hello how are you'\n",
    "str1.startswith('h')"
   ]
  },
  {
   "cell_type": "code",
   "execution_count": 76,
   "id": "a6431587",
   "metadata": {},
   "outputs": [
    {
     "data": {
      "text/plain": [
       "False"
      ]
     },
     "execution_count": 76,
     "metadata": {},
     "output_type": "execute_result"
    }
   ],
   "source": [
    "str1.startswith('u')"
   ]
  },
  {
   "cell_type": "code",
   "execution_count": 73,
   "id": "4c107090",
   "metadata": {},
   "outputs": [
    {
     "data": {
      "text/plain": [
       "True"
      ]
     },
     "execution_count": 73,
     "metadata": {},
     "output_type": "execute_result"
    }
   ],
   "source": [
    "str1='hello how are you'\n",
    "str1.endswith('u')"
   ]
  },
  {
   "cell_type": "code",
   "execution_count": null,
   "id": "cfd494a6",
   "metadata": {},
   "outputs": [],
   "source": []
  }
 ],
 "metadata": {
  "kernelspec": {
   "display_name": "Python 3 (ipykernel)",
   "language": "python",
   "name": "python3"
  },
  "language_info": {
   "codemirror_mode": {
    "name": "ipython",
    "version": 3
   },
   "file_extension": ".py",
   "mimetype": "text/x-python",
   "name": "python",
   "nbconvert_exporter": "python",
   "pygments_lexer": "ipython3",
   "version": "3.11.7"
  }
 },
 "nbformat": 4,
 "nbformat_minor": 5
}
