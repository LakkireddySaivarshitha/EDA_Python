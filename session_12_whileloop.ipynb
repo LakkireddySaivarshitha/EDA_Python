{
 "cells": [
  {
   "cell_type": "markdown",
   "id": "a9c456b0",
   "metadata": {},
   "source": [
    "**While loop**\n",
    "\n",
    "- if you want to apply unlimeted literations then we choose while loop\n",
    "\n",
    "\n",
    "\n",
    "-  any loop we required 3 things\n",
    "\n",
    "\n",
    "\n",
    "   - instial point\n",
    "    \n",
    "    - condition to stop\n",
    "    \n",
    "    - incerement or dicrement\n",
    "    \n",
    "- in for loop we are using all tghese 3 in a single line\n",
    "\n",
    "\n",
    "\n",
    "- in while loop we will use all these 3 in 3 lines"
   ]
  },
  {
   "cell_type": "code",
   "execution_count": null,
   "id": "f7038336",
   "metadata": {},
   "outputs": [],
   "source": [
    "# intial point\n",
    "\n",
    "# whil <condition>:\n",
    "\n",
    "#   <statement>\n",
    "\n",
    "#    <increment or decrement>\n"
   ]
  },
  {
   "cell_type": "code",
   "execution_count": 1,
   "id": "a2f0cb88",
   "metadata": {},
   "outputs": [
    {
     "name": "stdout",
     "output_type": "stream",
     "text": [
      "1 2 3 4 5 "
     ]
    }
   ],
   "source": [
    "for i in range(1,6):\n",
    "    print(i,end=' ')\n",
    "    \n",
    " #i=1\n",
    "# when i reaches 5 then should stop\n",
    "# i=i+1"
   ]
  },
  {
   "cell_type": "code",
   "execution_count": null,
   "id": "4f17f965",
   "metadata": {},
   "outputs": [],
   "source": [
    "i=1\n",
    "while <condition>:\n",
    "    print(i,end=' ')\n",
    "    i=i+1\n",
    "    \n",
    " # condition anything thar should be true\n",
    "# then you will go inside the while loop\n",
    "# ansd execute\n",
    "\n",
    "\n",
    "i=1\n",
    "i<=6\n",
    "i<2\n",
    "i<3\n",
    "i<4"
   ]
  },
  {
   "cell_type": "code",
   "execution_count": 3,
   "id": "fc6c4b5f",
   "metadata": {},
   "outputs": [
    {
     "name": "stdout",
     "output_type": "stream",
     "text": [
      "1 2 "
     ]
    }
   ],
   "source": [
    "# case-1\n",
    "\n",
    "i=1  # start point\n",
    "while i<3: # condition \n",
    "    print(i,end=' ')\n",
    "    i=i+1    # increment or dicrement\n",
    "    \n",
    "    \n",
    "    # step=1 : i=1   while 1<3   true   print(1)   i=1+2=2\n",
    "    \n",
    "    # step=2 : i=2   while2<3 true print(2)  i=1+2=3\n",
    "    \n",
    "    #step=3 : i=3 while3<3 false"
   ]
  },
  {
   "cell_type": "code",
   "execution_count": 2,
   "id": "caf23afc",
   "metadata": {},
   "outputs": [
    {
     "name": "stdout",
     "output_type": "stream",
     "text": [
      "1 2 3 4 5 "
     ]
    }
   ],
   "source": [
    "i=1\n",
    "while i<6:\n",
    "    print(i,end=' ')\n",
    "    i=i+1\n",
    "    "
   ]
  },
  {
   "cell_type": "markdown",
   "id": "53fb0017",
   "metadata": {},
   "source": [
    "**infinit loop**\n",
    "\n",
    "- whenever infinit loop occures\n",
    "\n",
    "- apply the condotion and then apply the break"
   ]
  },
  {
   "cell_type": "code",
   "execution_count": 1,
   "id": "2ab9071b",
   "metadata": {},
   "outputs": [
    {
     "name": "stdout",
     "output_type": "stream",
     "text": [
      "1 2 3 4 5 6 7 8 9 "
     ]
    }
   ],
   "source": [
    "i=1\n",
    "while i!=0:\n",
    "    print(i,end=' ')\n",
    "    i=i+1\n",
    "    if i==10:\n",
    "        break"
   ]
  },
  {
   "cell_type": "markdown",
   "id": "d7c3b249",
   "metadata": {},
   "source": [
    "**True**\n",
    "\n",
    "- when we want to use infinite intretion will use true\n",
    "\n",
    "- in we want to stop the loop inside we will apply "
   ]
  },
  {
   "cell_type": "code",
   "execution_count": 2,
   "id": "9c84f2c0",
   "metadata": {},
   "outputs": [
    {
     "name": "stdout",
     "output_type": "stream",
     "text": [
      "1 2 3 4 5 6 7 8 9 "
     ]
    }
   ],
   "source": [
    "i=1\n",
    "while True:\n",
    "    print(i,end=' ')\n",
    "    i=i+1\n",
    "    if i==10:\n",
    "        break"
   ]
  },
  {
   "cell_type": "code",
   "execution_count": null,
   "id": "ef3f85f2",
   "metadata": {},
   "outputs": [],
   "source": [
    "# wap to print -10 to -1\n",
    "# using for loop and while loop\n",
    "\n",
    "\n",
    "for i in range(-10,-1):\n",
    "    print(i,end=' ')\n",
    "    \n",
    "i=-10\n",
    "while<c>:\n",
    "    print(i,end=' ')\n",
    "    i=i+1\n",
    "    \n",
    "\n",
    "\n",
    "# wap to print -1 to -10\n",
    "# using for loop and while loop\n",
    "\n",
    "\n",
    "# wap to print 10 to 1\n",
    "# using for loop and while loop\n"
   ]
  },
  {
   "cell_type": "code",
   "execution_count": 3,
   "id": "71df4e2f",
   "metadata": {},
   "outputs": [
    {
     "name": "stdout",
     "output_type": "stream",
     "text": [
      "-10 -9 -8 -7 -6 -5 -4 -3 -2 -10 -9 -8 -7 -6 -5 -4 -3 -2 -1 0 "
     ]
    }
   ],
   "source": [
    "# wap to print -10 to -1\n",
    "# using for loop and while loop\n",
    "\n",
    "\n",
    "for i in range(-10,-1):\n",
    "    print(i,end=' ')\n",
    "    \n",
    "i=-10\n",
    "while i<1:\n",
    "    print(i,end=' ')\n",
    "    i=i+1\n",
    "    "
   ]
  },
  {
   "cell_type": "code",
   "execution_count": 4,
   "id": "8db81cc1",
   "metadata": {},
   "outputs": [
    {
     "name": "stdout",
     "output_type": "stream",
     "text": [
      "-1 -2 -3 -4 -5 -6 -7 -8 -9 -1 -2 -3 -4 -5 -6 -7 -8 -9 -10 "
     ]
    }
   ],
   "source": [
    "# wap to print -1 to -10\n",
    "# using for loop and while loop\n",
    "\n",
    "\n",
    "for i in range(-1,-10,-1):\n",
    "    print(i,end=' ')\n",
    "i=-1\n",
    "while i>=-10:\n",
    "    print(i,end=' ')\n",
    "    i=i-1"
   ]
  },
  {
   "cell_type": "code",
   "execution_count": 4,
   "id": "b55aebfa",
   "metadata": {},
   "outputs": [
    {
     "name": "stdout",
     "output_type": "stream",
     "text": [
      "10 9 8 7 6 5 4 3 2 1 10 9 8 7 6 5 4 3 2 1 "
     ]
    }
   ],
   "source": [
    "# wap to print 10 to 1\n",
    "# using for loop and while loop\n",
    "\n",
    "for i in range(10,0,-1):\n",
    "    print(i,end=' ')\n",
    "i=10\n",
    "while i>=1:\n",
    "    print(i,end=' ')\n",
    "    i=i-1"
   ]
  },
  {
   "cell_type": "code",
   "execution_count": null,
   "id": "ea65670e",
   "metadata": {},
   "outputs": [],
   "source": []
  }
 ],
 "metadata": {
  "kernelspec": {
   "display_name": "Python 3 (ipykernel)",
   "language": "python",
   "name": "python3"
  },
  "language_info": {
   "codemirror_mode": {
    "name": "ipython",
    "version": 3
   },
   "file_extension": ".py",
   "mimetype": "text/x-python",
   "name": "python",
   "nbconvert_exporter": "python",
   "pygments_lexer": "ipython3",
   "version": "3.11.7"
  }
 },
 "nbformat": 4,
 "nbformat_minor": 5
}
