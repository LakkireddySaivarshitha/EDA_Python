{
 "cells": [
  {
   "cell_type": "markdown",
   "id": "4ed69e76",
   "metadata": {},
   "source": [
    "**type casting**\n",
    "\n",
    "- convert to one data type to another  data type\n",
    "\n",
    "- integer\n",
    "\n",
    "- float\n",
    "    \n",
    "-  string\n",
    "    \n",
    "-  boolean\n",
    "    \n",
    "    "
   ]
  },
  {
   "cell_type": "markdown",
   "id": "833488ad",
   "metadata": {},
   "source": [
    "integer to all other data type\n",
    "\n",
    "  - integer to float\n",
    "    \n",
    "  -   integer to string\n",
    "    \n",
    "  -   integer to boolean"
   ]
  },
  {
   "cell_type": "code",
   "execution_count": 17,
   "id": "302abf4d",
   "metadata": {},
   "outputs": [
    {
     "data": {
      "text/plain": [
       "int"
      ]
     },
     "execution_count": 17,
     "metadata": {},
     "output_type": "execute_result"
    }
   ],
   "source": [
    "number=100\n",
    "type(number)"
   ]
  },
  {
   "cell_type": "code",
   "execution_count": 18,
   "id": "7053939c",
   "metadata": {},
   "outputs": [
    {
     "data": {
      "text/plain": [
       "(100, 100.0)"
      ]
     },
     "execution_count": 18,
     "metadata": {},
     "output_type": "execute_result"
    }
   ],
   "source": [
    "number_float=float(number)\n",
    "\n",
    "number,number_float"
   ]
  },
  {
   "cell_type": "code",
   "execution_count": 19,
   "id": "3e346e25",
   "metadata": {},
   "outputs": [
    {
     "data": {
      "text/plain": [
       "(int, float)"
      ]
     },
     "execution_count": 19,
     "metadata": {},
     "output_type": "execute_result"
    }
   ],
   "source": [
    "type (number),type(number_float)"
   ]
  },
  {
   "cell_type": "code",
   "execution_count": 20,
   "id": "7e645f28",
   "metadata": {},
   "outputs": [
    {
     "data": {
      "text/plain": [
       "(100, 100.0, '100')"
      ]
     },
     "execution_count": 20,
     "metadata": {},
     "output_type": "execute_result"
    }
   ],
   "source": [
    "number_string=str(number)\n",
    "number,number_float,number_string"
   ]
  },
  {
   "cell_type": "code",
   "execution_count": 21,
   "id": "e74330b9",
   "metadata": {},
   "outputs": [
    {
     "data": {
      "text/plain": [
       "(int, float, str)"
      ]
     },
     "execution_count": 21,
     "metadata": {},
     "output_type": "execute_result"
    }
   ],
   "source": [
    "type(number),type(number_float),type(number_string)"
   ]
  },
  {
   "cell_type": "markdown",
   "id": "6573c820",
   "metadata": {},
   "source": [
    "## int_bool"
   ]
  },
  {
   "cell_type": "code",
   "execution_count": 22,
   "id": "75a8f4ba",
   "metadata": {},
   "outputs": [
    {
     "data": {
      "text/plain": [
       "True"
      ]
     },
     "execution_count": 22,
     "metadata": {},
     "output_type": "execute_result"
    }
   ],
   "source": [
    "number_bool=bool(number)\n",
    "number_bool"
   ]
  },
  {
   "cell_type": "code",
   "execution_count": 26,
   "id": "0dc957e4",
   "metadata": {},
   "outputs": [
    {
     "data": {
      "text/plain": [
       "(100, 100.0, '100', True)"
      ]
     },
     "execution_count": 26,
     "metadata": {},
     "output_type": "execute_result"
    }
   ],
   "source": [
    "number,number_float,number_string,number_bool"
   ]
  },
  {
   "cell_type": "code",
   "execution_count": 24,
   "id": "f52b54e5",
   "metadata": {},
   "outputs": [
    {
     "data": {
      "text/plain": [
       "(200, 200.0, '200', True)"
      ]
     },
     "execution_count": 24,
     "metadata": {},
     "output_type": "execute_result"
    }
   ],
   "source": [
    "number1=200\n",
    "number1_float=float(number1)\n",
    "number1_string=str(number1)\n",
    "number1_bool=bool(number1)\n",
    "\n",
    "number1,number1_float,number1_string,number1_bool"
   ]
  },
  {
   "cell_type": "code",
   "execution_count": 3,
   "id": "b17701ad",
   "metadata": {},
   "outputs": [
    {
     "data": {
      "text/plain": [
       "(True, True, False)"
      ]
     },
     "execution_count": 3,
     "metadata": {},
     "output_type": "execute_result"
    }
   ],
   "source": [
    "bool(100),bool(-100),bool(0)"
   ]
  },
  {
   "cell_type": "markdown",
   "id": "0b55065e",
   "metadata": {},
   "source": [
    "**NOTE**"
   ]
  },
  {
   "cell_type": "markdown",
   "id": "31fcf290",
   "metadata": {},
   "source": [
    "-  boolean converstion of O goves false\n",
    "\n",
    "\n",
    "-  boolean converstion of +ve and -ve integer numbers gives true"
   ]
  },
  {
   "cell_type": "code",
   "execution_count": 2,
   "id": "701d7881",
   "metadata": {},
   "outputs": [
    {
     "data": {
      "text/plain": [
       "(10, 20)"
      ]
     },
     "execution_count": 2,
     "metadata": {},
     "output_type": "execute_result"
    }
   ],
   "source": [
    "#I am getting result for last code-only\n",
    "\n",
    "a=10\n",
    "b=20\n",
    "a,b"
   ]
  },
  {
   "cell_type": "markdown",
   "id": "20726deb",
   "metadata": {},
   "source": [
    "**float to other data types**\n",
    "\n",
    "- float to integer\n",
    "\n",
    "- float to string\n",
    "\n",
    "- float to boolean"
   ]
  },
  {
   "cell_type": "code",
   "execution_count": 10,
   "id": "9d6756b8",
   "metadata": {},
   "outputs": [
    {
     "data": {
      "text/plain": [
       "(100, '100.25', True, False)"
      ]
     },
     "execution_count": 10,
     "metadata": {},
     "output_type": "execute_result"
    }
   ],
   "source": [
    "number2=100.25\n",
    "int(number2),str(number2),bool(number2),bool(0.0)"
   ]
  },
  {
   "cell_type": "code",
   "execution_count": null,
   "id": "a7e2be90",
   "metadata": {},
   "outputs": [],
   "source": [
    "int(100.25) #100\n",
    "str(100.25) #'100.25'\n",
    "bool(100.25) #true\n",
    "bool(0.0)   #flase"
   ]
  },
  {
   "cell_type": "code",
   "execution_count": 11,
   "id": "9ac18e21",
   "metadata": {},
   "outputs": [
    {
     "name": "stdout",
     "output_type": "stream",
     "text": [
      "python\n"
     ]
    }
   ],
   "source": [
    "print('python')"
   ]
  },
  {
   "cell_type": "markdown",
   "id": "dae428da",
   "metadata": {},
   "source": [
    "**string to all other data types**\n",
    "\n",
    " -  string to integer\n",
    "    \n",
    "  -  string to flaot\n",
    "    \n",
    " -   string to boolean"
   ]
  },
  {
   "cell_type": "code",
   "execution_count": 14,
   "id": "052251b6",
   "metadata": {},
   "outputs": [
    {
     "data": {
      "text/plain": [
       "str"
      ]
     },
     "execution_count": 14,
     "metadata": {},
     "output_type": "execute_result"
    }
   ],
   "source": [
    "type('100')"
   ]
  },
  {
   "cell_type": "code",
   "execution_count": 15,
   "id": "1a3df3bd",
   "metadata": {},
   "outputs": [
    {
     "data": {
      "text/plain": [
       "str"
      ]
     },
     "execution_count": 15,
     "metadata": {},
     "output_type": "execute_result"
    }
   ],
   "source": [
    "type('python')"
   ]
  },
  {
   "cell_type": "code",
   "execution_count": 16,
   "id": "552902d5",
   "metadata": {},
   "outputs": [
    {
     "data": {
      "text/plain": [
       "str"
      ]
     },
     "execution_count": 16,
     "metadata": {},
     "output_type": "execute_result"
    }
   ],
   "source": [
    "type('100.25')"
   ]
  },
  {
   "cell_type": "markdown",
   "id": "b6979da6",
   "metadata": {},
   "source": [
    "# case -1"
   ]
  },
  {
   "cell_type": "code",
   "execution_count": null,
   "id": "6db7e156",
   "metadata": {},
   "outputs": [],
   "source": [
    "# string to all other\n",
    "\n",
    "inte('100')    #100\n",
    "float('100')  # 100.0\n",
    "bool('100')  #true"
   ]
  },
  {
   "cell_type": "code",
   "execution_count": 17,
   "id": "6c7f07ab",
   "metadata": {},
   "outputs": [
    {
     "data": {
      "text/plain": [
       "100"
      ]
     },
     "execution_count": 17,
     "metadata": {},
     "output_type": "execute_result"
    }
   ],
   "source": [
    "int(100)"
   ]
  },
  {
   "cell_type": "code",
   "execution_count": 18,
   "id": "e4bc6233",
   "metadata": {},
   "outputs": [
    {
     "data": {
      "text/plain": [
       "100.0"
      ]
     },
     "execution_count": 18,
     "metadata": {},
     "output_type": "execute_result"
    }
   ],
   "source": [
    "float(100)"
   ]
  },
  {
   "cell_type": "code",
   "execution_count": 20,
   "id": "9bc5681e",
   "metadata": {},
   "outputs": [
    {
     "data": {
      "text/plain": [
       "True"
      ]
     },
     "execution_count": 20,
     "metadata": {},
     "output_type": "execute_result"
    }
   ],
   "source": [
    "bool(100)"
   ]
  },
  {
   "cell_type": "code",
   "execution_count": 3,
   "id": "53d8a2f3",
   "metadata": {},
   "outputs": [
    {
     "ename": "ValueError",
     "evalue": "invalid literal for int() with base 10: '1050.5'",
     "output_type": "error",
     "traceback": [
      "\u001b[1;31m---------------------------------------------------------------------------\u001b[0m",
      "\u001b[1;31mValueError\u001b[0m                                Traceback (most recent call last)",
      "Cell \u001b[1;32mIn[3], line 1\u001b[0m\n\u001b[1;32m----> 1\u001b[0m \u001b[38;5;28mint\u001b[39m(\u001b[38;5;124m'\u001b[39m\u001b[38;5;124m1050.5\u001b[39m\u001b[38;5;124m'\u001b[39m)\n",
      "\u001b[1;31mValueError\u001b[0m: invalid literal for int() with base 10: '1050.5'"
     ]
    }
   ],
   "source": [
    "int('1050.5')"
   ]
  },
  {
   "cell_type": "code",
   "execution_count": 25,
   "id": "d1770247",
   "metadata": {},
   "outputs": [
    {
     "data": {
      "text/plain": [
       "100.24"
      ]
     },
     "execution_count": 25,
     "metadata": {},
     "output_type": "execute_result"
    }
   ],
   "source": [
    "float('100.24')"
   ]
  },
  {
   "cell_type": "code",
   "execution_count": 26,
   "id": "a6d15613",
   "metadata": {},
   "outputs": [
    {
     "data": {
      "text/plain": [
       "True"
      ]
     },
     "execution_count": 26,
     "metadata": {},
     "output_type": "execute_result"
    }
   ],
   "source": [
    "bool('100.25')"
   ]
  },
  {
   "cell_type": "code",
   "execution_count": null,
   "id": "238ceb43",
   "metadata": {},
   "outputs": [],
   "source": [
    "int('100')  # workes,\n",
    "int('100.25')# fail"
   ]
  },
  {
   "cell_type": "code",
   "execution_count": 27,
   "id": "05eb7a36",
   "metadata": {},
   "outputs": [
    {
     "data": {
      "text/plain": [
       "(100.0, 100.25)"
      ]
     },
     "execution_count": 27,
     "metadata": {},
     "output_type": "execute_result"
    }
   ],
   "source": [
    "float('100'),float('100.25')"
   ]
  },
  {
   "cell_type": "markdown",
   "id": "af532a7b",
   "metadata": {},
   "source": [
    "# NOTE\n",
    "\n",
    "  -  float is bool\n",
    "    \n",
    "  - integer converstion of float value in string format will be fail  "
   ]
  },
  {
   "cell_type": "code",
   "execution_count": null,
   "id": "8ea64b89",
   "metadata": {},
   "outputs": [],
   "source": [
    "int(100.25)   #  100\n",
    "int('100.25') # fail\n",
    "int(100)       #100\n",
    "int('100')     #  100 "
   ]
  },
  {
   "cell_type": "code",
   "execution_count": null,
   "id": "582e4a74",
   "metadata": {},
   "outputs": [],
   "source": [
    " float (100.25)\n",
    "float (100)\n",
    "float('100')\n",
    "float('100.25')"
   ]
  },
  {
   "cell_type": "code",
   "execution_count": 28,
   "id": "f1f5a578",
   "metadata": {},
   "outputs": [
    {
     "data": {
      "text/plain": [
       "100.25"
      ]
     },
     "execution_count": 28,
     "metadata": {},
     "output_type": "execute_result"
    }
   ],
   "source": [
    "float(100.25)"
   ]
  },
  {
   "cell_type": "code",
   "execution_count": 29,
   "id": "25bc5eff",
   "metadata": {},
   "outputs": [
    {
     "data": {
      "text/plain": [
       "100.0"
      ]
     },
     "execution_count": 29,
     "metadata": {},
     "output_type": "execute_result"
    }
   ],
   "source": [
    "float(100)"
   ]
  },
  {
   "cell_type": "code",
   "execution_count": 30,
   "id": "382341b1",
   "metadata": {},
   "outputs": [
    {
     "data": {
      "text/plain": [
       "100.0"
      ]
     },
     "execution_count": 30,
     "metadata": {},
     "output_type": "execute_result"
    }
   ],
   "source": [
    "float('100')"
   ]
  },
  {
   "cell_type": "code",
   "execution_count": 31,
   "id": "d242ba75",
   "metadata": {},
   "outputs": [
    {
     "data": {
      "text/plain": [
       "100.25"
      ]
     },
     "execution_count": 31,
     "metadata": {},
     "output_type": "execute_result"
    }
   ],
   "source": [
    "float('100.25')"
   ]
  },
  {
   "cell_type": "markdown",
   "id": "c99ce7bd",
   "metadata": {},
   "source": [
    "-  integr will accepect the float value\n",
    "\n",
    "- integer will not accepect the float value in string formate\n",
    "             ex : int (100.25)     fail\n",
    "    "
   ]
  },
  {
   "cell_type": "markdown",
   "id": "d36671a7",
   "metadata": {},
   "source": [
    "# case 3"
   ]
  },
  {
   "cell_type": "code",
   "execution_count": null,
   "id": "71cfeb8a",
   "metadata": {},
   "outputs": [],
   "source": [
    "int('python')\n",
    "float('python')\n",
    "bool('python')"
   ]
  },
  {
   "cell_type": "code",
   "execution_count": 32,
   "id": "7dfede13",
   "metadata": {},
   "outputs": [
    {
     "ename": "ValueError",
     "evalue": "invalid literal for int() with base 10: 'python'",
     "output_type": "error",
     "traceback": [
      "\u001b[1;31m---------------------------------------------------------------------------\u001b[0m",
      "\u001b[1;31mValueError\u001b[0m                                Traceback (most recent call last)",
      "Cell \u001b[1;32mIn[32], line 1\u001b[0m\n\u001b[1;32m----> 1\u001b[0m \u001b[38;5;28mint\u001b[39m(\u001b[38;5;124m'\u001b[39m\u001b[38;5;124mpython\u001b[39m\u001b[38;5;124m'\u001b[39m)\n",
      "\u001b[1;31mValueError\u001b[0m: invalid literal for int() with base 10: 'python'"
     ]
    }
   ],
   "source": [
    "int('python')"
   ]
  },
  {
   "cell_type": "code",
   "execution_count": 33,
   "id": "09458ce7",
   "metadata": {},
   "outputs": [
    {
     "ename": "ValueError",
     "evalue": "could not convert string to float: 'python'",
     "output_type": "error",
     "traceback": [
      "\u001b[1;31m---------------------------------------------------------------------------\u001b[0m",
      "\u001b[1;31mValueError\u001b[0m                                Traceback (most recent call last)",
      "Cell \u001b[1;32mIn[33], line 1\u001b[0m\n\u001b[1;32m----> 1\u001b[0m \u001b[38;5;28mfloat\u001b[39m(\u001b[38;5;124m'\u001b[39m\u001b[38;5;124mpython\u001b[39m\u001b[38;5;124m'\u001b[39m)\n",
      "\u001b[1;31mValueError\u001b[0m: could not convert string to float: 'python'"
     ]
    }
   ],
   "source": [
    "float('python')"
   ]
  },
  {
   "cell_type": "code",
   "execution_count": 34,
   "id": "6efe9cf4",
   "metadata": {},
   "outputs": [
    {
     "data": {
      "text/plain": [
       "True"
      ]
     },
     "execution_count": 34,
     "metadata": {},
     "output_type": "execute_result"
    }
   ],
   "source": [
    "bool('python')"
   ]
  },
  {
   "cell_type": "code",
   "execution_count": null,
   "id": "e1ec34d0",
   "metadata": {},
   "outputs": [],
   "source": [
    "bool('100')      #true\n",
    "bool('100.25')    #true\n",
    "bool('0')         #true\n",
    "bool('0.0')     #true\n",
    "bool('python')  #true \n",
    "bool(100)       #true\n",
    "bool(-100)      #true\n",
    "bool(100.25)   #true\n",
    "bool(0)       #fail   (off)\n",
    "bool(0.0)    # fail  (off)\n",
    "bool('')     # fail  (off)"
   ]
  },
  {
   "cell_type": "code",
   "execution_count": 35,
   "id": "11921f9e",
   "metadata": {},
   "outputs": [
    {
     "data": {
      "text/plain": [
       "False"
      ]
     },
     "execution_count": 35,
     "metadata": {},
     "output_type": "execute_result"
    }
   ],
   "source": [
    "bool(0.0)"
   ]
  },
  {
   "cell_type": "code",
   "execution_count": 36,
   "id": "b2406cf8",
   "metadata": {},
   "outputs": [
    {
     "data": {
      "text/plain": [
       "False"
      ]
     },
     "execution_count": 36,
     "metadata": {},
     "output_type": "execute_result"
    }
   ],
   "source": [
    "bool(0)"
   ]
  },
  {
   "cell_type": "code",
   "execution_count": 37,
   "id": "a11450ec",
   "metadata": {},
   "outputs": [
    {
     "data": {
      "text/plain": [
       "False"
      ]
     },
     "execution_count": 37,
     "metadata": {},
     "output_type": "execute_result"
    }
   ],
   "source": [
    "bool('')"
   ]
  },
  {
   "cell_type": "code",
   "execution_count": 38,
   "id": "eeb2ce3b",
   "metadata": {},
   "outputs": [
    {
     "data": {
      "text/plain": [
       "True"
      ]
     },
     "execution_count": 38,
     "metadata": {},
     "output_type": "execute_result"
    }
   ],
   "source": [
    "bool('100')"
   ]
  },
  {
   "cell_type": "code",
   "execution_count": null,
   "id": "b8f8001f",
   "metadata": {},
   "outputs": [],
   "source": [
    "type error: 'float ' object is not callaball\n"
   ]
  },
  {
   "cell_type": "code",
   "execution_count": 39,
   "id": "459adc08",
   "metadata": {},
   "outputs": [
    {
     "data": {
      "text/plain": [
       "100.0"
      ]
     },
     "execution_count": 39,
     "metadata": {},
     "output_type": "execute_result"
    }
   ],
   "source": [
    " float (100)"
   ]
  },
  {
   "cell_type": "code",
   "execution_count": null,
   "id": "d62f5307",
   "metadata": {},
   "outputs": [],
   "source": [
    "int(100.25)  #100\n",
    "int('100.25') #error\n",
    "int(True)   #1\n",
    "int(false)  #0"
   ]
  },
  {
   "cell_type": "code",
   "execution_count": 40,
   "id": "5a9c4a5f",
   "metadata": {},
   "outputs": [
    {
     "data": {
      "text/plain": [
       "100"
      ]
     },
     "execution_count": 40,
     "metadata": {},
     "output_type": "execute_result"
    }
   ],
   "source": [
    "int(100.25)"
   ]
  },
  {
   "cell_type": "code",
   "execution_count": 53,
   "id": "6d6304ac",
   "metadata": {},
   "outputs": [
    {
     "ename": "ValueError",
     "evalue": "invalid literal for int() with base 10: '100.25'",
     "output_type": "error",
     "traceback": [
      "\u001b[1;31m---------------------------------------------------------------------------\u001b[0m",
      "\u001b[1;31mValueError\u001b[0m                                Traceback (most recent call last)",
      "Cell \u001b[1;32mIn[53], line 1\u001b[0m\n\u001b[1;32m----> 1\u001b[0m \u001b[38;5;28mint\u001b[39m(\u001b[38;5;124m'\u001b[39m\u001b[38;5;124m100.25\u001b[39m\u001b[38;5;124m'\u001b[39m)\n",
      "\u001b[1;31mValueError\u001b[0m: invalid literal for int() with base 10: '100.25'"
     ]
    }
   ],
   "source": [
    "int('100.25')"
   ]
  },
  {
   "cell_type": "code",
   "execution_count": 42,
   "id": "20e89ac1",
   "metadata": {},
   "outputs": [
    {
     "data": {
      "text/plain": [
       "1"
      ]
     },
     "execution_count": 42,
     "metadata": {},
     "output_type": "execute_result"
    }
   ],
   "source": [
    "int(True)"
   ]
  },
  {
   "cell_type": "code",
   "execution_count": 43,
   "id": "4766a7e6",
   "metadata": {},
   "outputs": [
    {
     "data": {
      "text/plain": [
       "0"
      ]
     },
     "execution_count": 43,
     "metadata": {},
     "output_type": "execute_result"
    }
   ],
   "source": [
    "int(False)"
   ]
  },
  {
   "cell_type": "code",
   "execution_count": null,
   "id": "120541f3",
   "metadata": {},
   "outputs": [],
   "source": [
    "float(100)\n",
    "float(100.25)\n",
    "float(True)\n",
    "float(False)"
   ]
  },
  {
   "cell_type": "code",
   "execution_count": 44,
   "id": "e406e1dc",
   "metadata": {},
   "outputs": [
    {
     "data": {
      "text/plain": [
       "100.0"
      ]
     },
     "execution_count": 44,
     "metadata": {},
     "output_type": "execute_result"
    }
   ],
   "source": [
    "float(100)"
   ]
  },
  {
   "cell_type": "code",
   "execution_count": 45,
   "id": "8df31657",
   "metadata": {},
   "outputs": [
    {
     "data": {
      "text/plain": [
       "100.25"
      ]
     },
     "execution_count": 45,
     "metadata": {},
     "output_type": "execute_result"
    }
   ],
   "source": [
    "float(100.25)"
   ]
  },
  {
   "cell_type": "code",
   "execution_count": 46,
   "id": "cd9f2ccf",
   "metadata": {},
   "outputs": [
    {
     "data": {
      "text/plain": [
       "1.0"
      ]
     },
     "execution_count": 46,
     "metadata": {},
     "output_type": "execute_result"
    }
   ],
   "source": [
    "float(True)"
   ]
  },
  {
   "cell_type": "code",
   "execution_count": 47,
   "id": "8cde6795",
   "metadata": {},
   "outputs": [
    {
     "data": {
      "text/plain": [
       "0.0"
      ]
     },
     "execution_count": 47,
     "metadata": {},
     "output_type": "execute_result"
    }
   ],
   "source": [
    "float(False)"
   ]
  },
  {
   "cell_type": "code",
   "execution_count": null,
   "id": "40987af8",
   "metadata": {},
   "outputs": [],
   "source": [
    "str(100)\n",
    "str(100.25)\n",
    "str(True)\n",
    "str(False)"
   ]
  },
  {
   "cell_type": "code",
   "execution_count": 48,
   "id": "c0b1b8bd",
   "metadata": {},
   "outputs": [
    {
     "data": {
      "text/plain": [
       "'100'"
      ]
     },
     "execution_count": 48,
     "metadata": {},
     "output_type": "execute_result"
    }
   ],
   "source": [
    "str(100)"
   ]
  },
  {
   "cell_type": "code",
   "execution_count": 49,
   "id": "bbff9e24",
   "metadata": {},
   "outputs": [
    {
     "data": {
      "text/plain": [
       "'100.25'"
      ]
     },
     "execution_count": 49,
     "metadata": {},
     "output_type": "execute_result"
    }
   ],
   "source": [
    "str(100.25)"
   ]
  },
  {
   "cell_type": "code",
   "execution_count": 50,
   "id": "0279ae25",
   "metadata": {},
   "outputs": [
    {
     "data": {
      "text/plain": [
       "'True'"
      ]
     },
     "execution_count": 50,
     "metadata": {},
     "output_type": "execute_result"
    }
   ],
   "source": [
    "str(True)"
   ]
  },
  {
   "cell_type": "code",
   "execution_count": 51,
   "id": "4c1d7d24",
   "metadata": {},
   "outputs": [
    {
     "data": {
      "text/plain": [
       "'False'"
      ]
     },
     "execution_count": 51,
     "metadata": {},
     "output_type": "execute_result"
    }
   ],
   "source": [
    "str(False)"
   ]
  },
  {
   "cell_type": "code",
   "execution_count": 1,
   "id": "6cb8a8e5",
   "metadata": {},
   "outputs": [
    {
     "data": {
      "text/plain": [
       "'hello phthon'"
      ]
     },
     "execution_count": 1,
     "metadata": {},
     "output_type": "execute_result"
    }
   ],
   "source": [
    "str(\"hello phthon\")"
   ]
  },
  {
   "cell_type": "code",
   "execution_count": null,
   "id": "b1a8fef9",
   "metadata": {},
   "outputs": [],
   "source": []
  }
 ],
 "metadata": {
  "kernelspec": {
   "display_name": "Python 3 (ipykernel)",
   "language": "python",
   "name": "python3"
  },
  "language_info": {
   "codemirror_mode": {
    "name": "ipython",
    "version": 3
   },
   "file_extension": ".py",
   "mimetype": "text/x-python",
   "name": "python",
   "nbconvert_exporter": "python",
   "pygments_lexer": "ipython3",
   "version": "3.11.7"
  }
 },
 "nbformat": 4,
 "nbformat_minor": 5
}
