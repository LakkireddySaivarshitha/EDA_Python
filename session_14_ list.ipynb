{
 "cells": [
  {
   "cell_type": "markdown",
   "id": "a7012056",
   "metadata": {},
   "source": [
    "- how to display \n",
    "\n",
    "- type\n",
    "\n",
    "- len\n",
    "\n",
    "- max\n",
    "\n",
    "- min\n",
    "\n",
    "- sum\n",
    "\n",
    "- reversed\n",
    "\n",
    "- sorted\n",
    "\n",
    "- in\n",
    "\n",
    "- not in\n",
    "\n",
    "- index\n",
    "\n",
    "- forloop\n",
    "\n",
    "- mutable\n",
    "\n",
    "- slice\n",
    "\n",
    "- concatenation\n",
    "\n",
    "- methods"
   ]
  },
  {
   "cell_type": "code",
   "execution_count": 17,
   "id": "107c5afa",
   "metadata": {},
   "outputs": [
    {
     "data": {
      "text/plain": [
       "[1, 2, 3, 4]"
      ]
     },
     "execution_count": 17,
     "metadata": {},
     "output_type": "execute_result"
    }
   ],
   "source": [
    "list1=[1,2,3,4] # array of elements\n",
    "\n",
    "list1"
   ]
  },
  {
   "cell_type": "code",
   "execution_count": 18,
   "id": "2c32a96f",
   "metadata": {},
   "outputs": [
    {
     "data": {
      "text/plain": [
       "list"
      ]
     },
     "execution_count": 18,
     "metadata": {},
     "output_type": "execute_result"
    }
   ],
   "source": [
    "type(list1)"
   ]
  },
  {
   "cell_type": "code",
   "execution_count": 19,
   "id": "215e0195",
   "metadata": {},
   "outputs": [
    {
     "data": {
      "text/plain": [
       "['Apple', 'Ball', 'Cat']"
      ]
     },
     "execution_count": 19,
     "metadata": {},
     "output_type": "execute_result"
    }
   ],
   "source": [
    "list2=['Apple','Ball','Cat']\n",
    "list2"
   ]
  },
  {
   "cell_type": "code",
   "execution_count": 20,
   "id": "3946449c",
   "metadata": {},
   "outputs": [
    {
     "data": {
      "text/plain": [
       "[1, 2, 3, 'Apple', 'Ball', 'Cat']"
      ]
     },
     "execution_count": 20,
     "metadata": {},
     "output_type": "execute_result"
    }
   ],
   "source": [
    "list3=[1,2,3,'Apple','Ball','Cat']\n",
    "list3"
   ]
  },
  {
   "cell_type": "code",
   "execution_count": 21,
   "id": "621f8aa7",
   "metadata": {},
   "outputs": [
    {
     "data": {
      "text/plain": [
       "[1, 'Apple', 10.5, True]"
      ]
     },
     "execution_count": 21,
     "metadata": {},
     "output_type": "execute_result"
    }
   ],
   "source": [
    "list4=[1,'Apple',10.5,True]\n",
    "list4"
   ]
  },
  {
   "cell_type": "code",
   "execution_count": 22,
   "id": "01c1f46f",
   "metadata": {},
   "outputs": [
    {
     "data": {
      "text/plain": [
       "[100, 100, 100]"
      ]
     },
     "execution_count": 22,
     "metadata": {},
     "output_type": "execute_result"
    }
   ],
   "source": [
    "list5=[100,100,100]\n",
    "list5"
   ]
  },
  {
   "cell_type": "code",
   "execution_count": 23,
   "id": "79655c2c",
   "metadata": {},
   "outputs": [
    {
     "data": {
      "text/plain": [
       "['Apple', 'Ball', [1, 2, 3]]"
      ]
     },
     "execution_count": 23,
     "metadata": {},
     "output_type": "execute_result"
    }
   ],
   "source": [
    "list6=['Apple','Ball',[1,2,3]]\n",
    "list6"
   ]
  },
  {
   "cell_type": "markdown",
   "id": "d48db6d0",
   "metadata": {},
   "source": [
    "- List items can be heterigeous\n",
    "\n",
    "- which means list items can be all data types\n",
    "\n",
    "- list items vcan be duplicate\n",
    "\n",
    "     - which means  list can have same value multipule times\n",
    "\n",
    "- list can have anthoer list inside:list in list"
   ]
  },
  {
   "cell_type": "code",
   "execution_count": 2,
   "id": "04c7f946",
   "metadata": {},
   "outputs": [],
   "source": [
    "list1=[1,2,3,4]\n",
    "list2=['Apple','Ball','Cat']\n",
    "list3=[1,2,3,'Apple','Ball','Cat']\n",
    "list4=[1,'Apple',10.5,True]\n",
    "list5=[100,100,100]\n",
    "list6=['Apple','Ball',[1,2,3]]"
   ]
  },
  {
   "cell_type": "markdown",
   "id": "dbfc6ee9",
   "metadata": {},
   "source": [
    "**type**"
   ]
  },
  {
   "cell_type": "code",
   "execution_count": 3,
   "id": "67c4b67a",
   "metadata": {},
   "outputs": [
    {
     "data": {
      "text/plain": [
       "4"
      ]
     },
     "execution_count": 3,
     "metadata": {},
     "output_type": "execute_result"
    }
   ],
   "source": [
    "len(list1)"
   ]
  },
  {
   "cell_type": "code",
   "execution_count": 8,
   "id": "cb66e121",
   "metadata": {},
   "outputs": [
    {
     "data": {
      "text/plain": [
       "(4, 1)"
      ]
     },
     "execution_count": 8,
     "metadata": {},
     "output_type": "execute_result"
    }
   ],
   "source": [
    "max(list1),min(list1)"
   ]
  },
  {
   "cell_type": "code",
   "execution_count": 9,
   "id": "28b69d7b",
   "metadata": {},
   "outputs": [
    {
     "data": {
      "text/plain": [
       "('Cat', 'Apple')"
      ]
     },
     "execution_count": 9,
     "metadata": {},
     "output_type": "execute_result"
    }
   ],
   "source": [
    "max(list2),min(list2)"
   ]
  },
  {
   "cell_type": "code",
   "execution_count": 10,
   "id": "0b138bbe",
   "metadata": {},
   "outputs": [
    {
     "data": {
      "text/plain": [
       "[1, 2, 3, 'Apple', 'Ball', 'Cat']"
      ]
     },
     "execution_count": 10,
     "metadata": {},
     "output_type": "execute_result"
    }
   ],
   "source": [
    "list3"
   ]
  },
  {
   "cell_type": "code",
   "execution_count": 11,
   "id": "ab81b1c3",
   "metadata": {},
   "outputs": [
    {
     "data": {
      "text/plain": [
       "6"
      ]
     },
     "execution_count": 11,
     "metadata": {},
     "output_type": "execute_result"
    }
   ],
   "source": [
    "len(list3)"
   ]
  },
  {
   "cell_type": "code",
   "execution_count": 12,
   "id": "c71a267e",
   "metadata": {},
   "outputs": [
    {
     "data": {
      "text/plain": [
       "[4, 3, 2, 1]"
      ]
     },
     "execution_count": 12,
     "metadata": {},
     "output_type": "execute_result"
    }
   ],
   "source": [
    "# type()\n",
    "# len()\n",
    "# min()\n",
    "# max()\n",
    "sorted(list1,reverse=True)"
   ]
  },
  {
   "cell_type": "code",
   "execution_count": 13,
   "id": "29fe3063",
   "metadata": {},
   "outputs": [
    {
     "name": "stdout",
     "output_type": "stream",
     "text": [
      "4\n",
      "3\n",
      "2\n",
      "1\n"
     ]
    }
   ],
   "source": [
    "val=reversed(list1)\n",
    "for i in val:\n",
    "    print(i)"
   ]
  },
  {
   "cell_type": "code",
   "execution_count": 14,
   "id": "8de53aa7",
   "metadata": {},
   "outputs": [
    {
     "data": {
      "text/plain": [
       "[1, 2, 3, 'Apple', 'Ball', 'Cat']"
      ]
     },
     "execution_count": 14,
     "metadata": {},
     "output_type": "execute_result"
    }
   ],
   "source": [
    "list3"
   ]
  },
  {
   "cell_type": "code",
   "execution_count": 15,
   "id": "5fd52afc",
   "metadata": {},
   "outputs": [
    {
     "name": "stdout",
     "output_type": "stream",
     "text": [
      "Cat\n",
      "Ball\n",
      "Apple\n",
      "3\n",
      "2\n",
      "1\n"
     ]
    }
   ],
   "source": [
    "# sorted(list3)\n",
    "for i in reversed(list3):\n",
    "    print(i)"
   ]
  },
  {
   "cell_type": "code",
   "execution_count": 16,
   "id": "5971ec5c",
   "metadata": {},
   "outputs": [
    {
     "data": {
      "text/plain": [
       "True"
      ]
     },
     "execution_count": 16,
     "metadata": {},
     "output_type": "execute_result"
    }
   ],
   "source": [
    "1 in (list1)\n",
    "2 in (list1)\n",
    "3 in list1\n",
    "33 in list1\n",
    "33 not in list1"
   ]
  },
  {
   "cell_type": "code",
   "execution_count": 17,
   "id": "b7b67d2f",
   "metadata": {},
   "outputs": [
    {
     "name": "stdout",
     "output_type": "stream",
     "text": [
      "1\n",
      "2\n",
      "3\n",
      "4\n"
     ]
    }
   ],
   "source": [
    "1 in (list1)\n",
    "2 in (list1)\n",
    "3 in list1\n",
    "\n",
    "for i in list1:\n",
    "    print(i)\n",
    "    "
   ]
  },
  {
   "cell_type": "code",
   "execution_count": 18,
   "id": "b4556950",
   "metadata": {},
   "outputs": [
    {
     "name": "stdout",
     "output_type": "stream",
     "text": [
      "p\n",
      "y\n",
      "t\n",
      "h\n",
      "o\n",
      "n\n"
     ]
    }
   ],
   "source": [
    "for i in 'python':\n",
    "    print(i)"
   ]
  },
  {
   "cell_type": "code",
   "execution_count": 19,
   "id": "876b5fd5",
   "metadata": {},
   "outputs": [
    {
     "name": "stdout",
     "output_type": "stream",
     "text": [
      "1\n",
      "2\n",
      "3\n",
      "4\n",
      "5\n",
      "6\n"
     ]
    }
   ],
   "source": [
    "for i in '123456':\n",
    "    print(i)"
   ]
  },
  {
   "cell_type": "code",
   "execution_count": null,
   "id": "54a543ad",
   "metadata": {},
   "outputs": [],
   "source": [
    "-7 -6 -5 -4 -3 -2 -1\n",
    "1   2  3  4  5  6  7\n",
    "0   1  2  3  4  5  6"
   ]
  },
  {
   "cell_type": "code",
   "execution_count": 21,
   "id": "4497bec8",
   "metadata": {},
   "outputs": [
    {
     "data": {
      "text/plain": [
       "(10, 20, 30)"
      ]
     },
     "execution_count": 21,
     "metadata": {},
     "output_type": "execute_result"
    }
   ],
   "source": [
    "list1=[10,20,30,40,50,60]\n",
    "list1[0],list1[1],list1[2]"
   ]
  },
  {
   "cell_type": "code",
   "execution_count": 22,
   "id": "2a0f1a35",
   "metadata": {},
   "outputs": [
    {
     "name": "stdout",
     "output_type": "stream",
     "text": [
      "0 h\n",
      "1 e\n",
      "2 l\n",
      "3 l\n",
      "4 o\n",
      "5  \n",
      "6 p\n",
      "7 y\n",
      "8 t\n",
      "9 h\n",
      "10 o\n",
      "11 n\n"
     ]
    }
   ],
   "source": [
    "list1='hello python'\n",
    "n=len(list1)\n",
    "for i in range(n):\n",
    "    print(i,list1[i])"
   ]
  },
  {
   "cell_type": "code",
   "execution_count": 23,
   "id": "b83d5e5e",
   "metadata": {},
   "outputs": [
    {
     "name": "stdout",
     "output_type": "stream",
     "text": [
      "-12 h\n",
      "-11 e\n",
      "-10 l\n",
      "-9 l\n",
      "-8 o\n",
      "-7  \n",
      "-6 p\n",
      "-5 y\n",
      "-4 t\n",
      "-3 h\n",
      "-2 o\n",
      "-1 n\n"
     ]
    }
   ],
   "source": [
    "list1='hello python'\n",
    "n=len(list1)\n",
    "for i in range(-n,0):\n",
    "    print(i,list1[i])"
   ]
  },
  {
   "cell_type": "code",
   "execution_count": 24,
   "id": "4933b99c",
   "metadata": {},
   "outputs": [
    {
     "name": "stdout",
     "output_type": "stream",
     "text": [
      "0 h\n",
      "1 e\n",
      "2 l\n",
      "3 l\n",
      "4 o\n",
      "5  \n",
      "6 p\n",
      "7 y\n",
      "8 t\n",
      "9 h\n",
      "10 o\n",
      "11 n\n"
     ]
    }
   ],
   "source": [
    "list1='hello python'\n",
    "n=len(list1)\n",
    "for i in range(n):\n",
    "    print(i,list1[i] )"
   ]
  },
  {
   "cell_type": "code",
   "execution_count": 25,
   "id": "ffbc642e",
   "metadata": {},
   "outputs": [
    {
     "data": {
      "text/plain": [
       "[1]"
      ]
     },
     "execution_count": 25,
     "metadata": {},
     "output_type": "execute_result"
    }
   ],
   "source": [
    "list1=[[1]]\n",
    "list1[0]"
   ]
  },
  {
   "cell_type": "code",
   "execution_count": 26,
   "id": "c65b5eef",
   "metadata": {},
   "outputs": [
    {
     "data": {
      "text/plain": [
       "10"
      ]
     },
     "execution_count": 26,
     "metadata": {},
     "output_type": "execute_result"
    }
   ],
   "source": [
    "list1=[1,2,3,[10]]\n",
    "list1[3][0]"
   ]
  },
  {
   "cell_type": "code",
   "execution_count": 27,
   "id": "d6d68e71",
   "metadata": {},
   "outputs": [
    {
     "data": {
      "text/plain": [
       "4"
      ]
     },
     "execution_count": 27,
     "metadata": {},
     "output_type": "execute_result"
    }
   ],
   "source": [
    "list1=[1,2,3,['A',['B']]]\n",
    "len(list1)"
   ]
  },
  {
   "cell_type": "code",
   "execution_count": 28,
   "id": "1c4f5148",
   "metadata": {},
   "outputs": [
    {
     "data": {
      "text/plain": [
       "'B'"
      ]
     },
     "execution_count": 28,
     "metadata": {},
     "output_type": "execute_result"
    }
   ],
   "source": [
    "list1[3][1][0]"
   ]
  },
  {
   "cell_type": "code",
   "execution_count": 29,
   "id": "0e1dbafd",
   "metadata": {},
   "outputs": [
    {
     "data": {
      "text/plain": [
       "2"
      ]
     },
     "execution_count": 29,
     "metadata": {},
     "output_type": "execute_result"
    }
   ],
   "source": [
    "list1=[1,2,3,['Apple',['Fruites',['Cherry']]]]\n",
    "len(list1[3])       \n"
   ]
  },
  {
   "cell_type": "code",
   "execution_count": 30,
   "id": "602b19c3",
   "metadata": {},
   "outputs": [
    {
     "data": {
      "text/plain": [
       "'Cherry'"
      ]
     },
     "execution_count": 30,
     "metadata": {},
     "output_type": "execute_result"
    }
   ],
   "source": [
    "list1[3][1][1][0]"
   ]
  },
  {
   "cell_type": "code",
   "execution_count": 31,
   "id": "0662f685",
   "metadata": {},
   "outputs": [
    {
     "data": {
      "text/plain": [
       "1"
      ]
     },
     "execution_count": 31,
     "metadata": {},
     "output_type": "execute_result"
    }
   ],
   "source": [
    "list1=[[[1,2,3,['Apple',['Fruites',['Mango',['Cherry']]]]]]]\n",
    "len(list1)"
   ]
  },
  {
   "cell_type": "code",
   "execution_count": 32,
   "id": "790017ee",
   "metadata": {},
   "outputs": [
    {
     "data": {
      "text/plain": [
       "('Mango', 'Cherry')"
      ]
     },
     "execution_count": 32,
     "metadata": {},
     "output_type": "execute_result"
    }
   ],
   "source": [
    "list1[0][0][3][1][1][0],list1[0][0][3][1][1][1][0]"
   ]
  },
  {
   "cell_type": "code",
   "execution_count": 33,
   "id": "307df3c1",
   "metadata": {},
   "outputs": [
    {
     "data": {
      "text/plain": [
       "1"
      ]
     },
     "execution_count": 33,
     "metadata": {},
     "output_type": "execute_result"
    }
   ],
   "source": [
    "list1=[[[[[[[[['Orange']]]]]]]]]\n",
    "len(list1)"
   ]
  },
  {
   "cell_type": "code",
   "execution_count": 34,
   "id": "f88519ab",
   "metadata": {},
   "outputs": [
    {
     "data": {
      "text/plain": [
       "'Orange'"
      ]
     },
     "execution_count": 34,
     "metadata": {},
     "output_type": "execute_result"
    }
   ],
   "source": [
    "list1[0][0][0][0][0][0][0][0][0]"
   ]
  },
  {
   "cell_type": "code",
   "execution_count": 35,
   "id": "2ba1ca1e",
   "metadata": {},
   "outputs": [],
   "source": [
    "list1=[[[[[[[['Fruites',[[['Banana']]]]]]]]]]]"
   ]
  },
  {
   "cell_type": "code",
   "execution_count": 36,
   "id": "8af83116",
   "metadata": {},
   "outputs": [
    {
     "data": {
      "text/plain": [
       "'Banana'"
      ]
     },
     "execution_count": 36,
     "metadata": {},
     "output_type": "execute_result"
    }
   ],
   "source": [
    "list1[0][0][0][0][0][0][0][1][0][0][0]"
   ]
  },
  {
   "cell_type": "code",
   "execution_count": 37,
   "id": "b2da5c48",
   "metadata": {},
   "outputs": [],
   "source": [
    "list1=[[[1,2,3,['Apple',['Fruites',['Mango',['Cherry',['strawberry']]]]]]]]"
   ]
  },
  {
   "cell_type": "code",
   "execution_count": 38,
   "id": "1f7f3471",
   "metadata": {},
   "outputs": [
    {
     "data": {
      "text/plain": [
       "'strawberry'"
      ]
     },
     "execution_count": 38,
     "metadata": {},
     "output_type": "execute_result"
    }
   ],
   "source": [
    "list1[0][0][3][1][1][1][1][0]"
   ]
  },
  {
   "cell_type": "markdown",
   "id": "bbc5f5e3",
   "metadata": {},
   "source": [
    "# mutable- immutable"
   ]
  },
  {
   "cell_type": "code",
   "execution_count": 39,
   "id": "81a2f710",
   "metadata": {},
   "outputs": [
    {
     "data": {
      "text/plain": [
       "27"
      ]
     },
     "execution_count": 39,
     "metadata": {},
     "output_type": "execute_result"
    }
   ],
   "source": [
    "3**3"
   ]
  },
  {
   "cell_type": "code",
   "execution_count": 40,
   "id": "695a4946",
   "metadata": {},
   "outputs": [
    {
     "data": {
      "text/plain": [
       "3"
      ]
     },
     "execution_count": 40,
     "metadata": {},
     "output_type": "execute_result"
    }
   ],
   "source": [
    "3*1**3"
   ]
  },
  {
   "cell_type": "markdown",
   "id": "a7e15b84",
   "metadata": {},
   "source": [
    "- python mutable conceps always based on index\n",
    "\n",
    "- list of mutable means we can chaing the values using index"
   ]
  },
  {
   "cell_type": "code",
   "execution_count": 41,
   "id": "e7bf67b3",
   "metadata": {},
   "outputs": [
    {
     "data": {
      "text/plain": [
       "[100, 2, 3, 4]"
      ]
     },
     "execution_count": 41,
     "metadata": {},
     "output_type": "execute_result"
    }
   ],
   "source": [
    "l=[1,2,3,4]\n",
    "l[0]=100\n",
    "l"
   ]
  },
  {
   "cell_type": "markdown",
   "id": "55ed1c37",
   "metadata": {},
   "source": [
    "# cancatenation"
   ]
  },
  {
   "cell_type": "code",
   "execution_count": 42,
   "id": "9be83913",
   "metadata": {},
   "outputs": [
    {
     "data": {
      "text/plain": [
       "[1, 2, 3, 4, 10, 20, 30, 40]"
      ]
     },
     "execution_count": 42,
     "metadata": {},
     "output_type": "execute_result"
    }
   ],
   "source": [
    "l1=[1,2,3,4]\n",
    "l2=[10,20,30,40]\n",
    "l1+l2"
   ]
  },
  {
   "cell_type": "code",
   "execution_count": 43,
   "id": "28c0c511",
   "metadata": {},
   "outputs": [
    {
     "data": {
      "text/plain": [
       "[1, 2, 3, 4, 1, 2, 3, 4]"
      ]
     },
     "execution_count": 43,
     "metadata": {},
     "output_type": "execute_result"
    }
   ],
   "source": [
    "l1*2"
   ]
  },
  {
   "cell_type": "code",
   "execution_count": 44,
   "id": "6583a04b",
   "metadata": {},
   "outputs": [],
   "source": [
    "# l1=[1,2,3]\n",
    "# l2=[10,20,30]\n",
    "# o=[11,22,33]\n",
    "\n",
    "\n",
    "\n",
    "# l1=[1,2,3]\n",
    "# l2=[10,20,30,40]\n",
    "# o=[11,22,33,40]\n",
    "\n",
    "# l1=[1,2,3,4]\n",
    "# l2=[10,20,30]\n",
    "# o=[11,22,33,4]"
   ]
  },
  {
   "cell_type": "markdown",
   "id": "6c9f6c29",
   "metadata": {},
   "source": [
    "# methods"
   ]
  },
  {
   "cell_type": "code",
   "execution_count": 45,
   "id": "316bc53a",
   "metadata": {},
   "outputs": [
    {
     "data": {
      "text/plain": [
       "['__add__',\n",
       " '__class__',\n",
       " '__class_getitem__',\n",
       " '__contains__',\n",
       " '__delattr__',\n",
       " '__delitem__',\n",
       " '__dir__',\n",
       " '__doc__',\n",
       " '__eq__',\n",
       " '__format__',\n",
       " '__ge__',\n",
       " '__getattribute__',\n",
       " '__getitem__',\n",
       " '__getstate__',\n",
       " '__gt__',\n",
       " '__hash__',\n",
       " '__iadd__',\n",
       " '__imul__',\n",
       " '__init__',\n",
       " '__init_subclass__',\n",
       " '__iter__',\n",
       " '__le__',\n",
       " '__len__',\n",
       " '__lt__',\n",
       " '__mul__',\n",
       " '__ne__',\n",
       " '__new__',\n",
       " '__reduce__',\n",
       " '__reduce_ex__',\n",
       " '__repr__',\n",
       " '__reversed__',\n",
       " '__rmul__',\n",
       " '__setattr__',\n",
       " '__setitem__',\n",
       " '__sizeof__',\n",
       " '__str__',\n",
       " '__subclasshook__',\n",
       " 'append',\n",
       " 'clear',\n",
       " 'copy',\n",
       " 'count',\n",
       " 'extend',\n",
       " 'index',\n",
       " 'insert',\n",
       " 'pop',\n",
       " 'remove',\n",
       " 'reverse',\n",
       " 'sort']"
      ]
     },
     "execution_count": 45,
     "metadata": {},
     "output_type": "execute_result"
    }
   ],
   "source": [
    "dir([])"
   ]
  },
  {
   "cell_type": "code",
   "execution_count": null,
   "id": "9d3cc290",
   "metadata": {},
   "outputs": [],
   "source": [
    "'append',\n",
    "'clear',\n",
    "'copy',\n",
    "'count',\n",
    "'extend',\n",
    "'index',\n",
    "'insert',\n",
    "'pop',\n",
    "'remove',\n",
    "'reverse',\n",
    "'sort'"
   ]
  },
  {
   "cell_type": "markdown",
   "id": "8e242541",
   "metadata": {},
   "source": [
    "# Append\n",
    "\n",
    "- append means adding a number at the end of the list\n",
    "\n",
    "- append is a very basic method we will use many times in our code\n",
    "\n",
    "- append will use mainly to store the result\n",
    "\n",
    "- append the values overwrite"
   ]
  },
  {
   "cell_type": "code",
   "execution_count": 12,
   "id": "6f3d9ebe",
   "metadata": {},
   "outputs": [
    {
     "ename": "TypeError",
     "evalue": "list indices must be integers or slices, not str",
     "output_type": "error",
     "traceback": [
      "\u001b[1;31m---------------------------------------------------------------------------\u001b[0m",
      "\u001b[1;31mTypeError\u001b[0m                                 Traceback (most recent call last)",
      "Cell \u001b[1;32mIn[12], line 2\u001b[0m\n\u001b[0;32m      1\u001b[0m number\u001b[38;5;241m=\u001b[39m[\u001b[38;5;124m'\u001b[39m\u001b[38;5;124mone\u001b[39m\u001b[38;5;124m'\u001b[39m,\u001b[38;5;124m'\u001b[39m\u001b[38;5;124mtwo\u001b[39m\u001b[38;5;124m'\u001b[39m,\u001b[38;5;124m'\u001b[39m\u001b[38;5;124mthree\u001b[39m\u001b[38;5;124m'\u001b[39m,\u001b[38;5;124m'\u001b[39m\u001b[38;5;124mfour\u001b[39m\u001b[38;5;124m'\u001b[39m,\u001b[38;5;124m'\u001b[39m\u001b[38;5;124mfive\u001b[39m\u001b[38;5;124m'\u001b[39m]\n\u001b[1;32m----> 2\u001b[0m number[\u001b[38;5;124m'\u001b[39m\u001b[38;5;124mfour\u001b[39m\u001b[38;5;124m'\u001b[39m]\n",
      "\u001b[1;31mTypeError\u001b[0m: list indices must be integers or slices, not str"
     ]
    }
   ],
   "source": [
    "number=['one','two','three','four','five']\n",
    "number['four']"
   ]
  },
  {
   "cell_type": "code",
   "execution_count": 13,
   "id": "6b6db595",
   "metadata": {},
   "outputs": [
    {
     "data": {
      "text/plain": [
       "'four'"
      ]
     },
     "execution_count": 13,
     "metadata": {},
     "output_type": "execute_result"
    }
   ],
   "source": [
    "number[3]"
   ]
  },
  {
   "cell_type": "code",
   "execution_count": 14,
   "id": "3cd6ce1b",
   "metadata": {},
   "outputs": [
    {
     "data": {
      "text/plain": [
       "[1, 2, 3, 4, 100]"
      ]
     },
     "execution_count": 14,
     "metadata": {},
     "output_type": "execute_result"
    }
   ],
   "source": [
    "l=[1,2,3,4]\n",
    "l.append(100)\n",
    "l"
   ]
  },
  {
   "cell_type": "code",
   "execution_count": null,
   "id": "10b26c2a",
   "metadata": {},
   "outputs": [],
   "source": [
    "l=[1,2,3,4]"
   ]
  },
  {
   "cell_type": "code",
   "execution_count": 16,
   "id": "f6c69d92",
   "metadata": {},
   "outputs": [
    {
     "data": {
      "text/plain": [
       "[1, 2, 3, 4, 100, 100, 100]"
      ]
     },
     "execution_count": 16,
     "metadata": {},
     "output_type": "execute_result"
    }
   ],
   "source": [
    "l.append(100)\n",
    "l"
   ]
  },
  {
   "cell_type": "code",
   "execution_count": 18,
   "id": "1cadb1af",
   "metadata": {},
   "outputs": [
    {
     "data": {
      "text/plain": [
       "[10, 'apple']"
      ]
     },
     "execution_count": 18,
     "metadata": {},
     "output_type": "execute_result"
    }
   ],
   "source": [
    "l=[]\n",
    "l.append(10)\n",
    "l.append('apple')\n",
    "l"
   ]
  },
  {
   "cell_type": "code",
   "execution_count": 24,
   "id": "9b350292",
   "metadata": {},
   "outputs": [
    {
     "data": {
      "text/plain": [
       "(' ', ' p')"
      ]
     },
     "execution_count": 24,
     "metadata": {},
     "output_type": "execute_result"
    }
   ],
   "source": [
    "s=' '\n",
    "s1=s+'p'\n",
    "s,s1"
   ]
  },
  {
   "cell_type": "code",
   "execution_count": null,
   "id": "b59f5727",
   "metadata": {},
   "outputs": [],
   "source": [
    "# 1 wap ask the uiser print first 1 to 5 numbers  squer\n",
    "#   save the result in a list"
   ]
  },
  {
   "cell_type": "code",
   "execution_count": 18,
   "id": "34ab6992",
   "metadata": {},
   "outputs": [],
   "source": [
    "l=[]\n",
    "for i in range(1,6):\n",
    "    l.append(i*i)"
   ]
  },
  {
   "cell_type": "code",
   "execution_count": 19,
   "id": "e9eb3cb1",
   "metadata": {},
   "outputs": [
    {
     "data": {
      "text/plain": [
       "[1, 4, 9, 16, 25]"
      ]
     },
     "execution_count": 19,
     "metadata": {},
     "output_type": "execute_result"
    }
   ],
   "source": [
    "l"
   ]
  },
  {
   "cell_type": "code",
   "execution_count": null,
   "id": "568fbdea",
   "metadata": {},
   "outputs": [],
   "source": [
    "#Q2) the list =['Hyd','blr','Chennai','pune']\n",
    "#  out= ['Hyd','Chennai']\n",
    "\n",
    "# is title\n",
    "#step-1:make in empty list\n",
    "# step-2: iterate each ward from list\n",
    "# step-3: apply is title method if condition\n",
    "#step-4: if that condition is satisfy\n",
    "# step-5: then append the result  in empty list"
   ]
  },
  {
   "cell_type": "code",
   "execution_count": 34,
   "id": "b0cbdc5f",
   "metadata": {},
   "outputs": [
    {
     "data": {
      "text/plain": [
       "True"
      ]
     },
     "execution_count": 34,
     "metadata": {},
     "output_type": "execute_result"
    }
   ],
   "source": [
    "'Hyd'.istitle()"
   ]
  },
  {
   "cell_type": "code",
   "execution_count": 37,
   "id": "e1f9e346",
   "metadata": {},
   "outputs": [
    {
     "data": {
      "text/plain": [
       "['Hyd', 'Chennai']"
      ]
     },
     "execution_count": 37,
     "metadata": {},
     "output_type": "execute_result"
    }
   ],
   "source": [
    "l1=['Hyd','blr','Chennai','pune']\n",
    "out=[]\n",
    "for i in l1 :\n",
    "    if i .istitle():\n",
    "        out.append(i)\n",
    "out            "
   ]
  },
  {
   "cell_type": "code",
   "execution_count": null,
   "id": "06a8faf6",
   "metadata": {},
   "outputs": [],
   "source": [
    "# Q3)  the list =['Hyd','blr','Chennai','pune']\n",
    "#  out= ['Hyd','Chennai']\n"
   ]
  },
  {
   "cell_type": "code",
   "execution_count": 40,
   "id": "e391d4c5",
   "metadata": {},
   "outputs": [
    {
     "data": {
      "text/plain": [
       "['HYD', 'PUNNE']"
      ]
     },
     "execution_count": 40,
     "metadata": {},
     "output_type": "execute_result"
    }
   ],
   "source": [
    "dir=('HYD','blr','Chennai','PUNNE')\n",
    "out=[]\n",
    "for i in dir:\n",
    "    if i.isupper():\n",
    "        out.append(i)\n",
    "out        \n"
   ]
  },
  {
   "cell_type": "code",
   "execution_count": null,
   "id": "9fffa546",
   "metadata": {},
   "outputs": [],
   "source": [
    " # Q3) the list =['Hyd','bl#r','Che#nnai','pune']\n",
    "#  out= ['bl#r','Che#nnai']\n"
   ]
  },
  {
   "cell_type": "code",
   "execution_count": 44,
   "id": "b9c35686",
   "metadata": {},
   "outputs": [
    {
     "data": {
      "text/plain": [
       "['bl#r', 'Che#nnai']"
      ]
     },
     "execution_count": 44,
     "metadata": {},
     "output_type": "execute_result"
    }
   ],
   "source": [
    "l1=['Hyd','bl#r','Che#nnai','pune']\n",
    "out=[]\n",
    "for i in l1:\n",
    "    if '#' in i:\n",
    "        out.append(i)\n",
    "out        "
   ]
  },
  {
   "cell_type": "code",
   "execution_count": null,
   "id": "0465e184",
   "metadata": {},
   "outputs": [],
   "source": [
    "#Q5) the list =['HYD','blr','Chennai','PUNNE']\n",
    "#  out= ['Chennai']\n",
    "# >4"
   ]
  },
  {
   "cell_type": "code",
   "execution_count": 45,
   "id": "8f879c17",
   "metadata": {},
   "outputs": [
    {
     "data": {
      "text/plain": [
       "['Chennai', 'PUNNE']"
      ]
     },
     "execution_count": 45,
     "metadata": {},
     "output_type": "execute_result"
    }
   ],
   "source": [
    "l1=['HYD','blr','Chennai','PUNNE']\n",
    "out=[]\n",
    "for i in l1:\n",
    "    if len(i)>4:\n",
    "        out. append(i)\n",
    "out        \n",
    "        "
   ]
  },
  {
   "cell_type": "code",
   "execution_count": null,
   "id": "729e1de1",
   "metadata": {},
   "outputs": [],
   "source": [
    "#Q6)' can canner can not a can but canner can you make a can'\n",
    "# find out the each word how main times repeated\n",
    "\n",
    "#step-1: spilt it\n",
    "#step-2: itaretive it\n",
    "#step-3: we have count methode( count shuold not use)"
   ]
  },
  {
   "cell_type": "code",
   "execution_count": 98,
   "id": "532ac494",
   "metadata": {},
   "outputs": [
    {
     "name": "stdout",
     "output_type": "stream",
     "text": [
      "can 1\n",
      "can 1\n",
      "can 2\n",
      "can 2\n",
      "can 2\n",
      "can 3\n",
      "can 3\n",
      "can 3\n",
      "can 4\n",
      "can 4\n",
      "can 4\n",
      "can 4\n",
      "can 5\n",
      "canner 0\n",
      "canner 1\n",
      "canner 1\n",
      "canner 1\n",
      "canner 1\n",
      "canner 1\n",
      "canner 1\n",
      "canner 2\n",
      "canner 2\n",
      "canner 2\n",
      "canner 2\n",
      "canner 2\n",
      "canner 2\n",
      "can 1\n",
      "can 1\n",
      "can 2\n",
      "can 2\n",
      "can 2\n",
      "can 3\n",
      "can 3\n",
      "can 3\n",
      "can 4\n",
      "can 4\n",
      "can 4\n",
      "can 4\n",
      "can 5\n",
      "not 0\n",
      "not 0\n",
      "not 0\n",
      "not 1\n",
      "not 1\n",
      "not 1\n",
      "not 1\n",
      "not 1\n",
      "not 1\n",
      "not 1\n",
      "not 1\n",
      "not 1\n",
      "not 1\n",
      "a 0\n",
      "a 0\n",
      "a 0\n",
      "a 0\n",
      "a 1\n",
      "a 1\n",
      "a 1\n",
      "a 1\n",
      "a 1\n",
      "a 1\n",
      "a 1\n",
      "a 2\n",
      "a 2\n",
      "can 1\n",
      "can 1\n",
      "can 2\n",
      "can 2\n",
      "can 2\n",
      "can 3\n",
      "can 3\n",
      "can 3\n",
      "can 4\n",
      "can 4\n",
      "can 4\n",
      "can 4\n",
      "can 5\n",
      "but 0\n",
      "but 0\n",
      "but 0\n",
      "but 0\n",
      "but 0\n",
      "but 0\n",
      "but 1\n",
      "but 1\n",
      "but 1\n",
      "but 1\n",
      "but 1\n",
      "but 1\n",
      "but 1\n",
      "canner 0\n",
      "canner 1\n",
      "canner 1\n",
      "canner 1\n",
      "canner 1\n",
      "canner 1\n",
      "canner 1\n",
      "canner 2\n",
      "canner 2\n",
      "canner 2\n",
      "canner 2\n",
      "canner 2\n",
      "canner 2\n",
      "can 1\n",
      "can 1\n",
      "can 2\n",
      "can 2\n",
      "can 2\n",
      "can 3\n",
      "can 3\n",
      "can 3\n",
      "can 4\n",
      "can 4\n",
      "can 4\n",
      "can 4\n",
      "can 5\n",
      "you 0\n",
      "you 0\n",
      "you 0\n",
      "you 0\n",
      "you 0\n",
      "you 0\n",
      "you 0\n",
      "you 0\n",
      "you 0\n",
      "you 1\n",
      "you 1\n",
      "you 1\n",
      "you 1\n",
      "make 0\n",
      "make 0\n",
      "make 0\n",
      "make 0\n",
      "make 0\n",
      "make 0\n",
      "make 0\n",
      "make 0\n",
      "make 0\n",
      "make 0\n",
      "make 1\n",
      "make 1\n",
      "make 1\n",
      "a 0\n",
      "a 0\n",
      "a 0\n",
      "a 0\n",
      "a 1\n",
      "a 1\n",
      "a 1\n",
      "a 1\n",
      "a 1\n",
      "a 1\n",
      "a 1\n",
      "a 2\n",
      "a 2\n",
      "can 1\n",
      "can 1\n",
      "can 2\n",
      "can 2\n",
      "can 2\n",
      "can 3\n",
      "can 3\n",
      "can 3\n",
      "can 4\n",
      "can 4\n",
      "can 4\n",
      "can 4\n",
      "can 5\n"
     ]
    }
   ],
   "source": [
    "s='can canner can not a can but canner can you make a can'\n",
    "l=s.split()\n",
    "for i in l:\n",
    "    count=0\n",
    "    for j in l:\n",
    "        if i==j:\n",
    "            count=count+1\n",
    "        print(i,count)"
   ]
  },
  {
   "cell_type": "code",
   "execution_count": 101,
   "id": "a33638fe",
   "metadata": {},
   "outputs": [
    {
     "name": "stdout",
     "output_type": "stream",
     "text": [
      "repeted times is  can is: 5\n",
      "repeted times is  canner is: 2\n",
      "repeted times is  not is: 1\n",
      "repeted times is  a is: 2\n",
      "repeted times is  but is: 1\n",
      "repeted times is  you is: 1\n",
      "repeted times is  make is: 1\n"
     ]
    }
   ],
   "source": [
    "str='can canner can not a can but canner can you make a can'\n",
    "str=str.split()\n",
    "str1=[]\n",
    "for i in str:\n",
    "    if i not in str1:\n",
    "        str1.append(i)\n",
    "for i in range(0,len(str1)):\n",
    "    print('repeted times is ',str1[i],'is:',str.count(str1[i]))"
   ]
  },
  {
   "cell_type": "code",
   "execution_count": 69,
   "id": "7311e496",
   "metadata": {},
   "outputs": [],
   "source": [
    "#Q7) wap ask the user get the even and odd numbers\n",
    "# you want 5 numbers\n",
    "# 5 numbers  randemly\n",
    "# even list and odd list\n",
    "# append the even numbers  s even list\n",
    "# append the odd nubers  is odd list"
   ]
  },
  {
   "cell_type": "code",
   "execution_count": 83,
   "id": "f04a7ab3",
   "metadata": {},
   "outputs": [
    {
     "name": "stdout",
     "output_type": "stream",
     "text": [
      "even: [50, 92, 60]\n",
      "odd: [60]\n"
     ]
    }
   ],
   "source": [
    "import random\n",
    "even_list=[]\n",
    "odd_list=[]\n",
    "for i in range(1,6):\n",
    "    num=random.randint(1,100)\n",
    "    if num%2==0:\n",
    "        even_list.append(num)\n",
    "else:\n",
    "    odd_list.append(num)\n",
    "print('even:',even_list)\n",
    "print('odd:', odd_list)"
   ]
  },
  {
   "cell_type": "code",
   "execution_count": null,
   "id": "1e336860",
   "metadata": {},
   "outputs": [],
   "source": [
    "'clear',\n",
    " 'copy',\n",
    " 'count',\n",
    " 'extend',\n",
    " 'index',"
   ]
  },
  {
   "cell_type": "markdown",
   "id": "58777170",
   "metadata": {},
   "source": [
    "***clear***"
   ]
  },
  {
   "cell_type": "code",
   "execution_count": 71,
   "id": "52e0e171",
   "metadata": {},
   "outputs": [
    {
     "data": {
      "text/plain": [
       "[]"
      ]
     },
     "execution_count": 71,
     "metadata": {},
     "output_type": "execute_result"
    }
   ],
   "source": [
    "l1=[10,20,'apple','banana']\n",
    "l1.clear()\n",
    "l1"
   ]
  },
  {
   "cell_type": "markdown",
   "id": "9efae0e2",
   "metadata": {},
   "source": [
    "***copy***"
   ]
  },
  {
   "cell_type": "code",
   "execution_count": 72,
   "id": "43e97f3d",
   "metadata": {},
   "outputs": [
    {
     "data": {
      "text/plain": [
       "['apple', 'banana']"
      ]
     },
     "execution_count": 72,
     "metadata": {},
     "output_type": "execute_result"
    }
   ],
   "source": [
    "l1=['apple','banana']\n",
    "l1.copy()\n",
    "l1"
   ]
  },
  {
   "cell_type": "markdown",
   "id": "c85a0be0",
   "metadata": {},
   "source": [
    "***count***"
   ]
  },
  {
   "cell_type": "code",
   "execution_count": 73,
   "id": "0b522db7",
   "metadata": {},
   "outputs": [
    {
     "data": {
      "text/plain": [
       "[1, 2, 1, 2, 3]"
      ]
     },
     "execution_count": 73,
     "metadata": {},
     "output_type": "execute_result"
    }
   ],
   "source": [
    "l1=[1,2,1,2,3]\n",
    "l1.count(2)\n",
    "l1"
   ]
  },
  {
   "cell_type": "markdown",
   "id": "9c5d3176",
   "metadata": {},
   "source": [
    "***extend***"
   ]
  },
  {
   "cell_type": "code",
   "execution_count": 74,
   "id": "930409b2",
   "metadata": {},
   "outputs": [
    {
     "data": {
      "text/plain": [
       "[10, 20, 30, 'b', 'a', 'n', 'a', 'n', 'a', 'a', 'p', 'p', 'l', 'e']"
      ]
     },
     "execution_count": 74,
     "metadata": {},
     "output_type": "execute_result"
    }
   ],
   "source": [
    "l1=[10,20,30]\n",
    "l1.extend('banana')\n",
    "l1.extend('apple')\n",
    "l1"
   ]
  },
  {
   "cell_type": "markdown",
   "id": "93c7b7ef",
   "metadata": {},
   "source": [
    "***index***"
   ]
  },
  {
   "cell_type": "code",
   "execution_count": 1,
   "id": "3697514f",
   "metadata": {},
   "outputs": [
    {
     "data": {
      "text/plain": [
       "2"
      ]
     },
     "execution_count": 1,
     "metadata": {},
     "output_type": "execute_result"
    }
   ],
   "source": [
    "l1=['apple','banana','cherry','mango']\n",
    "l1=l1.index('cherry')\n",
    "l1"
   ]
  },
  {
   "cell_type": "code",
   "execution_count": null,
   "id": "72b2a60b",
   "metadata": {},
   "outputs": [],
   "source": [
    "# l=['apple','cat','dog','ball']\n",
    "# sort it with out sort method\n",
    "\n",
    "\n",
    "# l=[10,15,2,25,89]\n",
    "#  find the maximum word find the minumum word\n",
    "\n",
    "\n",
    "l1=[1,2,3,4]\n",
    "l2=[10,20,30,40]\n",
    "out=[11,22,33,44]\n",
    "\n",
    "\n",
    "\n",
    "l1=[1,2,3,4,5]\n",
    "l2=[10,20,30,40]\n",
    "out=[11,22,33,44,5]\n",
    "\n",
    "\n",
    "s='hello hoe are you im good at python in naresh it'\n",
    "find the maxmum  length of word\n",
    "find the minimum length of word\n",
    "find the most repeted word"
   ]
  },
  {
   "cell_type": "markdown",
   "id": "fb7820da",
   "metadata": {},
   "source": [
    "***list comprehensions***"
   ]
  },
  {
   "cell_type": "code",
   "execution_count": 14,
   "id": "33c60b5b",
   "metadata": {},
   "outputs": [],
   "source": [
    "# 1 wap ask the uiser print first 1 to 5 numbers  squer\n",
    "#   save the result in a list\n",
    "\n",
    "l=[]\n",
    "for i in range(1,6):\n",
    "    l.append(i*i)"
   ]
  },
  {
   "cell_type": "markdown",
   "id": "188df115",
   "metadata": {},
   "source": [
    "$pettern-1$\n",
    "\n",
    "**only for loop**"
   ]
  },
  {
   "cell_type": "code",
   "execution_count": null,
   "id": "c562102e",
   "metadata": {},
   "outputs": [],
   "source": [
    "# syntax\n",
    "\n",
    "l=[<output> <forloop>]"
   ]
  },
  {
   "cell_type": "code",
   "execution_count": 16,
   "id": "7142daab",
   "metadata": {},
   "outputs": [],
   "source": [
    "l=[]\n",
    "for i in range(1,6):\n",
    "    l.append(i*i)\n",
    "    \n",
    "l1=[i*i for i in range(1,6)]    "
   ]
  },
  {
   "cell_type": "code",
   "execution_count": 18,
   "id": "e8ef0289",
   "metadata": {},
   "outputs": [
    {
     "data": {
      "text/plain": [
       "[1, 4, 9, 16, 25]"
      ]
     },
     "execution_count": 18,
     "metadata": {},
     "output_type": "execute_result"
    }
   ],
   "source": [
    "l1"
   ]
  },
  {
   "cell_type": "code",
   "execution_count": null,
   "id": "032d9eb6",
   "metadata": {},
   "outputs": [],
   "source": [
    "# wap ask the user say 5 times hello\n",
    "# save hello in list \n",
    "# use list comprehensions"
   ]
  },
  {
   "cell_type": "code",
   "execution_count": 21,
   "id": "23ad2b55",
   "metadata": {},
   "outputs": [
    {
     "data": {
      "text/plain": [
       "['hello', 'hello', 'hello', 'hello', 'hello']"
      ]
     },
     "execution_count": 21,
     "metadata": {},
     "output_type": "execute_result"
    }
   ],
   "source": [
    "['hello' for i in range(5)]    "
   ]
  },
  {
   "cell_type": "markdown",
   "id": "0eba9d37",
   "metadata": {},
   "source": [
    "**for loop with if condition**"
   ]
  },
  {
   "cell_type": "code",
   "execution_count": null,
   "id": "be926efa",
   "metadata": {},
   "outputs": [],
   "source": [
    "[<output>_<forloop>_<if condition>]"
   ]
  },
  {
   "cell_type": "code",
   "execution_count": 29,
   "id": "1d80cb84",
   "metadata": {},
   "outputs": [
    {
     "data": {
      "text/plain": [
       "['Hyd']"
      ]
     },
     "execution_count": 29,
     "metadata": {},
     "output_type": "execute_result"
    }
   ],
   "source": [
    "#Q2) the list =['Hyd','blr','Chennai','pune']\n",
    "#  out= ['Hyd','Chennai']\n",
    "\n",
    "# is title\n",
    "#step-1:make in empty list\n",
    "# step-2: iterate each ward from list\n",
    "# step-3: apply is title method if condition\n",
    "#step-4: if that condition is satisfy\n",
    "# step-5: then append the result  in empty list\n",
    "\n",
    "\n",
    "\n",
    "\n",
    "# [<output>_<forloop>_<if condition>]\n",
    "l1=['Hyd','blr','Chennai','pune']\n",
    "out=[i for i in l if i.istitle()]\n",
    "out"
   ]
  },
  {
   "cell_type": "code",
   "execution_count": 27,
   "id": "c9394932",
   "metadata": {},
   "outputs": [
    {
     "data": {
      "text/plain": [
       "['Hyd']"
      ]
     },
     "execution_count": 27,
     "metadata": {},
     "output_type": "execute_result"
    }
   ],
   "source": [
    "l=['Hyd','blr','chennai','pune']\n",
    "out=[i for i in l if i.istitle()]\n",
    "out"
   ]
  },
  {
   "cell_type": "code",
   "execution_count": null,
   "id": "2dd0f531",
   "metadata": {},
   "outputs": [],
   "source": [
    " # Q3) the list =['Hyd','bl#r','Che#nnai','pune']\n",
    "#  out= ['bl#r','Che#nnai']\n",
    "\n",
    "\n",
    "\n",
    "l1=['Hyd','bl#r','Che#nnai','pune']\n",
    "out=[]\n",
    "for i in l1:\n",
    "    if '#' in i:\n",
    "        out.append(i)\n",
    "out        "
   ]
  },
  {
   "cell_type": "code",
   "execution_count": 32,
   "id": "bb619456",
   "metadata": {},
   "outputs": [
    {
     "data": {
      "text/plain": [
       "['bl#r', 'Che#nnai']"
      ]
     },
     "execution_count": 32,
     "metadata": {},
     "output_type": "execute_result"
    }
   ],
   "source": [
    "l=['Hyd','bl#r','Che#nnai','pune']\n",
    "out=[i for i in l if '#' in i]\n",
    "out"
   ]
  },
  {
   "cell_type": "markdown",
   "id": "c3d7dc19",
   "metadata": {},
   "source": [
    "**for-if-else**\n"
   ]
  },
  {
   "cell_type": "code",
   "execution_count": 36,
   "id": "2f46aecd",
   "metadata": {},
   "outputs": [
    {
     "data": {
      "text/plain": [
       "['odd 1',\n",
       " 'even 2',\n",
       " 'odd 3',\n",
       " 'even 4',\n",
       " 'odd 5',\n",
       " 'even 6',\n",
       " 'odd 7',\n",
       " 'even 8',\n",
       " 'odd 9',\n",
       " 'even 10']"
      ]
     },
     "execution_count": 36,
     "metadata": {},
     "output_type": "execute_result"
    }
   ],
   "source": [
    "#[<if out_put> <if condition> <else> <else_output> <forloop>]\n",
    "out=[]\n",
    "for i in range(1,11):\n",
    "    if i%2==0:\n",
    "        out.append(f'even {i}')\n",
    "    else:\n",
    "        out.append(f'odd {i}')\n",
    "out        "
   ]
  },
  {
   "cell_type": "code",
   "execution_count": 43,
   "id": "b1f7830c",
   "metadata": {},
   "outputs": [
    {
     "data": {
      "text/plain": [
       "['odd1',\n",
       " 'even2',\n",
       " 'odd3',\n",
       " 'even4',\n",
       " 'odd5',\n",
       " 'even6',\n",
       " 'odd7',\n",
       " 'even8',\n",
       " 'odd9',\n",
       " 'even10']"
      ]
     },
     "execution_count": 43,
     "metadata": {},
     "output_type": "execute_result"
    }
   ],
   "source": [
    "[f'even{i}' if i%2==0 else f'odd{i}' for i in range(1,11)]\n",
    "   "
   ]
  },
  {
   "cell_type": "code",
   "execution_count": 47,
   "id": "cfd4695c",
   "metadata": {},
   "outputs": [
    {
     "data": {
      "text/plain": [
       "['__add__',\n",
       " '__class__',\n",
       " '__class_getitem__',\n",
       " '__contains__',\n",
       " '__delattr__',\n",
       " '__delitem__',\n",
       " '__dir__',\n",
       " '__doc__',\n",
       " '__eq__',\n",
       " '__format__',\n",
       " '__ge__',\n",
       " '__getattribute__',\n",
       " '__getitem__',\n",
       " '__getstate__',\n",
       " '__gt__',\n",
       " '__hash__',\n",
       " '__iadd__',\n",
       " '__imul__',\n",
       " '__init__',\n",
       " '__init_subclass__',\n",
       " '__iter__',\n",
       " '__le__',\n",
       " '__len__',\n",
       " '__lt__',\n",
       " '__mul__',\n",
       " '__ne__',\n",
       " '__new__',\n",
       " '__reduce__',\n",
       " '__reduce_ex__',\n",
       " '__repr__',\n",
       " '__reversed__',\n",
       " '__rmul__',\n",
       " '__setattr__',\n",
       " '__setitem__',\n",
       " '__sizeof__',\n",
       " '__str__',\n",
       " '__subclasshook__',\n",
       " 'append',\n",
       " 'clear',\n",
       " 'copy',\n",
       " 'count',\n",
       " 'extend',\n",
       " 'index',\n",
       " 'insert',\n",
       " 'pop',\n",
       " 'remove',\n",
       " 'reverse',\n",
       " 'sort']"
      ]
     },
     "execution_count": 47,
     "metadata": {},
     "output_type": "execute_result"
    }
   ],
   "source": [
    "dir([])"
   ]
  },
  {
   "cell_type": "markdown",
   "id": "be813923",
   "metadata": {},
   "source": [
    "**count**"
   ]
  },
  {
   "cell_type": "code",
   "execution_count": 48,
   "id": "f781d275",
   "metadata": {},
   "outputs": [
    {
     "data": {
      "text/plain": [
       "3"
      ]
     },
     "execution_count": 48,
     "metadata": {},
     "output_type": "execute_result"
    }
   ],
   "source": [
    "l=[10,10,10,100,200,300]\n",
    "l.count(10)"
   ]
  },
  {
   "cell_type": "code",
   "execution_count": null,
   "id": "767a8944",
   "metadata": {},
   "outputs": [],
   "source": [
    "# can canner can not a can but canner can you make a can'\n",
    "# find out the each word how main times repeated\n",
    "\n",
    "#step-1: spilt it"
   ]
  },
  {
   "cell_type": "code",
   "execution_count": 90,
   "id": "fc838063",
   "metadata": {},
   "outputs": [
    {
     "name": "stdout",
     "output_type": "stream",
     "text": [
      "can 5\n",
      "canner 2\n",
      "not 1\n",
      "a 2\n",
      "but 1\n",
      "you 1\n",
      "make 1\n"
     ]
    }
   ],
   "source": [
    "s='can canner can not a can but canner can you make a can'\n",
    "l=s.split()\n",
    "l1=[]\n",
    "for i in l:\n",
    "    if i not in l1:\n",
    "        print(i,l.count(i))\n",
    "    l1.append(i)\n",
    "    \n",
    "# step-1: 'i=can' if 'can' not in l1 True  print ('can,5' ) l1=('can')\n",
    "#step-3 : i='can' if ' can' not in l1 False  "
   ]
  },
  {
   "cell_type": "markdown",
   "id": "ca03d19f",
   "metadata": {},
   "source": [
    "**extend**"
   ]
  },
  {
   "cell_type": "code",
   "execution_count": 70,
   "id": "cd0af2e1",
   "metadata": {},
   "outputs": [
    {
     "data": {
      "text/plain": [
       "['a', 'b', 'c', 'd', 1, 2, 3, 4]"
      ]
     },
     "execution_count": 70,
     "metadata": {},
     "output_type": "execute_result"
    }
   ],
   "source": [
    "l1=[1,2,3,4]\n",
    "l2=['a','b','c','d']\n",
    "l2.extend(l1)\n",
    "l2"
   ]
  },
  {
   "cell_type": "code",
   "execution_count": null,
   "id": "9192587d",
   "metadata": {},
   "outputs": [],
   "source": [
    "l1=[1,2,3]\n",
    "l2=['a','b','c','d']\n",
    "l1.extend(l2)  #[1,2,3,a,b,c,d]\n",
    "l1=append(l2)  #(1,2,3,[a,b,c])\n",
    "l1+l2 "
   ]
  },
  {
   "cell_type": "markdown",
   "id": "17247670",
   "metadata": {},
   "source": [
    "**differnce between extend and concatenation**\n",
    "\n",
    "- extend will overwrite the output\n",
    "\n",
    "- cancatenmation will same as it is"
   ]
  },
  {
   "cell_type": "code",
   "execution_count": null,
   "id": "16dbb2b1",
   "metadata": {},
   "outputs": [],
   "source": [
    "'insert'\n",
    "'pop'\n",
    "'remove'"
   ]
  },
  {
   "cell_type": "code",
   "execution_count": 71,
   "id": "fe812241",
   "metadata": {},
   "outputs": [
    {
     "data": {
      "text/plain": [
       "[1, 2, 3, 4, 100]"
      ]
     },
     "execution_count": 71,
     "metadata": {},
     "output_type": "execute_result"
    }
   ],
   "source": [
    "l=[1,2,3,4]\n",
    "l.append(100)\n",
    "l"
   ]
  },
  {
   "cell_type": "code",
   "execution_count": 73,
   "id": "18d4587e",
   "metadata": {},
   "outputs": [
    {
     "data": {
      "text/plain": [
       "[1, 2, 3, 100, 4]"
      ]
     },
     "execution_count": 73,
     "metadata": {},
     "output_type": "execute_result"
    }
   ],
   "source": [
    "l=[1,2,3,4]\n",
    "l.insert(3,100)\n",
    "l\n",
    "\n",
    "# at same index i want insert 100"
   ]
  },
  {
   "cell_type": "code",
   "execution_count": null,
   "id": "19383e69",
   "metadata": {},
   "outputs": [],
   "source": [
    "# cancatenation\n",
    "# extend\n",
    "# append\n",
    "# insert\n"
   ]
  },
  {
   "cell_type": "code",
   "execution_count": 74,
   "id": "db9e04ec",
   "metadata": {},
   "outputs": [
    {
     "data": {
      "text/plain": [
       "[1, 4, 7, 10, 'apple', 13, 16, 19]"
      ]
     },
     "execution_count": 74,
     "metadata": {},
     "output_type": "execute_result"
    }
   ],
   "source": [
    "l=[i for i in range(1,20,3)]\n",
    "l\n",
    "\n",
    "# i want insert 'apple'after 10\n",
    "# after 10 mean index=4\n",
    "# we should not count it\n",
    "# autometically the index value should come\n",
    "index=l.index(10)\n",
    "l.insert(index+1,'apple')\n",
    "l"
   ]
  },
  {
   "cell_type": "code",
   "execution_count": 75,
   "id": "7e17428c",
   "metadata": {},
   "outputs": [
    {
     "data": {
      "text/plain": [
       "3"
      ]
     },
     "execution_count": 75,
     "metadata": {},
     "output_type": "execute_result"
    }
   ],
   "source": [
    "l.index(10)"
   ]
  },
  {
   "cell_type": "markdown",
   "id": "df3ec13d",
   "metadata": {},
   "source": [
    "**pop-remove**"
   ]
  },
  {
   "cell_type": "code",
   "execution_count": 76,
   "id": "e8bc8334",
   "metadata": {},
   "outputs": [
    {
     "data": {
      "text/plain": [
       "'dog'"
      ]
     },
     "execution_count": 76,
     "metadata": {},
     "output_type": "execute_result"
    }
   ],
   "source": [
    "l=['apple','ball','cat',10,20,'dog']\n",
    "l.pop()"
   ]
  },
  {
   "cell_type": "markdown",
   "id": "f3456bfe",
   "metadata": {},
   "source": [
    "- pop will remove the last value\n",
    "\n",
    "- inside pop we have index argument\n",
    "\n",
    "- by default index=-1 , -1 means lest value\n",
    "\n",
    "- pop will remove the value, the out put will overwrite\n",
    "\n",
    "- pop also return the item value, which it ie removing"
   ]
  },
  {
   "cell_type": "code",
   "execution_count": 14,
   "id": "d63b5deb",
   "metadata": {
    "scrolled": true
   },
   "outputs": [
    {
     "data": {
      "text/plain": [
       "['apple', 'ball', 10, 20, 'dog']"
      ]
     },
     "execution_count": 14,
     "metadata": {},
     "output_type": "execute_result"
    }
   ],
   "source": [
    "l=['apple','ball','cat',10,20,'dog']\n",
    "l.pop(2)\n",
    "l"
   ]
  },
  {
   "cell_type": "code",
   "execution_count": 15,
   "id": "23d38f0e",
   "metadata": {},
   "outputs": [
    {
     "data": {
      "text/plain": [
       "['apple', 'ball', 10, 20, 'dog']"
      ]
     },
     "execution_count": 15,
     "metadata": {},
     "output_type": "execute_result"
    }
   ],
   "source": [
    "l=['apple','ball','cat',10,20,'dog']\n",
    "id=l.index('cat')\n",
    "l.pop(id)\n",
    "l"
   ]
  },
  {
   "cell_type": "code",
   "execution_count": null,
   "id": "b3412035",
   "metadata": {},
   "outputs": [],
   "source": [
    "l=['apple','ball','cat',10,20,'dog']\n",
    "l.pop()\n",
    "\n",
    "\n",
    "l=['apple','ball','cat',10,20,'dog']\n",
    "l.pop(2)\n",
    "l\n",
    "\n",
    "\n",
    "l=['apple','ball','cat',10,20,'dog']\n",
    "id=l.index('cat')\n",
    "l.pop(id)\n",
    "l"
   ]
  },
  {
   "cell_type": "markdown",
   "id": "f73d28dd",
   "metadata": {},
   "source": [
    "**remove**"
   ]
  },
  {
   "cell_type": "code",
   "execution_count": 16,
   "id": "2c6a5716",
   "metadata": {},
   "outputs": [
    {
     "data": {
      "text/plain": [
       "['ball', 'cat', 10, 20, 'dog']"
      ]
     },
     "execution_count": 16,
     "metadata": {},
     "output_type": "execute_result"
    }
   ],
   "source": [
    "l=['apple','ball','cat',10,20,'dog']\n",
    "l.remove('apple')\n",
    "l"
   ]
  },
  {
   "cell_type": "markdown",
   "id": "f32892bd",
   "metadata": {},
   "source": [
    "- remove will take the direct item name\n",
    "\n",
    "- pop will take only the index\n",
    "\n",
    "- both raise the error"
   ]
  },
  {
   "cell_type": "markdown",
   "id": "84050d28",
   "metadata": {},
   "source": [
    "- append\n",
    "\n",
    "- extend\n",
    "\n",
    "- insert\n",
    "\n",
    "- clear/copy\n",
    "\n",
    "- pop/remove\n",
    "\n",
    "- sort/reverse\n",
    "\n",
    "- index\n",
    "\n",
    "-  count"
   ]
  },
  {
   "cell_type": "markdown",
   "id": "c1fe4f41",
   "metadata": {},
   "source": [
    "***sorted-sort***"
   ]
  },
  {
   "cell_type": "code",
   "execution_count": 2,
   "id": "1ecc29a4",
   "metadata": {},
   "outputs": [
    {
     "data": {
      "text/plain": [
       "[2, 3, 4, 10]"
      ]
     },
     "execution_count": 2,
     "metadata": {},
     "output_type": "execute_result"
    }
   ],
   "source": [
    "sorted([10,2,3,4])"
   ]
  },
  {
   "cell_type": "code",
   "execution_count": 5,
   "id": "74bc25a8",
   "metadata": {},
   "outputs": [],
   "source": [
    "[10,2,3,4].sort()"
   ]
  },
  {
   "cell_type": "code",
   "execution_count": 7,
   "id": "7dca9176",
   "metadata": {},
   "outputs": [
    {
     "data": {
      "text/plain": [
       "<list_reverseiterator at 0x1abf52c79a0>"
      ]
     },
     "execution_count": 7,
     "metadata": {},
     "output_type": "execute_result"
    }
   ],
   "source": [
    "reversed([1,2,3])"
   ]
  },
  {
   "cell_type": "code",
   "execution_count": 6,
   "id": "765f02c8",
   "metadata": {},
   "outputs": [],
   "source": [
    "[1,2,3,4].reverse()"
   ]
  },
  {
   "cell_type": "code",
   "execution_count": 9,
   "id": "3bc91963",
   "metadata": {},
   "outputs": [
    {
     "data": {
      "text/plain": [
       "[4, 3, 2, 1]"
      ]
     },
     "execution_count": 9,
     "metadata": {},
     "output_type": "execute_result"
    }
   ],
   "source": [
    "l=[1,2,3,4]\n",
    "l.reverse()\n",
    "l"
   ]
  },
  {
   "cell_type": "code",
   "execution_count": null,
   "id": "d3b43c87",
   "metadata": {},
   "outputs": [],
   "source": [
    "l=[10,2,3,4]\n",
    "#sort is a method     # l.sort()\n",
    "# sorted is a keyword   # sorted(l)"
   ]
  },
  {
   "cell_type": "code",
   "execution_count": 10,
   "id": "91b6cb3e",
   "metadata": {},
   "outputs": [
    {
     "data": {
      "text/plain": [
       "[1, 2, 3, 4]"
      ]
     },
     "execution_count": 10,
     "metadata": {},
     "output_type": "execute_result"
    }
   ],
   "source": [
    "sorted(l)"
   ]
  },
  {
   "cell_type": "markdown",
   "id": "adf8ae8c",
   "metadata": {},
   "source": [
    "- key word are generic\n",
    "\n",
    "- sorted and reverse keyword can use for string and lists\n",
    "\n",
    "- every data type has its own methods\n",
    "\n",
    "- whenver you work on which data type you need to work on those methods only"
   ]
  },
  {
   "cell_type": "markdown",
   "id": "3bda8e15",
   "metadata": {},
   "source": [
    "***Del***"
   ]
  },
  {
   "cell_type": "code",
   "execution_count": 12,
   "id": "9479407b",
   "metadata": {},
   "outputs": [
    {
     "data": {
      "text/plain": [
       "[2, 3, 4]"
      ]
     },
     "execution_count": 12,
     "metadata": {},
     "output_type": "execute_result"
    }
   ],
   "source": [
    "l=[1,2,3,4]\n",
    "del(l[0])\n",
    "l"
   ]
  },
  {
   "cell_type": "code",
   "execution_count": 6,
   "id": "f1810e10",
   "metadata": {},
   "outputs": [
    {
     "data": {
      "text/plain": [
       "[1, 2, 4]"
      ]
     },
     "execution_count": 6,
     "metadata": {},
     "output_type": "execute_result"
    }
   ],
   "source": [
    "l=[1,2,3,4]\n",
    "del(l[2])\n",
    "l"
   ]
  },
  {
   "cell_type": "code",
   "execution_count": 7,
   "id": "b508aa0b",
   "metadata": {},
   "outputs": [
    {
     "data": {
      "text/plain": [
       "[1, 2, 4]"
      ]
     },
     "execution_count": 7,
     "metadata": {},
     "output_type": "execute_result"
    }
   ],
   "source": [
    "l"
   ]
  },
  {
   "cell_type": "markdown",
   "id": "e2f8d806",
   "metadata": {},
   "source": [
    "***zip***"
   ]
  },
  {
   "cell_type": "code",
   "execution_count": 19,
   "id": "043b44dd",
   "metadata": {},
   "outputs": [
    {
     "data": {
      "text/plain": [
       "[11, 14, 16]"
      ]
     },
     "execution_count": 19,
     "metadata": {},
     "output_type": "execute_result"
    }
   ],
   "source": [
    "l1=[1,2,3]\n",
    "l2=[10,12,13]\n",
    "\n",
    "# out=[11,14,16]\n",
    "\n",
    "out=[]\n",
    "for i in range(len(l1)):\n",
    "    l1[i]+l2[i]\n",
    "    out.append(l1[i]+l2[i])\n",
    "out    "
   ]
  },
  {
   "cell_type": "code",
   "execution_count": 24,
   "id": "de009777",
   "metadata": {},
   "outputs": [
    {
     "data": {
      "text/plain": [
       "[11, 14, 16]"
      ]
     },
     "execution_count": 24,
     "metadata": {},
     "output_type": "execute_result"
    }
   ],
   "source": [
    "# l1=[1,2,3]\n",
    "# l2=[10,12,13]\n",
    "# for i,j in zip(l1,l2):\n",
    "#    print(i+j)\n",
    "    \n",
    "out=[i+j for i,j in zip(l1,l2)]  \n",
    "out"
   ]
  },
  {
   "cell_type": "code",
   "execution_count": 25,
   "id": "7cb2e95c",
   "metadata": {},
   "outputs": [
    {
     "data": {
      "text/plain": [
       "tuple"
      ]
     },
     "execution_count": 25,
     "metadata": {},
     "output_type": "execute_result"
    }
   ],
   "source": [
    "# tupel\n",
    "l=(1,2)\n",
    "type(l)"
   ]
  },
  {
   "cell_type": "code",
   "execution_count": 30,
   "id": "c141f4ef",
   "metadata": {},
   "outputs": [
    {
     "data": {
      "text/plain": [
       "2"
      ]
     },
     "execution_count": 30,
     "metadata": {},
     "output_type": "execute_result"
    }
   ],
   "source": [
    "t=(1,2,3,4,4)\n",
    "t.count(4)\n"
   ]
  },
  {
   "cell_type": "code",
   "execution_count": null,
   "id": "0b6d9469",
   "metadata": {},
   "outputs": [],
   "source": []
  }
 ],
 "metadata": {
  "kernelspec": {
   "display_name": "Python 3 (ipykernel)",
   "language": "python",
   "name": "python3"
  },
  "language_info": {
   "codemirror_mode": {
    "name": "ipython",
    "version": 3
   },
   "file_extension": ".py",
   "mimetype": "text/x-python",
   "name": "python",
   "nbconvert_exporter": "python",
   "pygments_lexer": "ipython3",
   "version": "3.11.7"
  }
 },
 "nbformat": 4,
 "nbformat_minor": 5
}
