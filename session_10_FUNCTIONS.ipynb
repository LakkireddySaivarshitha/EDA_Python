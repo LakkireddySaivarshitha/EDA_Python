{
 "cells": [
  {
   "cell_type": "markdown",
   "id": "f41eed7a",
   "metadata": {},
   "source": [
    "**Functions**\n",
    "\n",
    "- reuse of the code\n",
    "\n",
    "- imagin you want to calvulete tax of all tax payers\n",
    "\n",
    "- suppose there are 100 tax payers there\n",
    "\n",
    "- in order to calculate tax we required 5 lines of code\n",
    "\n",
    "- for 100 tax payers it will required 500 lines\n",
    "\n",
    "- this is not the good apporach\n",
    "\n",
    "- because 5 lines we are repaeting for 100 members\n",
    "\n",
    "- Here functions will help us how to use only these 5 lines to all 100 tax"
   ]
  },
  {
   "cell_type": "code",
   "execution_count": 2,
   "id": "01078f65",
   "metadata": {},
   "outputs": [
    {
     "name": "stdout",
     "output_type": "stream",
     "text": [
      "enter the salary70000\n",
      "enter tax per:10\n",
      "the amount of tax pay is  7000.0\n"
     ]
    }
   ],
   "source": [
    "salary=eval(input(\"enter the salary\"))\n",
    "tax_per=eval(input(\"enter tax per:\"))\n",
    "tax_amount=salary*tax_per/100\n",
    "print(f\"the amount of tax pay is  {tax_amount}\")"
   ]
  },
  {
   "cell_type": "code",
   "execution_count": null,
   "id": "54365175",
   "metadata": {},
   "outputs": [],
   "source": [
    "# synatax\n",
    "\n",
    "# def<function_name>():\n",
    "\n",
    "#   <code starts here>\n"
   ]
  },
  {
   "cell_type": "code",
   "execution_count": 7,
   "id": "73cd4864",
   "metadata": {},
   "outputs": [
    {
     "name": "stdout",
     "output_type": "stream",
     "text": [
      "30\n"
     ]
    }
   ],
   "source": [
    "n1=10\n",
    "n2=20\n",
    "add=n1+n2\n",
    "print(add)"
   ]
  },
  {
   "cell_type": "code",
   "execution_count": 5,
   "id": "42d3d2ed",
   "metadata": {},
   "outputs": [],
   "source": [
    "def addition():\n",
    "    n1=10\n",
    "    n2=20\n",
    "    add=n1+n2\n",
    "    print(add)  "
   ]
  },
  {
   "cell_type": "code",
   "execution_count": 6,
   "id": "38c12808",
   "metadata": {},
   "outputs": [
    {
     "name": "stdout",
     "output_type": "stream",
     "text": [
      "30\n"
     ]
    }
   ],
   "source": [
    "addition()"
   ]
  },
  {
   "cell_type": "markdown",
   "id": "44b8ed73",
   "metadata": {},
   "source": [
    "- first mistake : you will forget the brackets while define function\n",
    "    \n",
    "             -  syntax error\n",
    "\n",
    "- second mistike :  you will forget the colon\n",
    "    \n",
    "           - syntax error\n",
    "\n",
    "- thired mistake : you will not give the indentation\n",
    "    \n",
    "          - indentation error\n",
    "\n",
    "- fourth mistake :  you will copy the code you will forgot to make the allinment\n",
    "    \n",
    "       - indentation error\n",
    "\n",
    "- fifth mistak : variable name and function name must be different\n",
    "    \n",
    "         - this error you will get in future when we create app\n",
    "\n",
    "- six mistake :  while calling the function you will forget the brackets\n",
    "\n",
    "\n",
    "    \n",
    "    \n",
    "\n",
    "**function also called a method**\n",
    "\n",
    "\n",
    "\n",
    "\n",
    "**whenver function is there brackets must**"
   ]
  },
  {
   "cell_type": "code",
   "execution_count": 17,
   "id": "fa6f3416",
   "metadata": {},
   "outputs": [],
   "source": [
    "def add1():\n",
    "    n1=eval(input(\"enter the number1\"))\n",
    "    n2=eval(input(\"enter the number2\"))\n",
    "    add=n1111+n2\n",
    "    print(add)  "
   ]
  },
  {
   "cell_type": "code",
   "execution_count": 18,
   "id": "8c068ba7",
   "metadata": {},
   "outputs": [
    {
     "name": "stdout",
     "output_type": "stream",
     "text": [
      "enter the number120\n",
      "enter the number230\n"
     ]
    },
    {
     "ename": "NameError",
     "evalue": "name 'n1111' is not defined",
     "output_type": "error",
     "traceback": [
      "\u001b[1;31m---------------------------------------------------------------------------\u001b[0m",
      "\u001b[1;31mNameError\u001b[0m                                 Traceback (most recent call last)",
      "Cell \u001b[1;32mIn[18], line 1\u001b[0m\n\u001b[1;32m----> 1\u001b[0m add1()\n",
      "Cell \u001b[1;32mIn[17], line 4\u001b[0m, in \u001b[0;36madd1\u001b[1;34m()\u001b[0m\n\u001b[0;32m      2\u001b[0m n1\u001b[38;5;241m=\u001b[39m\u001b[38;5;28meval\u001b[39m(\u001b[38;5;28minput\u001b[39m(\u001b[38;5;124m\"\u001b[39m\u001b[38;5;124menter the number1\u001b[39m\u001b[38;5;124m\"\u001b[39m))\n\u001b[0;32m      3\u001b[0m n2\u001b[38;5;241m=\u001b[39m\u001b[38;5;28meval\u001b[39m(\u001b[38;5;28minput\u001b[39m(\u001b[38;5;124m\"\u001b[39m\u001b[38;5;124menter the number2\u001b[39m\u001b[38;5;124m\"\u001b[39m))\n\u001b[1;32m----> 4\u001b[0m add\u001b[38;5;241m=\u001b[39mn1111\u001b[38;5;241m+\u001b[39mn2\n\u001b[0;32m      5\u001b[0m \u001b[38;5;28mprint\u001b[39m(add)\n",
      "\u001b[1;31mNameError\u001b[0m: name 'n1111' is not defined"
     ]
    }
   ],
   "source": [
    "add1()"
   ]
  },
  {
   "cell_type": "markdown",
   "id": "cb9a5cd2",
   "metadata": {},
   "source": [
    "**NOTE**\n",
    "\n",
    "-  when we diffine function will not given the error\n",
    "\n",
    "- error will display after callying tha function onl\n"
   ]
  },
  {
   "cell_type": "markdown",
   "id": "8f3c181b",
   "metadata": {},
   "source": [
    "# method-1\n",
    "\n",
    "**function with out orgument**\n",
    "\n",
    "- when we define function we will provide brackets\n",
    "\n",
    "- inside these brackets we can provide the value also\n",
    "\n",
    "- these value are called as **argument**  or  **parameters**\n",
    "\n",
    "- if we dont provide argument it is known as\n",
    "\n",
    "-  **function**"
   ]
  },
  {
   "cell_type": "code",
   "execution_count": null,
   "id": "8d8b6664",
   "metadata": {},
   "outputs": [],
   "source": [
    "# Q1) creat a function read three numbers find the average\n",
    "\n",
    "# Q2) create the function ask the user the bill amount\n",
    "\n",
    "   # enter the tip per\n",
    "    # calculate total bill\n",
    "    \n",
    "# Q3)   creat a function ask the user enter redius\n",
    "    # calculate the area of the circle\n",
    "    \n",
    "# Q4) creat a function ask the user enter breadth and heaght\n",
    "\n",
    "   # calculate area of the traingle\n",
    "    \n",
    "# Q5) creat a function ask the user enter a number find it is even ar odd\n",
    "\n",
    "# Q6) creat a function ask the user enter number find it is positive or nagetive or zero\n",
    "\n",
    "# Q7) creat a function ask the user enter three numbers find the greatest number"
   ]
  },
  {
   "cell_type": "code",
   "execution_count": null,
   "id": "37a43a54",
   "metadata": {},
   "outputs": [],
   "source": [
    " # Q1) creat a function read three numbers find the average"
   ]
  },
  {
   "cell_type": "code",
   "execution_count": 25,
   "id": "5a700e01",
   "metadata": {},
   "outputs": [],
   "source": [
    "def avareage():\n",
    "    number1=int(input(\"enter a number:\"))\n",
    "    number2=int(input(\"enter a number:\"))\n",
    "    number3=int(input(\"enter a number:\"))\n",
    "    total=number1+number2+number3\n",
    "    avg=total/3\n",
    "    print(f\"total of three numbers is {total}\")\n",
    "    print(f\"total of three numbers {avg}\")"
   ]
  },
  {
   "cell_type": "code",
   "execution_count": 26,
   "id": "389edc59",
   "metadata": {},
   "outputs": [
    {
     "name": "stdout",
     "output_type": "stream",
     "text": [
      "enter a number:30\n",
      "enter a number:50\n",
      "enter a number:10\n",
      "total of three numbers is 90\n",
      "total of three numbers 30.0\n"
     ]
    }
   ],
   "source": [
    "avareage()"
   ]
  },
  {
   "cell_type": "code",
   "execution_count": null,
   "id": "8261381c",
   "metadata": {},
   "outputs": [],
   "source": [
    "# Q2) create the function ask the user the bill amount\n",
    "\n",
    "   # enter the tip per\n",
    "    # calculate total bill"
   ]
  },
  {
   "cell_type": "code",
   "execution_count": 56,
   "id": "eecfcd62",
   "metadata": {},
   "outputs": [],
   "source": [
    "def billing():\n",
    "    bill=eval(input(\"enter the bill\"))\n",
    "    tip_per=eval(input(\"enter the tip in persantage:\"))\n",
    "    tip_amount=tip_per*bill/100\n",
    "    total_bill=bill+tip_amount\n",
    "    print(\"total_bill is:\",total_bill)"
   ]
  },
  {
   "cell_type": "code",
   "execution_count": 57,
   "id": "3032fa58",
   "metadata": {},
   "outputs": [
    {
     "name": "stdout",
     "output_type": "stream",
     "text": [
      "enter the bill9000\n",
      "enter the tip in persantage:10\n",
      "total_bill is: 9900.0\n"
     ]
    }
   ],
   "source": [
    "billing()"
   ]
  },
  {
   "cell_type": "code",
   "execution_count": null,
   "id": "7d9497b2",
   "metadata": {},
   "outputs": [],
   "source": [
    "#Q3) creat a function ask the user enter redius\n",
    "    # calculate the area of the circle\n",
    "    "
   ]
  },
  {
   "cell_type": "code",
   "execution_count": 4,
   "id": "3630e0d9",
   "metadata": {},
   "outputs": [],
   "source": [
    "def circle():\n",
    "    import math\n",
    "    pi=math.pi\n",
    "    radius=eval(input(\"enter the radius\"))\n",
    "    area=pi*radius*radius\n",
    "    area=round(area)\n",
    "    print(f\" the area of circel is {area}\")\n"
   ]
  },
  {
   "cell_type": "code",
   "execution_count": 5,
   "id": "7a51e862",
   "metadata": {},
   "outputs": [
    {
     "name": "stdout",
     "output_type": "stream",
     "text": [
      "enter the radius10\n",
      " the area of circel is 314\n"
     ]
    }
   ],
   "source": [
    "circle()"
   ]
  },
  {
   "cell_type": "code",
   "execution_count": null,
   "id": "09c0af3d",
   "metadata": {},
   "outputs": [],
   "source": [
    "# Q4) creat a function ask the user enter breadth and heaght\n",
    "\n",
    "   # calculate area of the traingle"
   ]
  },
  {
   "cell_type": "code",
   "execution_count": 62,
   "id": "91cb97cb",
   "metadata": {},
   "outputs": [],
   "source": [
    " def traingle():\n",
    "    b= eval(input(\"enter the briedth:\"))\n",
    "    h=eval(input(\"enter the heaight\"))\n",
    "    traingle=0.5*b*h\n",
    "    print(f\"area of the traingle {traingle}:\")"
   ]
  },
  {
   "cell_type": "code",
   "execution_count": 63,
   "id": "81abed7a",
   "metadata": {},
   "outputs": [
    {
     "name": "stdout",
     "output_type": "stream",
     "text": [
      "enter the briedth:12\n",
      "enter the heaight6\n",
      "area of the traingle 36.0:\n"
     ]
    }
   ],
   "source": [
    "traingle()"
   ]
  },
  {
   "cell_type": "code",
   "execution_count": null,
   "id": "15f32398",
   "metadata": {},
   "outputs": [],
   "source": [
    "# Q5) creat a function ask the user enter a number find it is even ar odd"
   ]
  },
  {
   "cell_type": "code",
   "execution_count": 65,
   "id": "6ca9642d",
   "metadata": {},
   "outputs": [],
   "source": [
    "def number():\n",
    "    import random\n",
    "    num=random.randint(10,100)\n",
    "    if num%2==0:\n",
    "        print(f\"the {num} is even\")\n",
    "    else:\n",
    "        print(f\"the{num} is odd\")"
   ]
  },
  {
   "cell_type": "code",
   "execution_count": 66,
   "id": "c283f5b0",
   "metadata": {},
   "outputs": [
    {
     "name": "stdout",
     "output_type": "stream",
     "text": [
      "the17 is odd\n"
     ]
    }
   ],
   "source": [
    "number()"
   ]
  },
  {
   "cell_type": "code",
   "execution_count": null,
   "id": "23e13ef6",
   "metadata": {},
   "outputs": [],
   "source": [
    "# Q6) creat a function ask the user enter number find it is positive or nagetive or zero\n"
   ]
  },
  {
   "cell_type": "code",
   "execution_count": 77,
   "id": "e9dde282",
   "metadata": {},
   "outputs": [],
   "source": [
    "def number():\n",
    "    num=eval(input(\"enter the number:\"))\n",
    "    if(num>0):\n",
    "        print(f\"the {num} is positive number:\")\n",
    "    elif(num==0):\n",
    "              print(f\"the{num} is zero:\")\n",
    "    else:\n",
    "                    print(f\"the {num} is negitave:\")\n",
    "              "
   ]
  },
  {
   "cell_type": "code",
   "execution_count": 78,
   "id": "449e19ab",
   "metadata": {},
   "outputs": [
    {
     "name": "stdout",
     "output_type": "stream",
     "text": [
      "enter the number:8\n",
      "the 8 is positive number:\n"
     ]
    }
   ],
   "source": [
    "number()"
   ]
  },
  {
   "cell_type": "code",
   "execution_count": null,
   "id": "2c10a309",
   "metadata": {},
   "outputs": [],
   "source": [
    "# Q7) creat a function ask the user enter three numbers find the greatest number"
   ]
  },
  {
   "cell_type": "code",
   "execution_count": 79,
   "id": "b559bbb6",
   "metadata": {},
   "outputs": [],
   "source": [
    "def number():\n",
    "    n1=eval(input(\"enter the number:\"))\n",
    "    n2=eval(input(\"enter the number:\"))\n",
    "    n3=eval(input(\"enter the number:\"))\n",
    "    if n1>n2:\n",
    "        print(f\"{n1} is greater:\")\n",
    "    elif n2>n3:\n",
    "        print(f\"{n2} is greater:\")\n",
    "    else :\n",
    "        print(f\"{n3} is greater:\")"
   ]
  },
  {
   "cell_type": "code",
   "execution_count": 80,
   "id": "97256ee3",
   "metadata": {},
   "outputs": [
    {
     "name": "stdout",
     "output_type": "stream",
     "text": [
      "enter the number:5\n",
      "enter the number:6\n",
      "enter the number:3\n",
      "6 is greater:\n"
     ]
    }
   ],
   "source": [
    "number()"
   ]
  },
  {
   "cell_type": "markdown",
   "id": "a97139f4",
   "metadata": {},
   "source": [
    "## method-2\n",
    "\n",
    "**function with argument**\n",
    "\n",
    "- how many variables are there in a given function\n",
    "\n",
    "   - input variable:user will provide\n",
    "        \n",
    "   - suppose n1 and n2 input variables\n",
    "\n",
    "   - output variables: we are creating a new variable using input variable\n",
    "        \n",
    "**concentreat on input variables**    "
   ]
  },
  {
   "cell_type": "code",
   "execution_count": null,
   "id": "0b236946",
   "metadata": {},
   "outputs": [],
   "source": [
    "# Q1) creat a function read three numbers find the average"
   ]
  },
  {
   "cell_type": "code",
   "execution_count": 54,
   "id": "bc22e03d",
   "metadata": {},
   "outputs": [
    {
     "name": "stdout",
     "output_type": "stream",
     "text": [
      "30\n"
     ]
    }
   ],
   "source": [
    "def add2(n1,n2):\n",
    "    add=n1+n2\n",
    "    print(add)\n",
    "    \n",
    "add2(10,20)"
   ]
  },
  {
   "cell_type": "code",
   "execution_count": null,
   "id": "bad88702",
   "metadata": {},
   "outputs": [],
   "source": [
    "# Q2) create the function ask the user the bill amount enter the tip per calculate total bill"
   ]
  },
  {
   "cell_type": "code",
   "execution_count": 29,
   "id": "629db662",
   "metadata": {},
   "outputs": [
    {
     "name": "stdout",
     "output_type": "stream",
     "text": [
      "the avg of 20, 50, 40 is 36.67\n"
     ]
    }
   ],
   "source": [
    "def avg1(n1,n2,n3):\n",
    "    avg=round((n1+n2+n3)/3,2)\n",
    "    print(f\"the avg of {n1}, {n2}, {n3} is {avg}\")\n",
    "avg1(20,50,40)    "
   ]
  },
  {
   "cell_type": "code",
   "execution_count": null,
   "id": "4af976eb",
   "metadata": {},
   "outputs": [],
   "source": [
    "# Q3)  creat a function ask the user enter redius calculate the area of the circle"
   ]
  },
  {
   "cell_type": "code",
   "execution_count": 83,
   "id": "44650687",
   "metadata": {},
   "outputs": [
    {
     "name": "stdout",
     "output_type": "stream",
     "text": [
      " the area of circel is 314\n"
     ]
    }
   ],
   "source": [
    "import math\n",
    "def circle1(radius):\n",
    "    pi=math.pi\n",
    "    area=pi*radius*radius\n",
    "    area=round(area)\n",
    "    print(f\" the area of circel is {area}\")\n",
    "circle1(10)    "
   ]
  },
  {
   "cell_type": "code",
   "execution_count": null,
   "id": "73726e9a",
   "metadata": {},
   "outputs": [],
   "source": [
    "# Q4) creat a function ask the user enter breadth and heaght\n",
    "\n",
    "   # calculate area of the traingle"
   ]
  },
  {
   "cell_type": "code",
   "execution_count": 85,
   "id": "ef302492",
   "metadata": {},
   "outputs": [
    {
     "name": "stdout",
     "output_type": "stream",
     "text": [
      "area of the traingle 75.0:\n"
     ]
    }
   ],
   "source": [
    "def traingle(b,h):\n",
    "    traingle=0.5*b*h\n",
    "    print(f\"area of the traingle {traingle}:\")\n",
    "traingle(15,10)    "
   ]
  },
  {
   "cell_type": "code",
   "execution_count": null,
   "id": "1b4e3196",
   "metadata": {},
   "outputs": [],
   "source": [
    "# Q5) creat a function ask the user enter a number find it is even ar odd"
   ]
  },
  {
   "cell_type": "code",
   "execution_count": 86,
   "id": "75f4bef6",
   "metadata": {},
   "outputs": [
    {
     "name": "stdout",
     "output_type": "stream",
     "text": [
      "the5 is odd\n"
     ]
    }
   ],
   "source": [
    "import random\n",
    "def number(num):\n",
    "    if num%2==0:\n",
    "        print(f\"the {num} is even\")\n",
    "    else:\n",
    "        print(f\"the{num} is odd\")\n",
    "number(5)        "
   ]
  },
  {
   "cell_type": "code",
   "execution_count": null,
   "id": "898db43c",
   "metadata": {},
   "outputs": [],
   "source": [
    "# Q6) creat a function ask the user enter number find it is positive or nagetive or zero"
   ]
  },
  {
   "cell_type": "code",
   "execution_count": 89,
   "id": "0aeb47a4",
   "metadata": {},
   "outputs": [
    {
     "name": "stdout",
     "output_type": "stream",
     "text": [
      "the 2 is positive number:\n"
     ]
    }
   ],
   "source": [
    "def number(num):\n",
    "    if(num>0):\n",
    "        print(f\"the {num} is positive number:\")\n",
    "    elif(num==0):\n",
    "              print(f\"the{num} is zero:\")\n",
    "    else:\n",
    "                    print(f\"the {num} is negitave:\")\n",
    "number(2)             "
   ]
  },
  {
   "cell_type": "code",
   "execution_count": null,
   "id": "0ab39e19",
   "metadata": {},
   "outputs": [],
   "source": [
    "# Q7) creat a function ask the user enter three numbers find the greatest number"
   ]
  },
  {
   "cell_type": "code",
   "execution_count": 90,
   "id": "a65ec9e4",
   "metadata": {},
   "outputs": [
    {
     "name": "stdout",
     "output_type": "stream",
     "text": [
      "20 is greater:\n"
     ]
    }
   ],
   "source": [
    "def number(n1,n2,n3):\n",
    "    if n1>n2:\n",
    "        print(f\"{n1} is greater:\")\n",
    "    elif n2>n3:\n",
    "        print(f\"{n2} is greater:\")\n",
    "    else :\n",
    "        print(f\"{n3} is greater:\")\n",
    "number(20,10,30)        "
   ]
  },
  {
   "cell_type": "markdown",
   "id": "df0b8e3d",
   "metadata": {},
   "source": [
    "- functions withougt arguments\n",
    "\n",
    "\n",
    "- function with arguments"
   ]
  },
  {
   "cell_type": "code",
   "execution_count": null,
   "id": "7bfabcf3",
   "metadata": {},
   "outputs": [],
   "source": [
    "#  with orgument\n",
    "\n",
    "def avareage():\n",
    "    number1=int(input(\"enter a number:\"))\n",
    "    number2=int(input(\"enter a number:\"))\n",
    "    number3=int(input(\"enter a number:\"))\n",
    "    total=number1+number2+number3\n",
    "    avg=total/3\n",
    "    print(f\"total of three numbers is {total}\")\n",
    "    print(f\"total of three numbers {avg}\")\n",
    "    \n",
    "    \n",
    "    \n",
    "# withougt orgument    \n",
    "    \n",
    "    def avg1(n1,n2,n3):\n",
    "    avg=round((n1+n2+n3)/3,2)\n",
    "    print(f\"the avg of {n1}, {n2}, {n3} is {avg}\")\n",
    "avg1(20,50,40)    "
   ]
  },
  {
   "cell_type": "code",
   "execution_count": 7,
   "id": "19de89e8",
   "metadata": {},
   "outputs": [
    {
     "name": "stdout",
     "output_type": "stream",
     "text": [
      "num1: 20\n",
      "num2: 50\n",
      "enter the number:30\n",
      "the avgerage of 20, 50, 30 is 33.33\n"
     ]
    }
   ],
   "source": [
    "def avgerage(num1,num2):\n",
    "    print(\"num1:\",num1)\n",
    "    print(\"num2:\",num2)\n",
    "    num3=eval(input(\"enter the number:\"))\n",
    "    avg=round((num1+num2+num3)/3,2)\n",
    "    print(f\"the avgerage of {num1}, {num2}, {num3} is {avg}\")\n",
    "avgerage(20,50,)    "
   ]
  },
  {
   "cell_type": "code",
   "execution_count": 8,
   "id": "bde02299",
   "metadata": {},
   "outputs": [
    {
     "name": "stdout",
     "output_type": "stream",
     "text": [
      "num1: 20\n",
      "enter the number:20\n",
      "enter the number:30\n",
      "the avgerage of 20, 20, 30 is 23.33\n"
     ]
    }
   ],
   "source": [
    "def avgerage(num1,num2):\n",
    "    print(\"num1:\",num1)\n",
    "    num2=eval(input(\"enter the number:\"))\n",
    "    num3=eval(input(\"enter the number:\"))\n",
    "    avg=round((num1+num2+num3)/3,2)\n",
    "    print(f\"the avgerage of {num1}, {num2}, {num3} is {avg}\")\n",
    "avgerage(20,50,)    "
   ]
  },
  {
   "cell_type": "code",
   "execution_count": null,
   "id": "c078e524",
   "metadata": {},
   "outputs": [],
   "source": [
    "def avgerage(num1,num2):\n",
    "    print(\"num1:\",num1)\n",
    "    num2=eval(input(\"enter the number:\"))\n",
    "    num3=eval(input(\"enter the number:\"))\n",
    "    avg=round((num1+num2+num3)/3,2)\n",
    "    print(f\"the avgerage of {num1}, {num2}, {num3} is {avg}\")\n",
    "avgerage(eval(input(\"enter the number1:\")))    "
   ]
  },
  {
   "cell_type": "markdown",
   "id": "3835f033",
   "metadata": {},
   "source": [
    "- hard coded\n",
    "\n",
    "\n",
    "- eval(input())\n",
    "\n",
    "\n",
    "- random.randint()\n"
   ]
  },
  {
   "cell_type": "code",
   "execution_count": null,
   "id": "3a9c5e78",
   "metadata": {},
   "outputs": [],
   "source": [
    "import random\n",
    "def avgerage(num1,num2):\n",
    "    print(\"num1:\",num1)\n",
    "    num2=eval(input(\"enter the num2:\"))\n",
    "    num3=eval(input(\"enter the num3:\"))\n",
    "    avg=round((num1+num2+num3)/3,2)\n",
    "    print(f\"the avgerage of {num1}, {num2}, {num3} is {avg}\")\n",
    "avgerage(random.randint(20,50))    "
   ]
  },
  {
   "cell_type": "code",
   "execution_count": null,
   "id": "af6bd228",
   "metadata": {},
   "outputs": [],
   "source": [
    "average(10)\n",
    "average(eval(inout(\"enter the number1:\")))\n",
    "average(random.randint(1,100))"
   ]
  },
  {
   "cell_type": "code",
   "execution_count": null,
   "id": "4626d8ad",
   "metadata": {},
   "outputs": [],
   "source": []
  },
  {
   "cell_type": "code",
   "execution_count": 1,
   "id": "698c88d8",
   "metadata": {},
   "outputs": [
    {
     "name": "stdout",
     "output_type": "stream",
     "text": [
      "enter the bill2000\n",
      "enter the tip in persantage:10\n",
      "total_bill is: 2200.0\n"
     ]
    }
   ],
   "source": [
    "def billing(bill_tip_per):\n",
    "    bill=eval(input(\"enter the bill\"))\n",
    "    tip_per=eval(input(\"enter the tip in persantage:\"))\n",
    "    tip_amount=tip_per*bill/100\n",
    "    total_bill=bill+tip_amount\n",
    "    print(\"total_bill is:\",total_bill)\n",
    "billing(\"2000,10\")    "
   ]
  },
  {
   "cell_type": "code",
   "execution_count": 4,
   "id": "76cbcf2a",
   "metadata": {},
   "outputs": [
    {
     "ename": "IndentationError",
     "evalue": "unexpected indent (3752738846.py, line 6)",
     "output_type": "error",
     "traceback": [
      "\u001b[1;36m  Cell \u001b[1;32mIn[4], line 6\u001b[1;36m\u001b[0m\n\u001b[1;33m    eval(input(\"enter the tip_per:\"))\u001b[0m\n\u001b[1;37m    ^\u001b[0m\n\u001b[1;31mIndentationError\u001b[0m\u001b[1;31m:\u001b[0m unexpected indent\n"
     ]
    }
   ],
   "source": [
    "def billing(bill_tip_per):\n",
    "    tip_amount=(bill*tip_per*bill)/100\n",
    "    total=bill+tip_amount\n",
    "    print(\"total\")\n",
    "billing(\"2000,10\") \n",
    "     eval(input(\"enter the tip_per:\"))"
   ]
  },
  {
   "cell_type": "code",
   "execution_count": 11,
   "id": "62876af5",
   "metadata": {},
   "outputs": [
    {
     "ename": "SyntaxError",
     "evalue": "invalid syntax. Perhaps you forgot a comma? (995562265.py, line 8)",
     "output_type": "error",
     "traceback": [
      "\u001b[1;36m  Cell \u001b[1;32mIn[11], line 8\u001b[1;36m\u001b[0m\n\u001b[1;33m    print(\"the total bill is:\",total bill)\u001b[0m\n\u001b[1;37m                               ^\u001b[0m\n\u001b[1;31mSyntaxError\u001b[0m\u001b[1;31m:\u001b[0m invalid syntax. Perhaps you forgot a comma?\n"
     ]
    }
   ],
   "source": [
    "import random\n",
    "def billing(bill,tip_per):\n",
    "    print(\"the bill is:\",bill)\n",
    "    print(\"the tip_per is:\",tip_per)\n",
    "    tip_amount=(tip_per*bill)/100\n",
    "    total_bill=bill+tip_amount\n",
    "    print(\"total_bill\")\n",
    "    print(\"the total_bill is:\",total_bill)\n",
    "billing(random.randint(1000,2000),random.randint(1,20))\n",
    "    "
   ]
  },
  {
   "cell_type": "code",
   "execution_count": null,
   "id": "915f3b0d",
   "metadata": {},
   "outputs": [],
   "source": [
    "# difault orgument\n",
    "\n",
    "  "
   ]
  },
  {
   "cell_type": "code",
   "execution_count": 12,
   "id": "1b667cec",
   "metadata": {},
   "outputs": [
    {
     "name": "stdout",
     "output_type": "stream",
     "text": [
      "the bill is: 1000\n",
      "the tip_per is: 20\n",
      "1200.0\n"
     ]
    }
   ],
   "source": [
    "def billing(bill,tip_per=20):\n",
    "    print(\"the bill is:\",bill)\n",
    "    print(\"the tip_per is:\",tip_per)\n",
    "    tip_amount=(bill*tip_per)/100\n",
    "    total=bill+tip_amount\n",
    "    print(total)\n",
    "billing(1000)    "
   ]
  },
  {
   "cell_type": "markdown",
   "id": "8e61f6f9",
   "metadata": {},
   "source": [
    "**case-1** :make all the orguments are difault\n",
    "\n",
    "\n",
    "- all the orguments are default\n",
    "\n",
    "\n",
    "- so no need to pass the value while calling the functin"
   ]
  },
  {
   "cell_type": "code",
   "execution_count": 14,
   "id": "8266f2e8",
   "metadata": {},
   "outputs": [
    {
     "name": "stdout",
     "output_type": "stream",
     "text": [
      "the bill is: 1000\n",
      "the tip_per is: 20\n",
      "1200.0\n"
     ]
    }
   ],
   "source": [
    "def billing(bill=1000,tip_per=20):\n",
    "    print(\"the bill is:\",bill)\n",
    "    print(\"the tip_per is:\",tip_per)\n",
    "    tip_amount=(bill*tip_per)/100\n",
    "    total=bill+tip_amount\n",
    "    print(total)\n",
    "    \n",
    "billing()    "
   ]
  },
  {
   "cell_type": "markdown",
   "id": "8c42e635",
   "metadata": {},
   "source": [
    "**case-2**: all default parameters should assign after non default arguments"
   ]
  },
  {
   "cell_type": "code",
   "execution_count": null,
   "id": "36a6f06c",
   "metadata": {},
   "outputs": [],
   "source": [
    "# here non defult arguments:  tip_per\n",
    "\n",
    "# assigned after default argument : bill=100\n",
    "\n",
    "# where we call the function function will assing the value  for bill only\n",
    "\n",
    "def billing(bill=1000,tip_per=20):\n",
    "    print(\"the bill is:\",bill)\n",
    "    print(\"the tip_per is:\",tip_per)\n",
    "    tip_amount=(bill*tip_per)/100\n",
    "    total=bill+tip_amount\n",
    "    print(total)\n",
    "    \n",
    "billing()    "
   ]
  },
  {
   "cell_type": "code",
   "execution_count": 16,
   "id": "2640018d",
   "metadata": {},
   "outputs": [
    {
     "name": "stdout",
     "output_type": "stream",
     "text": [
      "the bill is: 1000\n",
      "the tip_per is: 20\n",
      "1200.0\n"
     ]
    }
   ],
   "source": [
    "def billing(tip_per,bill=1000,):\n",
    "    print(\"the bill is:\",bill)\n",
    "    print(\"the tip_per is:\",tip_per)\n",
    "    tip_amount=(bill*tip_per)/100\n",
    "    total=bill+tip_amount\n",
    "    print(total)\n",
    "    \n",
    "billing(20)    "
   ]
  },
  {
   "cell_type": "markdown",
   "id": "57ff5986",
   "metadata": {},
   "source": [
    "**case-3**  :default arguments values will be overrride"
   ]
  },
  {
   "cell_type": "code",
   "execution_count": 17,
   "id": "fd9cba22",
   "metadata": {},
   "outputs": [
    {
     "name": "stdout",
     "output_type": "stream",
     "text": [
      "the bill is: 1000\n",
      "the tip_per is: 40\n",
      "1400.0\n"
     ]
    }
   ],
   "source": [
    "def billing(bill,tip_per=20):\n",
    "    print(\"the bill is:\",bill)\n",
    "    print(\"the tip_per is:\",tip_per)\n",
    "    tip_amount=(bill*tip_per)/100\n",
    "    total=bill+tip_amount\n",
    "    print(total)\n",
    "    \n",
    "billing(1000,40)    "
   ]
  },
  {
   "cell_type": "code",
   "execution_count": 18,
   "id": "fbdbee71",
   "metadata": {},
   "outputs": [
    {
     "name": "stdout",
     "output_type": "stream",
     "text": [
      "the bill is: 2000\n",
      "the tip_per is: 40\n",
      "2800.0\n"
     ]
    }
   ],
   "source": [
    "def billing(bill=1000,tip_per=20):\n",
    "    print(\"the bill is:\",bill)\n",
    "    print(\"the tip_per is:\",tip_per)\n",
    "    tip_amount=(bill*tip_per)/100\n",
    "    total=bill+tip_amount\n",
    "    print(total)\n",
    "    \n",
    "billing(2000,40)    "
   ]
  },
  {
   "cell_type": "code",
   "execution_count": 19,
   "id": "03a0e793",
   "metadata": {},
   "outputs": [
    {
     "name": "stdout",
     "output_type": "stream",
     "text": [
      "the bill is: 5000\n",
      "the tip_per is: 40\n",
      "7000.0\n"
     ]
    }
   ],
   "source": [
    "def billing(bill=1000,tip_per=20):\n",
    "    bill=5000\n",
    "    print(\"the bill is:\",bill)\n",
    "    print(\"the tip_per is:\",tip_per)\n",
    "    tip_amount=(bill*tip_per)/100\n",
    "    total=bill+tip_amount\n",
    "    print(total)\n",
    "    \n",
    "billing(2000,40)    "
   ]
  },
  {
   "cell_type": "code",
   "execution_count": null,
   "id": "5660afb1",
   "metadata": {},
   "outputs": [],
   "source": [
    "# step 1 :define the function  =  1000\n",
    "\n",
    "# step 2: call the function    =  2000\n",
    "\n",
    "# step 3: run the value        = 5000"
   ]
  },
  {
   "cell_type": "code",
   "execution_count": 20,
   "id": "d0aed254",
   "metadata": {},
   "outputs": [
    {
     "name": "stdout",
     "output_type": "stream",
     "text": [
      "the bill is: 5000\n",
      "the tip_per is: 40\n",
      "7000.0\n"
     ]
    }
   ],
   "source": [
    "def billing(bill=1000,tip_per=20):\n",
    "    bill=5000\n",
    "    print(\"the bill is:\",bill)\n",
    "    print(\"the tip_per is:\",tip_per)\n",
    "    tip_amount=(bill*tip_per)/100\n",
    "    total=bill+tip_amount\n",
    "    print(total)\n",
    "bill=7000   \n",
    "billing(2000,40)    "
   ]
  },
  {
   "cell_type": "code",
   "execution_count": 21,
   "id": "5da377cf",
   "metadata": {},
   "outputs": [
    {
     "name": "stdout",
     "output_type": "stream",
     "text": [
      "the bill is: 2000\n",
      "the tip_per is: 40\n",
      "2800.0\n"
     ]
    }
   ],
   "source": [
    "def billing(bill=1000,tip_per=20):\n",
    "    print(\"the bill is:\",bill)\n",
    "    print(\"the tip_per is:\",tip_per)\n",
    "    tip_amount=(bill*tip_per)/100\n",
    "    total=bill+tip_amount\n",
    "    print(total)\n",
    "bill=7000   \n",
    "billing(2000,40)    "
   ]
  },
  {
   "cell_type": "code",
   "execution_count": 22,
   "id": "f61d9ef0",
   "metadata": {},
   "outputs": [
    {
     "name": "stdout",
     "output_type": "stream",
     "text": [
      "the bill is: 5000\n",
      "the tip_per is: 40\n",
      "7000.0\n"
     ]
    }
   ],
   "source": [
    "bill=8000\n",
    "def billing(bill=1000,tip_per=20):\n",
    "    bill=5000\n",
    "    print(\"the bill is:\",bill)\n",
    "    print(\"the tip_per is:\",tip_per)\n",
    "    tip_amount=(bill*tip_per)/100\n",
    "    total=bill+tip_amount\n",
    "    print(total)\n",
    "bill=7000   \n",
    "billing(2000,40)    "
   ]
  },
  {
   "cell_type": "code",
   "execution_count": 25,
   "id": "ccc4c73f",
   "metadata": {},
   "outputs": [
    {
     "name": "stdout",
     "output_type": "stream",
     "text": [
      "the bill is: 40\n",
      "the tip_per is: 20\n",
      "48.0\n"
     ]
    }
   ],
   "source": [
    "bill=8000\n",
    "def billing(bill=1000,tip_per=20):\n",
    "    print(\"the bill is:\",bill)\n",
    "    print(\"the tip_per is:\",tip_per)\n",
    "    tip_amount=(bill*tip_per)/100\n",
    "    total=bill+tip_amount\n",
    "    print(total)\n",
    "bill=7000   \n",
    "billing(40)    "
   ]
  },
  {
   "cell_type": "markdown",
   "id": "26606d03",
   "metadata": {},
   "source": [
    "**global variable - local variable**\n",
    "\n",
    "\n",
    "\n",
    "- local variable means the variable define insude the function\n",
    "\n",
    "\n",
    "\n",
    "- local variable can not access out side the function\n",
    "\n",
    "\n",
    "\n",
    "- globel variable means the variable define outside the function\n",
    "\n",
    "\n",
    "\n",
    "- globel variable can access anywhere anytime\n",
    "\n"
   ]
  },
  {
   "cell_type": "code",
   "execution_count": 26,
   "id": "75f84671",
   "metadata": {},
   "outputs": [
    {
     "name": "stdout",
     "output_type": "stream",
     "text": [
      "30\n"
     ]
    }
   ],
   "source": [
    "def addition():\n",
    "    n1=10\n",
    "    n2=20\n",
    "    print(n1+n2)\n",
    "addition()    "
   ]
  },
  {
   "cell_type": "code",
   "execution_count": 33,
   "id": "288ae0dc",
   "metadata": {},
   "outputs": [
    {
     "ename": "NameError",
     "evalue": "name 'n1' is not defined",
     "output_type": "error",
     "traceback": [
      "\u001b[1;31m---------------------------------------------------------------------------\u001b[0m",
      "\u001b[1;31mNameError\u001b[0m                                 Traceback (most recent call last)",
      "Cell \u001b[1;32mIn[33], line 1\u001b[0m\n\u001b[1;32m----> 1\u001b[0m n1\n",
      "\u001b[1;31mNameError\u001b[0m: name 'n1' is not defined"
     ]
    }
   ],
   "source": [
    "n1"
   ]
  },
  {
   "cell_type": "code",
   "execution_count": 31,
   "id": "eb46021f",
   "metadata": {},
   "outputs": [
    {
     "name": "stdout",
     "output_type": "stream",
     "text": [
      "300\n"
     ]
    }
   ],
   "source": [
    "number11=100\n",
    "number22=200\n",
    "def addition():\n",
    "        print(number11+number22)\n",
    "addition()        "
   ]
  },
  {
   "cell_type": "code",
   "execution_count": 36,
   "id": "c37bfca1",
   "metadata": {},
   "outputs": [],
   "source": [
    "number11=100"
   ]
  },
  {
   "cell_type": "code",
   "execution_count": 37,
   "id": "30c06b50",
   "metadata": {},
   "outputs": [
    {
     "name": "stdout",
     "output_type": "stream",
     "text": [
      "number1: 1000\n",
      "number2: 2000\n",
      "3000\n"
     ]
    }
   ],
   "source": [
    "number11=100\n",
    "number22=200\n",
    "def addition():\n",
    "        print(\"number1:\",number11)\n",
    "        print(\"number2:\",number22)\n",
    "        add=number11+number22\n",
    "        print(add)\n",
    "number11=1000\n",
    "number22=2000\n",
    "\n",
    "addition()        "
   ]
  },
  {
   "cell_type": "code",
   "execution_count": 39,
   "id": "b6f437ea",
   "metadata": {},
   "outputs": [
    {
     "name": "stdout",
     "output_type": "stream",
     "text": [
      "number1: 10000\n",
      "number2: 20000\n",
      "30000\n"
     ]
    }
   ],
   "source": [
    "number11=100\n",
    "number22=200\n",
    "def addition():\n",
    "        number11=10000\n",
    "        number22=20000\n",
    "        print(\"number1:\",number11)\n",
    "        print(\"number2:\",number22)\n",
    "        add=number11+number22\n",
    "        print(add)\n",
    "number11=1000\n",
    "number22=2000\n",
    "\n",
    "addition()        "
   ]
  },
  {
   "cell_type": "markdown",
   "id": "66b84707",
   "metadata": {},
   "source": [
    "**special case**\n",
    "\n",
    "\n",
    "- we want to use the local variable outside function also"
   ]
  },
  {
   "cell_type": "code",
   "execution_count": 40,
   "id": "9a6ee3bf",
   "metadata": {},
   "outputs": [
    {
     "name": "stdout",
     "output_type": "stream",
     "text": [
      "30\n"
     ]
    }
   ],
   "source": [
    "def addition():\n",
    "    number_one=10\n",
    "    number_two=20\n",
    "    print(number_one+number_two)\n",
    "addition()    "
   ]
  },
  {
   "cell_type": "code",
   "execution_count": 44,
   "id": "da8a8b06",
   "metadata": {},
   "outputs": [
    {
     "name": "stdout",
     "output_type": "stream",
     "text": [
      "30\n"
     ]
    }
   ],
   "source": [
    "def addition():\n",
    "        global number_one\n",
    "        number_one=10\n",
    "        number_two=20\n",
    "        print(number_one+number_two)\n",
    "addition()    "
   ]
  },
  {
   "cell_type": "code",
   "execution_count": 45,
   "id": "5bb6b160",
   "metadata": {},
   "outputs": [
    {
     "data": {
      "text/plain": [
       "10"
      ]
     },
     "execution_count": 45,
     "metadata": {},
     "output_type": "execute_result"
    }
   ],
   "source": [
    "number_one"
   ]
  },
  {
   "cell_type": "markdown",
   "id": "5611d074",
   "metadata": {},
   "source": [
    "\n",
    "- functions without argument \n",
    "\n",
    "\n",
    "- functions with arguments\n",
    "\n",
    "\n",
    "- functions with difult argument\n",
    "\n",
    "\n",
    "- local verabile and global arguments\n",
    "\n",
    "\n",
    "- return statement\n",
    "\n",
    "\n",
    "- function in function\n",
    "\n",
    "\n",
    "**Average program**"
   ]
  },
  {
   "cell_type": "code",
   "execution_count": null,
   "id": "6a0f4379",
   "metadata": {},
   "outputs": [],
   "source": [
    "def avg1(n1,n2,n3):\n",
    "    avg=round((n1+n2+n3)/3,2)\n",
    "    print(f\"the avg of {n1}, {n2}, {n3} is {avg}\")\n",
    "avg1(20,50,40)    "
   ]
  },
  {
   "cell_type": "code",
   "execution_count": null,
   "id": "29dc3e49",
   "metadata": {},
   "outputs": [],
   "source": [
    "def avg():\n",
    "    n1=eval(input(\"enter the number:\"))\n",
    "    n2=eval(input(\"enter the number:\"))\n",
    "    n3=eval(inout(\"enter the number:\"))\n",
    "    avg=round((n1+n2+n3)/3)\n",
    "    avgerage1=round(average,2)\n",
    "    print(f\"the average of {n1},{n2} and {n3} is {avgerage 1}\")\n",
    "avg()          "
   ]
  },
  {
   "cell_type": "code",
   "execution_count": 3,
   "id": "77687f73",
   "metadata": {},
   "outputs": [
    {
     "name": "stdout",
     "output_type": "stream",
     "text": [
      "30\n"
     ]
    }
   ],
   "source": [
    "def add():\n",
    "    print(a+b)\n",
    "a=10\n",
    "b=20\n",
    "add()"
   ]
  },
  {
   "cell_type": "code",
   "execution_count": 7,
   "id": "8cd95dc0",
   "metadata": {},
   "outputs": [
    {
     "ename": "NameError",
     "evalue": "name 'a1' is not defined",
     "output_type": "error",
     "traceback": [
      "\u001b[1;31m---------------------------------------------------------------------------\u001b[0m",
      "\u001b[1;31mNameError\u001b[0m                                 Traceback (most recent call last)",
      "Cell \u001b[1;32mIn[7], line 4\u001b[0m\n\u001b[0;32m      1\u001b[0m \u001b[38;5;28;01mdef\u001b[39;00m \u001b[38;5;21madd\u001b[39m():\n\u001b[0;32m      2\u001b[0m     \u001b[38;5;28mprint\u001b[39m(a1\u001b[38;5;241m+\u001b[39mb1)\n\u001b[1;32m----> 4\u001b[0m add()\n\u001b[0;32m      5\u001b[0m a1\u001b[38;5;241m=\u001b[39m\u001b[38;5;241m10\u001b[39m\n\u001b[0;32m      6\u001b[0m b1\u001b[38;5;241m=\u001b[39m\u001b[38;5;241m20\u001b[39m\n",
      "Cell \u001b[1;32mIn[7], line 2\u001b[0m, in \u001b[0;36madd\u001b[1;34m()\u001b[0m\n\u001b[0;32m      1\u001b[0m \u001b[38;5;28;01mdef\u001b[39;00m \u001b[38;5;21madd\u001b[39m():\n\u001b[1;32m----> 2\u001b[0m     \u001b[38;5;28mprint\u001b[39m(a1\u001b[38;5;241m+\u001b[39mb1)\n",
      "\u001b[1;31mNameError\u001b[0m: name 'a1' is not defined"
     ]
    }
   ],
   "source": [
    "def add():\n",
    "    print(a1+b1)\n",
    "\n",
    "add()\n",
    "a1=10\n",
    "b1=20"
   ]
  },
  {
   "cell_type": "code",
   "execution_count": null,
   "id": "a45cb51a",
   "metadata": {},
   "outputs": [],
   "source": [
    "##########fail#######\n",
    "def add():\n",
    "    a=10\n",
    "    b=20\n",
    "    print(a+b)\n",
    "add()\n",
    "##################works#######\n",
    "def add():\n",
    "    print(a+b)\n",
    "    a=10\n",
    "    b=20\n",
    "add() \n",
    "####################works########\n",
    "a=10\n",
    "b=20\n",
    "def add()\n",
    "    print(a+b)\n",
    "add()    \n",
    "########################\n",
    "def add():\n",
    "    a=10\n",
    "    b=20\n",
    "    print(a+b)\n",
    "add()    "
   ]
  },
  {
   "cell_type": "code",
   "execution_count": 9,
   "id": "f7f419db",
   "metadata": {},
   "outputs": [
    {
     "name": "stdout",
     "output_type": "stream",
     "text": [
      "20\n"
     ]
    }
   ],
   "source": [
    "s=10\n",
    "def add():\n",
    "    s=20\n",
    "    print(s)\n",
    "add()    "
   ]
  },
  {
   "cell_type": "code",
   "execution_count": 10,
   "id": "2af4d709",
   "metadata": {},
   "outputs": [
    {
     "data": {
      "text/plain": [
       "10"
      ]
     },
     "execution_count": 10,
     "metadata": {},
     "output_type": "execute_result"
    }
   ],
   "source": [
    "s"
   ]
  },
  {
   "cell_type": "code",
   "execution_count": 11,
   "id": "1edafbc0",
   "metadata": {},
   "outputs": [
    {
     "name": "stdout",
     "output_type": "stream",
     "text": [
      "20\n"
     ]
    }
   ],
   "source": [
    "s=10\n",
    "def add():\n",
    "    global s\n",
    "    s=20\n",
    "    print(s)\n",
    "add()    "
   ]
  },
  {
   "cell_type": "code",
   "execution_count": 12,
   "id": "0741ec8b",
   "metadata": {},
   "outputs": [
    {
     "data": {
      "text/plain": [
       "20"
      ]
     },
     "execution_count": 12,
     "metadata": {},
     "output_type": "execute_result"
    }
   ],
   "source": [
    "s"
   ]
  },
  {
   "cell_type": "markdown",
   "id": "ae28fe21",
   "metadata": {},
   "source": [
    "**use the local variable out side function with out using globel keyword**"
   ]
  },
  {
   "cell_type": "code",
   "execution_count": null,
   "id": "231d2535",
   "metadata": {},
   "outputs": [],
   "source": []
  },
  {
   "cell_type": "code",
   "execution_count": null,
   "id": "ff335b3a",
   "metadata": {},
   "outputs": [],
   "source": []
  },
  {
   "cell_type": "markdown",
   "id": "00a2c9fa",
   "metadata": {},
   "source": [
    " **use the local variables out side function with out using global keyworeds**\n",
    "    \n",
    "    \n",
    "    - we aleready know that local variable canbt use outside the function directly\n",
    "    \n",
    "    \n",
    "    -  if we want to use local variable outside the function we need to use global keyboard\n",
    "    \n",
    "    \n",
    "    - we can also use the local variable with out using globel keyword\n",
    "    \n",
    "    \n",
    "    - that concept is called  **return**"
   ]
  },
  {
   "cell_type": "code",
   "execution_count": 13,
   "id": "8ea2d535",
   "metadata": {},
   "outputs": [
    {
     "name": "stdout",
     "output_type": "stream",
     "text": [
      "30\n"
     ]
    }
   ],
   "source": [
    "def add1():\n",
    "    num1=10\n",
    "    num2=20\n",
    "    print(num1+num2)\n",
    "    \n",
    "add1()    "
   ]
  },
  {
   "cell_type": "code",
   "execution_count": 16,
   "id": "20d85527",
   "metadata": {},
   "outputs": [
    {
     "name": "stdout",
     "output_type": "stream",
     "text": [
      "30\n"
     ]
    }
   ],
   "source": [
    "def add1():\n",
    "    num1=10\n",
    "    num2=20\n",
    "    sum=num1+num2\n",
    "    return (sum)\n",
    "    \n",
    "sum=add1()  \n",
    "print(sum)"
   ]
  },
  {
   "cell_type": "code",
   "execution_count": 20,
   "id": "94910382",
   "metadata": {},
   "outputs": [
    {
     "name": "stdout",
     "output_type": "stream",
     "text": [
      "30\n",
      "10\n",
      "20\n"
     ]
    }
   ],
   "source": [
    "def add1():\n",
    "    num1=10\n",
    "    num2=20\n",
    "    s11=num1+num2\n",
    "    return(s11,num1,num2)\n",
    "\n",
    "s11,num1,num2=add1()\n",
    "print(s11)\n",
    "print(num1)\n",
    "print(num2)"
   ]
  },
  {
   "cell_type": "code",
   "execution_count": 27,
   "id": "3a18aebe",
   "metadata": {},
   "outputs": [
    {
     "name": "stdout",
     "output_type": "stream",
     "text": [
      "enter the number:10\n",
      "enter the number:20\n",
      "enter the number:30\n",
      "the average of 10,20,30is 20.0\n"
     ]
    }
   ],
   "source": [
    "def average():\n",
    "    n1=eval(input(\"enter the number:\"))\n",
    "    n2=eval(input(\"enter the number:\"))\n",
    "    n3=eval(input(\"enter the number:\"))\n",
    "    avg=round((n1+n2+n3)/3,2)\n",
    "    print(f\"the average of {n1},{n2},{n3}is {avg}\")\n",
    "    return(average)\n",
    "AVERAGE=average()"
   ]
  },
  {
   "cell_type": "code",
   "execution_count": 28,
   "id": "8a891ed1",
   "metadata": {},
   "outputs": [
    {
     "name": "stdout",
     "output_type": "stream",
     "text": [
      "enter the number:10\n",
      "enter the number:20\n",
      "enter the number:30\n",
      "the average of 10,20,30is 20.0\n"
     ]
    },
    {
     "data": {
      "text/plain": [
       "<function __main__.average()>"
      ]
     },
     "execution_count": 28,
     "metadata": {},
     "output_type": "execute_result"
    }
   ],
   "source": [
    "average()"
   ]
  },
  {
   "cell_type": "code",
   "execution_count": 5,
   "id": "d311eda8",
   "metadata": {},
   "outputs": [],
   "source": [
    "def add():\n",
    "    n1=10\n",
    "    n2=20\n",
    "    a1=(n1+n2)\n",
    "    return(a1,n1)\n",
    "val1=add()\n",
    "    "
   ]
  },
  {
   "cell_type": "code",
   "execution_count": 6,
   "id": "fa02175b",
   "metadata": {},
   "outputs": [
    {
     "data": {
      "text/plain": [
       "(30, 10)"
      ]
     },
     "execution_count": 6,
     "metadata": {},
     "output_type": "execute_result"
    }
   ],
   "source": [
    "val1"
   ]
  },
  {
   "cell_type": "markdown",
   "id": "34eee429",
   "metadata": {},
   "source": [
    "**Function in Functions**"
   ]
  },
  {
   "cell_type": "code",
   "execution_count": 2,
   "id": "92a71e7a",
   "metadata": {},
   "outputs": [
    {
     "name": "stdout",
     "output_type": "stream",
     "text": [
      "==== calling geert1 function======\n",
      "good morning\n",
      "===== calling geert2 function=====\n",
      "good night\n"
     ]
    }
   ],
   "source": [
    "def geert1():\n",
    "    print(\"==== calling geert1 function======\")\n",
    "    print(\"good morning\")\n",
    "    \n",
    "def geert2():\n",
    "    print(\"===== calling geert2 function=====\")\n",
    "    print(\"good night\")\n",
    "geert1()\n",
    "geert2()\n",
    "    "
   ]
  },
  {
   "cell_type": "code",
   "execution_count": 7,
   "id": "bc1d36cc",
   "metadata": {},
   "outputs": [
    {
     "name": "stdout",
     "output_type": "stream",
     "text": [
      "==== calling geert1 function======\n",
      "===== calling geert2 function=====\n",
      "good night\n",
      "good morning\n"
     ]
    }
   ],
   "source": [
    "def geert1():\n",
    "    print(\"==== calling geert1 function======\")\n",
    "    geert2()\n",
    "    print(\"good morning\")\n",
    "    \n",
    "def geert2():\n",
    "    print(\"===== calling geert2 function=====\")\n",
    "    print(\"good night\")\n",
    "geert1()\n",
    "\n",
    "# step-1======== calling geert1 function=====\n",
    "#step-2======calling geert2 function======\n",
    "#step-3=====good night=====\n",
    "#step-4====good morning=====\n",
    "    "
   ]
  },
  {
   "cell_type": "code",
   "execution_count": 12,
   "id": "8f1ca528",
   "metadata": {},
   "outputs": [
    {
     "name": "stdout",
     "output_type": "stream",
     "text": [
      "===== calling geert2 function=====\n",
      "==== calling geert1 function======\n",
      "good morning\n",
      "good night\n"
     ]
    }
   ],
   "source": [
    "def geert1():\n",
    "    print(\"==== calling geert1 function======\")\n",
    "    print(\"good morning\")\n",
    "    \n",
    "def geert2():\n",
    "    print(\"===== calling geert2 function=====\")\n",
    "    geert1()\n",
    "    print(\"good night\")\n",
    "geert2()\n"
   ]
  },
  {
   "cell_type": "code",
   "execution_count": 16,
   "id": "aaec4125",
   "metadata": {},
   "outputs": [
    {
     "ename": "NameError",
     "evalue": "name 'a' is not defined",
     "output_type": "error",
     "traceback": [
      "\u001b[1;31m---------------------------------------------------------------------------\u001b[0m",
      "\u001b[1;31mNameError\u001b[0m                                 Traceback (most recent call last)",
      "Cell \u001b[1;32mIn[16], line 12\u001b[0m\n\u001b[0;32m      9\u001b[0m         add()\n\u001b[0;32m     10\u001b[0m         sub()\n\u001b[1;32m---> 12\u001b[0m math_operations()\n",
      "Cell \u001b[1;32mIn[16], line 9\u001b[0m, in \u001b[0;36mmath_operations\u001b[1;34m()\u001b[0m\n\u001b[0;32m      8\u001b[0m \u001b[38;5;28;01mdef\u001b[39;00m \u001b[38;5;21mmath_operations\u001b[39m():\n\u001b[1;32m----> 9\u001b[0m         add()\n\u001b[0;32m     10\u001b[0m         sub()\n",
      "Cell \u001b[1;32mIn[16], line 2\u001b[0m, in \u001b[0;36madd\u001b[1;34m()\u001b[0m\n\u001b[0;32m      1\u001b[0m \u001b[38;5;28;01mdef\u001b[39;00m \u001b[38;5;21madd\u001b[39m():\n\u001b[1;32m----> 2\u001b[0m     \u001b[38;5;28mprint\u001b[39m(a\u001b[38;5;241m+\u001b[39mb)\n",
      "\u001b[1;31mNameError\u001b[0m: name 'a' is not defined"
     ]
    }
   ],
   "source": [
    "def add():\n",
    "    print(a+b)\n",
    "    \n",
    "def sub():\n",
    "    print(a-b)\n",
    "    \n",
    "\n",
    "def math_operations():\n",
    "        add()\n",
    "        sub()\n",
    "    \n",
    "math_operations()   "
   ]
  },
  {
   "cell_type": "code",
   "execution_count": 20,
   "id": "1caa0b3e",
   "metadata": {},
   "outputs": [
    {
     "name": "stdout",
     "output_type": "stream",
     "text": [
      "30\n",
      "-10\n"
     ]
    }
   ],
   "source": [
    "### local variable#######\n",
    "\n",
    "def add():\n",
    "    a=10\n",
    "    b=20\n",
    "    print(a+b)\n",
    "def sub():\n",
    "    a=10\n",
    "    b=20\n",
    "    print(a-b)\n",
    "def math_operations():\n",
    "        add()\n",
    "        sub()\n",
    "    \n",
    "math_operations()   "
   ]
  },
  {
   "cell_type": "code",
   "execution_count": 17,
   "id": "7fd0202c",
   "metadata": {},
   "outputs": [
    {
     "name": "stdout",
     "output_type": "stream",
     "text": [
      "30\n",
      "-10\n"
     ]
    }
   ],
   "source": [
    "###########global variable#############\n",
    "\n",
    "a=10\n",
    "b=20\n",
    "def add():\n",
    "    print(a+b)\n",
    "    \n",
    "def sub():\n",
    "    print(a-b)\n",
    "    \n",
    "\n",
    "def math_operations():\n",
    "        add()\n",
    "        sub()\n",
    "    \n",
    "math_operations()   "
   ]
  },
  {
   "cell_type": "code",
   "execution_count": 22,
   "id": "9c8e524e",
   "metadata": {},
   "outputs": [
    {
     "name": "stdout",
     "output_type": "stream",
     "text": [
      "30\n",
      "-10\n"
     ]
    }
   ],
   "source": [
    "########## perameters############\n",
    "\n",
    "def add(a1,b1):\n",
    "    print(a1+b1)\n",
    "    \n",
    "def sub(a1,b1):\n",
    "    print(a1-b1)\n",
    "    \n",
    "\n",
    "def math_operations(a1,b1):\n",
    "        add(a1,b1)\n",
    "        sub(a1,b1)\n",
    "    \n",
    "math_operations(10,20)   "
   ]
  },
  {
   "cell_type": "code",
   "execution_count": null,
   "id": "52530b94",
   "metadata": {},
   "outputs": [],
   "source": [
    "def avg(A,B):\n",
    "    val=(n1+n2)/2"
   ]
  },
  {
   "cell_type": "code",
   "execution_count": null,
   "id": "b39c7abb",
   "metadata": {},
   "outputs": [],
   "source": [
    "# calcilater program \n",
    "# you need to creat 4 functions\n",
    "# add function\n",
    "# sub function\n",
    "# mil function\n",
    "# div function\n",
    "\n",
    "# you need to convery to the user\n",
    "# operation-1 then then perform addition program\n",
    "# operation-2 then then perform sub program\n",
    "# operation-3 then then perform mul program\n",
    " # operation-4 then then perform div program\n",
    "    \n",
    "# entire if-elif-else you need to keep in big function    \n",
    "    \n",
    "        # ask the user  entere the operation   \n",
    "        #  if operation-1 then then perform addition program\n",
    "        # if  operation-2 then then perform sub program\n",
    "        #  if operation-3 then then perform mul program\n",
    "         # if operation-4 then then perform div program\n",
    "\n",
    "               "
   ]
  },
  {
   "cell_type": "code",
   "execution_count": 68,
   "id": "ff6da336",
   "metadata": {},
   "outputs": [
    {
     "name": "stdout",
     "output_type": "stream",
     "text": [
      "80\n",
      "-20\n",
      "1500\n",
      "0.6\n"
     ]
    }
   ],
   "source": [
    "def addition():\n",
    "    if operation==1:\n",
    "        add=(a1,b1)\n",
    "        print(a1,b1)\n",
    "        \n",
    "    elif operation==2:\n",
    "        sub=(a1,b1)\n",
    "        print(a1,b1)\n",
    "        \n",
    "    elif operation==3:\n",
    "        mul=(a1,b1)\n",
    "        print(a1,b1)\n",
    "        \n",
    "    elif operation==4:\n",
    "        div=(a1,b1)\n",
    "        print(a1,b1)\n",
    "    else:\n",
    "        def math_operation(a1,b1):\n",
    "            add(a1,b1)\n",
    "            sub(a1,b1)\n",
    "            mul(a1,b1)\n",
    "            div(a1,b1)\n",
    "    \n",
    "math_operation(30,50)    \n",
    "    \n",
    "    \n",
    "  "
   ]
  },
  {
   "cell_type": "code",
   "execution_count": 81,
   "id": "ea06cf66",
   "metadata": {},
   "outputs": [
    {
     "name": "stdout",
     "output_type": "stream",
     "text": [
      "enter the number:20\n",
      "enter the number:10\n",
      "''\n",
      "             for addition press 1\n",
      "             for subtraction press 2\n",
      "             for multiplication press 3\n",
      "             for division press 4\n",
      "             3\n"
     ]
    },
    {
     "data": {
      "text/plain": [
       "200"
      ]
     },
     "execution_count": 81,
     "metadata": {},
     "output_type": "execute_result"
    }
   ],
   "source": [
    "def math_operation():\n",
    "    a=int(input(\"enter the number:\"))\n",
    "    b=int(input(\"enter the number:\"))\n",
    "    operation = int(input('''''\n",
    "             for addition press 1\n",
    "             for subtraction press 2\n",
    "             for multiplication press 3\n",
    "             for division press 4\n",
    "             ''''')) \n",
    "             \n",
    "    if operation == 1:\n",
    "         return a+b\n",
    "    elif operation == 2:\n",
    "          return a-b\n",
    "    elif operation == 3:\n",
    "           return a*b\n",
    "    elif operation == 4:\n",
    "          return a/b\n",
    "                          \n",
    "    else:\n",
    "        print(f\"not a valid opareter:\")\n",
    "                           \n",
    "math_operation()          "
   ]
  },
  {
   "cell_type": "code",
   "execution_count": null,
   "id": "9f88e093",
   "metadata": {},
   "outputs": [],
   "source": []
  },
  {
   "cell_type": "code",
   "execution_count": null,
   "id": "efbaa0de",
   "metadata": {},
   "outputs": [],
   "source": []
  }
 ],
 "metadata": {
  "kernelspec": {
   "display_name": "Python 3 (ipykernel)",
   "language": "python",
   "name": "python3"
  },
  "language_info": {
   "codemirror_mode": {
    "name": "ipython",
    "version": 3
   },
   "file_extension": ".py",
   "mimetype": "text/x-python",
   "name": "python",
   "nbconvert_exporter": "python",
   "pygments_lexer": "ipython3",
   "version": "3.11.7"
  }
 },
 "nbformat": 4,
 "nbformat_minor": 5
}
